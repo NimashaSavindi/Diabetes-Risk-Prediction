{
  "nbformat": 4,
  "nbformat_minor": 0,
  "metadata": {
    "colab": {
      "provenance": [],
      "authorship_tag": "ABX9TyNkHVePGY42dhJnykFcrAkf",
      "include_colab_link": true
    },
    "kernelspec": {
      "name": "python3",
      "display_name": "Python 3"
    },
    "language_info": {
      "name": "python"
    }
  },
  "cells": [
    {
      "cell_type": "markdown",
      "metadata": {
        "id": "view-in-github",
        "colab_type": "text"
      },
      "source": [
        "<a href=\"https://colab.research.google.com/github/NimashaSavindi/Diabetes-Risk-Prediction/blob/main/Final_DRP.ipynb\" target=\"_parent\"><img src=\"https://colab.research.google.com/assets/colab-badge.svg\" alt=\"Open In Colab\"/></a>"
      ]
    },
    {
      "cell_type": "markdown",
      "source": [
        "Dataset Completeness & Initial Formatting"
      ],
      "metadata": {
        "id": "MJKTRVbVzzC9"
      }
    },
    {
      "cell_type": "code",
      "execution_count": null,
      "metadata": {
        "id": "mhDTLkE2zEPV"
      },
      "outputs": [],
      "source": [
        "import pandas as pd\n",
        "df = pd.read_csv(\"/content/Diabetes Risk Assessment – Anonymous Health Survey  (Responses) - Form Responses 2 (1).csv\")"
      ]
    },
    {
      "cell_type": "code",
      "source": [
        "print(df.shape)"
      ],
      "metadata": {
        "colab": {
          "base_uri": "https://localhost:8080/"
        },
        "id": "UTvTkkYEz49G",
        "outputId": "b20c6ef7-9bf6-4f3b-f0c7-59f2dba5d995"
      },
      "execution_count": null,
      "outputs": [
        {
          "output_type": "stream",
          "name": "stdout",
          "text": [
            "(288, 15)\n"
          ]
        }
      ]
    },
    {
      "cell_type": "code",
      "source": [
        "print(df.info())"
      ],
      "metadata": {
        "colab": {
          "base_uri": "https://localhost:8080/"
        },
        "id": "1qdSgOmGz7QY",
        "outputId": "6c303d32-6d61-48c9-89ab-31dcc67c0c58"
      },
      "execution_count": null,
      "outputs": [
        {
          "output_type": "stream",
          "name": "stdout",
          "text": [
            "<class 'pandas.core.frame.DataFrame'>\n",
            "RangeIndex: 288 entries, 0 to 287\n",
            "Data columns (total 15 columns):\n",
            " #   Column                                                                        Non-Null Count  Dtype \n",
            "---  ------                                                                        --------------  ----- \n",
            " 0   Column 1                                                                      288 non-null    object\n",
            " 1   Age                                                                           288 non-null    int64 \n",
            " 2   Gender                                                                        288 non-null    object\n",
            " 3   Weight(kg)                                                                    288 non-null    object\n",
            " 4   Height(cm)                                                                    288 non-null    object\n",
            " 5   Physical Activity Level                                                       288 non-null    object\n",
            " 6     How would you describe your typical diet?                                   288 non-null    object\n",
            " 7     Do you have a family history of diabetes?                                   288 non-null    object\n",
            " 8   Have you been diagnosed with hypertension(high blood pressure)?               288 non-null    object\n",
            " 9   Have you been diagnosed with heart disease?                                   288 non-null    object\n",
            " 10  Smoking Habits?                                                               288 non-null    object\n",
            " 11  Average hours of sleep per night                                              288 non-null    object\n",
            " 12  Alcohol Consumption                                                           288 non-null    object\n",
            " 13  Do you usually eat your meals at regular times each day?                      288 non-null    object\n",
            " 14  How often do you feel stressed or emotionally overwhelmed in a typical week?  288 non-null    object\n",
            "dtypes: int64(1), object(14)\n",
            "memory usage: 33.9+ KB\n",
            "None\n"
          ]
        }
      ]
    },
    {
      "cell_type": "markdown",
      "source": [
        "Clean Column Names Early.Removes extra spaces"
      ],
      "metadata": {
        "id": "cunwjpl20MNy"
      }
    },
    {
      "cell_type": "code",
      "source": [
        "df.columns = df.columns.str.strip()"
      ],
      "metadata": {
        "id": "YeqnO7Q7z-J-"
      },
      "execution_count": null,
      "outputs": []
    },
    {
      "cell_type": "markdown",
      "source": [
        "data handleing"
      ],
      "metadata": {
        "id": "ZJcHvl2x0VJD"
      }
    },
    {
      "cell_type": "markdown",
      "source": [
        "Remove non-numeric characters and convert to float"
      ],
      "metadata": {
        "id": "P7OuEAi10a2x"
      }
    },
    {
      "cell_type": "code",
      "source": [
        "df[\"Height(cm)\"] = df[\"Height(cm)\"].str.extract('(\\d+\\.?\\d*)').astype(float)\n",
        "df[\"Weight(kg)\"] = df[\"Weight(kg)\"].str.extract('(\\d+\\.?\\d*)').astype(float)"
      ],
      "metadata": {
        "id": "oAz3R5X_0Rxr",
        "colab": {
          "base_uri": "https://localhost:8080/"
        },
        "outputId": "7fd013c5-1381-4143-c7e5-974bdbb1ff96"
      },
      "execution_count": null,
      "outputs": [
        {
          "output_type": "stream",
          "name": "stderr",
          "text": [
            "<>:1: SyntaxWarning: invalid escape sequence '\\d'\n",
            "<>:2: SyntaxWarning: invalid escape sequence '\\d'\n",
            "<>:1: SyntaxWarning: invalid escape sequence '\\d'\n",
            "<>:2: SyntaxWarning: invalid escape sequence '\\d'\n",
            "/tmp/ipython-input-1170781582.py:1: SyntaxWarning: invalid escape sequence '\\d'\n",
            "  df[\"Height(cm)\"] = df[\"Height(cm)\"].str.extract('(\\d+\\.?\\d*)').astype(float)\n",
            "/tmp/ipython-input-1170781582.py:2: SyntaxWarning: invalid escape sequence '\\d'\n",
            "  df[\"Weight(kg)\"] = df[\"Weight(kg)\"].str.extract('(\\d+\\.?\\d*)').astype(float)\n"
          ]
        }
      ]
    },
    {
      "cell_type": "markdown",
      "source": [
        "Clean Sleep Hours if values are like \"6-7 hours\".Replace ranges like \"6-7 hours\" with average (6.5)"
      ],
      "metadata": {
        "id": "kvMpAVXn1b3k"
      }
    },
    {
      "cell_type": "code",
      "source": [
        "print(df[\"Average hours of sleep per night\"].unique())"
      ],
      "metadata": {
        "colab": {
          "base_uri": "https://localhost:8080/"
        },
        "id": "30BEaWgB1YgF",
        "outputId": "af7ad826-14cb-4112-c2b1-57d48b737499"
      },
      "execution_count": null,
      "outputs": [
        {
          "output_type": "stream",
          "name": "stdout",
          "text": [
            "['6-7' '6' '5-6 hr' '5' '5-6h' '7' '5 hours' '4hours' '3 hours per day '\n",
            " '4 - 6 hours' '6 hours ' '8' '4/5 hours ' '7 hours' '5 or 6' '5hr' '9'\n",
            " '8hr' '6 hours' '5 hours ' '6 Hours' '6 h' '5h' '7h' '4h' '6h' '4' '3'\n",
            " '3h']\n"
          ]
        }
      ]
    },
    {
      "cell_type": "code",
      "source": [
        "df[\"Average hours of sleep per night\"] = df[\"Average hours of sleep per night\"].astype(str).str.strip()\n",
        "\n",
        "sleep_mapping = {\n",
        "    \"Less than 5 hours\": 4.5,\n",
        "    \"More than 8 hours\": 9,\n",
        "    \"5-6\": 5.5,\n",
        "    \"5-6 hr\": 5.5,\n",
        "    \"6-7\": 6.5,\n",
        "    \"6-7 hours\": 6.5,\n",
        "    \"6\": 6,\n",
        "    \"7-8\": 7.5,\n",
        "    \"7-8 hours\": 7.5,\n",
        "    \"7\": 7,\n",
        "    \"8\": 8,\n",
        "    \"9\": 9\n",
        "}\n",
        "\n",
        "df[\"Average hours of sleep per night\"] = df[\"Average hours of sleep per night\"].replace(sleep_mapping)"
      ],
      "metadata": {
        "id": "9HzAtIxQ1KNe"
      },
      "execution_count": null,
      "outputs": []
    },
    {
      "cell_type": "code",
      "source": [
        "df[\"Average hours of sleep per night\"] = df[\"Average hours of sleep per night\"].astype(str).str.strip().str.lower()"
      ],
      "metadata": {
        "id": "6T0qVytD1jXO"
      },
      "execution_count": null,
      "outputs": []
    },
    {
      "cell_type": "code",
      "source": [
        "import re\n",
        "\n",
        "def clean_sleep_value(val):\n",
        "    val = val.strip().lower()\n",
        "\n",
        "    # Handle known string patterns first\n",
        "    if \"less\" in val:\n",
        "        return 4.5\n",
        "    if \"more\" in val:\n",
        "        return 9\n",
        "    if \"or\" in val:\n",
        "        return sum([int(x) for x in re.findall(r'\\d+', val)]) / 2\n",
        "    if re.match(r'^\\d+$', val):  # simple numeric\n",
        "        return float(val)\n",
        "\n",
        "    # Extract numbers from ranges like \"5-6\", \"4 - 6 hours\"\n",
        "    nums = re.findall(r'\\d+', val)\n",
        "    if len(nums) == 1:\n",
        "        return float(nums[0])\n",
        "    elif len(nums) == 2:\n",
        "        return sum([int(n) for n in nums]) / 2\n",
        "    else:\n",
        "        return None  # fallback if we can't parse it"
      ],
      "metadata": {
        "id": "Ptg28p091mSz"
      },
      "execution_count": null,
      "outputs": []
    },
    {
      "cell_type": "code",
      "source": [
        "df[\"Average hours of sleep per night\"] = df[\"Average hours of sleep per night\"].apply(clean_sleep_value)\n"
      ],
      "metadata": {
        "id": "27cRYHRP1o5k"
      },
      "execution_count": null,
      "outputs": []
    },
    {
      "cell_type": "code",
      "source": [
        "print(df[\"Average hours of sleep per night\"].unique())\n",
        "print(df[\"Average hours of sleep per night\"].dtype)"
      ],
      "metadata": {
        "colab": {
          "base_uri": "https://localhost:8080/"
        },
        "id": "UwgiIh2w1rrn",
        "outputId": "d8cd7272-7128-4a2b-f315-7915aaba3e6f"
      },
      "execution_count": null,
      "outputs": [
        {
          "output_type": "stream",
          "name": "stdout",
          "text": [
            "[5.5 6.  5.  7.  4.  3.  8.  4.5 9. ]\n",
            "float64\n"
          ]
        }
      ]
    },
    {
      "cell_type": "markdown",
      "source": [
        "Feature Engineering"
      ],
      "metadata": {
        "id": "roa527In10ns"
      }
    },
    {
      "cell_type": "markdown",
      "source": [
        "Create BMI Feature"
      ],
      "metadata": {
        "id": "_VJVn5vD1zAL"
      }
    },
    {
      "cell_type": "code",
      "source": [
        "df[\"Height(m)\"] = df[\"Height(cm)\"] / 100\n",
        "df[\"BMI\"] = df[\"Weight(kg)\"] / (df[\"Height(m)\"]**2)\n",
        "\n",
        "def bmi_category(bmi):\n",
        "    if bmi < 18.5:\n",
        "        return \"Underweight\"\n",
        "    elif bmi < 25:\n",
        "        return \"Normal\"\n",
        "    elif bmi < 30:\n",
        "        return \"Overweight\"\n",
        "    else:\n",
        "        return \"Obese\"\n",
        "\n",
        "df[\"BMICategory\"] = df[\"BMI\"].apply(bmi_category)"
      ],
      "metadata": {
        "id": "1uddr8sm1vmV"
      },
      "execution_count": null,
      "outputs": []
    },
    {
      "cell_type": "code",
      "source": [
        "df.head()"
      ],
      "metadata": {
        "colab": {
          "base_uri": "https://localhost:8080/",
          "height": 816
        },
        "id": "4XX5DKIt17LD",
        "outputId": "f42a4712-daf8-4db7-a8a0-e3e2adf4af7b"
      },
      "execution_count": null,
      "outputs": [
        {
          "output_type": "execute_result",
          "data": {
            "text/plain": [
              "             Column 1  Age  Gender  Weight(kg)  Height(cm)  \\\n",
              "0  7/12/2025 20:42:04   24  Female        48.0       157.0   \n",
              "1  7/12/2025 21:09:42   24  Female        45.0       165.0   \n",
              "2  7/12/2025 21:13:29   25  Female        64.0       163.0   \n",
              "3  7/12/2025 21:14:58   26  Female        52.0       157.0   \n",
              "4  7/12/2025 21:25:54   25  Female        48.0       149.0   \n",
              "\n",
              "                             Physical Activity Level  \\\n",
              "0       Low (Little to no regular physical activity)   \n",
              "1       Low (Little to no regular physical activity)   \n",
              "2  Moderate – Some physical activity 1–3 days a w...   \n",
              "3  Moderate – Some physical activity 1–3 days a w...   \n",
              "4  Moderate – Some physical activity 1–3 days a w...   \n",
              "\n",
              "           How would you describe your typical diet?  \\\n",
              "0  Unhealthy (Mostly high-sugar, high-fat, or pro...   \n",
              "1  Moderately Healthy (Mixed diet with occasional...   \n",
              "2  Moderately Healthy (Mixed diet with occasional...   \n",
              "3  Moderately Healthy (Mixed diet with occasional...   \n",
              "4  Healthy (Balanced diet with mix of carbs, prot...   \n",
              "\n",
              "  Do you have a family history of diabetes?  \\\n",
              "0                                        No   \n",
              "1                                        No   \n",
              "2                                        No   \n",
              "3                                       Yes   \n",
              "4                                        No   \n",
              "\n",
              "  Have you been diagnosed with hypertension(high blood pressure)?  \\\n",
              "0                                                 No                \n",
              "1                                                 No                \n",
              "2                                                 No                \n",
              "3                                                 No                \n",
              "4                                                 No                \n",
              "\n",
              "  Have you been diagnosed with heart disease? Smoking Habits?  \\\n",
              "0                                          No  I do not smoke   \n",
              "1                                          No  I do not smoke   \n",
              "2                                         yes  I do not smoke   \n",
              "3                                          No  I do not smoke   \n",
              "4                                          No  I do not smoke   \n",
              "\n",
              "   Average hours of sleep per night            Alcohol Consumption  \\\n",
              "0                               5.5  None (I do not drink alcohol)   \n",
              "1                               6.0  None (I do not drink alcohol)   \n",
              "2                               5.0  None (I do not drink alcohol)   \n",
              "3                               5.0  None (I do not drink alcohol)   \n",
              "4                               5.5  None (I do not drink alcohol)   \n",
              "\n",
              "  Do you usually eat your meals at regular times each day?  \\\n",
              "0                                 I often skip meals         \n",
              "1                                No, meal times vary         \n",
              "2                                No, meal times vary         \n",
              "3                                No, meal times vary         \n",
              "4                       Yes, mostly at the same time         \n",
              "\n",
              "  How often do you feel stressed or emotionally overwhelmed in a typical week?  \\\n",
              "0                                          Sometimes                             \n",
              "1                                          Sometimes                             \n",
              "2                                              Often                             \n",
              "3                                          Sometimes                             \n",
              "4                                          Sometimes                             \n",
              "\n",
              "   Height(m)        BMI  BMICategory  \n",
              "0       1.57  19.473407       Normal  \n",
              "1       1.65  16.528926  Underweight  \n",
              "2       1.63  24.088223       Normal  \n",
              "3       1.57  21.096191       Normal  \n",
              "4       1.49  21.620648       Normal  "
            ],
            "text/html": [
              "\n",
              "  <div id=\"df-352ecdad-1631-4b4b-87f6-552bc230cb59\" class=\"colab-df-container\">\n",
              "    <div>\n",
              "<style scoped>\n",
              "    .dataframe tbody tr th:only-of-type {\n",
              "        vertical-align: middle;\n",
              "    }\n",
              "\n",
              "    .dataframe tbody tr th {\n",
              "        vertical-align: top;\n",
              "    }\n",
              "\n",
              "    .dataframe thead th {\n",
              "        text-align: right;\n",
              "    }\n",
              "</style>\n",
              "<table border=\"1\" class=\"dataframe\">\n",
              "  <thead>\n",
              "    <tr style=\"text-align: right;\">\n",
              "      <th></th>\n",
              "      <th>Column 1</th>\n",
              "      <th>Age</th>\n",
              "      <th>Gender</th>\n",
              "      <th>Weight(kg)</th>\n",
              "      <th>Height(cm)</th>\n",
              "      <th>Physical Activity Level</th>\n",
              "      <th>How would you describe your typical diet?</th>\n",
              "      <th>Do you have a family history of diabetes?</th>\n",
              "      <th>Have you been diagnosed with hypertension(high blood pressure)?</th>\n",
              "      <th>Have you been diagnosed with heart disease?</th>\n",
              "      <th>Smoking Habits?</th>\n",
              "      <th>Average hours of sleep per night</th>\n",
              "      <th>Alcohol Consumption</th>\n",
              "      <th>Do you usually eat your meals at regular times each day?</th>\n",
              "      <th>How often do you feel stressed or emotionally overwhelmed in a typical week?</th>\n",
              "      <th>Height(m)</th>\n",
              "      <th>BMI</th>\n",
              "      <th>BMICategory</th>\n",
              "    </tr>\n",
              "  </thead>\n",
              "  <tbody>\n",
              "    <tr>\n",
              "      <th>0</th>\n",
              "      <td>7/12/2025 20:42:04</td>\n",
              "      <td>24</td>\n",
              "      <td>Female</td>\n",
              "      <td>48.0</td>\n",
              "      <td>157.0</td>\n",
              "      <td>Low (Little to no regular physical activity)</td>\n",
              "      <td>Unhealthy (Mostly high-sugar, high-fat, or pro...</td>\n",
              "      <td>No</td>\n",
              "      <td>No</td>\n",
              "      <td>No</td>\n",
              "      <td>I do not smoke</td>\n",
              "      <td>5.5</td>\n",
              "      <td>None (I do not drink alcohol)</td>\n",
              "      <td>I often skip meals</td>\n",
              "      <td>Sometimes</td>\n",
              "      <td>1.57</td>\n",
              "      <td>19.473407</td>\n",
              "      <td>Normal</td>\n",
              "    </tr>\n",
              "    <tr>\n",
              "      <th>1</th>\n",
              "      <td>7/12/2025 21:09:42</td>\n",
              "      <td>24</td>\n",
              "      <td>Female</td>\n",
              "      <td>45.0</td>\n",
              "      <td>165.0</td>\n",
              "      <td>Low (Little to no regular physical activity)</td>\n",
              "      <td>Moderately Healthy (Mixed diet with occasional...</td>\n",
              "      <td>No</td>\n",
              "      <td>No</td>\n",
              "      <td>No</td>\n",
              "      <td>I do not smoke</td>\n",
              "      <td>6.0</td>\n",
              "      <td>None (I do not drink alcohol)</td>\n",
              "      <td>No, meal times vary</td>\n",
              "      <td>Sometimes</td>\n",
              "      <td>1.65</td>\n",
              "      <td>16.528926</td>\n",
              "      <td>Underweight</td>\n",
              "    </tr>\n",
              "    <tr>\n",
              "      <th>2</th>\n",
              "      <td>7/12/2025 21:13:29</td>\n",
              "      <td>25</td>\n",
              "      <td>Female</td>\n",
              "      <td>64.0</td>\n",
              "      <td>163.0</td>\n",
              "      <td>Moderate – Some physical activity 1–3 days a w...</td>\n",
              "      <td>Moderately Healthy (Mixed diet with occasional...</td>\n",
              "      <td>No</td>\n",
              "      <td>No</td>\n",
              "      <td>yes</td>\n",
              "      <td>I do not smoke</td>\n",
              "      <td>5.0</td>\n",
              "      <td>None (I do not drink alcohol)</td>\n",
              "      <td>No, meal times vary</td>\n",
              "      <td>Often</td>\n",
              "      <td>1.63</td>\n",
              "      <td>24.088223</td>\n",
              "      <td>Normal</td>\n",
              "    </tr>\n",
              "    <tr>\n",
              "      <th>3</th>\n",
              "      <td>7/12/2025 21:14:58</td>\n",
              "      <td>26</td>\n",
              "      <td>Female</td>\n",
              "      <td>52.0</td>\n",
              "      <td>157.0</td>\n",
              "      <td>Moderate – Some physical activity 1–3 days a w...</td>\n",
              "      <td>Moderately Healthy (Mixed diet with occasional...</td>\n",
              "      <td>Yes</td>\n",
              "      <td>No</td>\n",
              "      <td>No</td>\n",
              "      <td>I do not smoke</td>\n",
              "      <td>5.0</td>\n",
              "      <td>None (I do not drink alcohol)</td>\n",
              "      <td>No, meal times vary</td>\n",
              "      <td>Sometimes</td>\n",
              "      <td>1.57</td>\n",
              "      <td>21.096191</td>\n",
              "      <td>Normal</td>\n",
              "    </tr>\n",
              "    <tr>\n",
              "      <th>4</th>\n",
              "      <td>7/12/2025 21:25:54</td>\n",
              "      <td>25</td>\n",
              "      <td>Female</td>\n",
              "      <td>48.0</td>\n",
              "      <td>149.0</td>\n",
              "      <td>Moderate – Some physical activity 1–3 days a w...</td>\n",
              "      <td>Healthy (Balanced diet with mix of carbs, prot...</td>\n",
              "      <td>No</td>\n",
              "      <td>No</td>\n",
              "      <td>No</td>\n",
              "      <td>I do not smoke</td>\n",
              "      <td>5.5</td>\n",
              "      <td>None (I do not drink alcohol)</td>\n",
              "      <td>Yes, mostly at the same time</td>\n",
              "      <td>Sometimes</td>\n",
              "      <td>1.49</td>\n",
              "      <td>21.620648</td>\n",
              "      <td>Normal</td>\n",
              "    </tr>\n",
              "  </tbody>\n",
              "</table>\n",
              "</div>\n",
              "    <div class=\"colab-df-buttons\">\n",
              "\n",
              "  <div class=\"colab-df-container\">\n",
              "    <button class=\"colab-df-convert\" onclick=\"convertToInteractive('df-352ecdad-1631-4b4b-87f6-552bc230cb59')\"\n",
              "            title=\"Convert this dataframe to an interactive table.\"\n",
              "            style=\"display:none;\">\n",
              "\n",
              "  <svg xmlns=\"http://www.w3.org/2000/svg\" height=\"24px\" viewBox=\"0 -960 960 960\">\n",
              "    <path d=\"M120-120v-720h720v720H120Zm60-500h600v-160H180v160Zm220 220h160v-160H400v160Zm0 220h160v-160H400v160ZM180-400h160v-160H180v160Zm440 0h160v-160H620v160ZM180-180h160v-160H180v160Zm440 0h160v-160H620v160Z\"/>\n",
              "  </svg>\n",
              "    </button>\n",
              "\n",
              "  <style>\n",
              "    .colab-df-container {\n",
              "      display:flex;\n",
              "      gap: 12px;\n",
              "    }\n",
              "\n",
              "    .colab-df-convert {\n",
              "      background-color: #E8F0FE;\n",
              "      border: none;\n",
              "      border-radius: 50%;\n",
              "      cursor: pointer;\n",
              "      display: none;\n",
              "      fill: #1967D2;\n",
              "      height: 32px;\n",
              "      padding: 0 0 0 0;\n",
              "      width: 32px;\n",
              "    }\n",
              "\n",
              "    .colab-df-convert:hover {\n",
              "      background-color: #E2EBFA;\n",
              "      box-shadow: 0px 1px 2px rgba(60, 64, 67, 0.3), 0px 1px 3px 1px rgba(60, 64, 67, 0.15);\n",
              "      fill: #174EA6;\n",
              "    }\n",
              "\n",
              "    .colab-df-buttons div {\n",
              "      margin-bottom: 4px;\n",
              "    }\n",
              "\n",
              "    [theme=dark] .colab-df-convert {\n",
              "      background-color: #3B4455;\n",
              "      fill: #D2E3FC;\n",
              "    }\n",
              "\n",
              "    [theme=dark] .colab-df-convert:hover {\n",
              "      background-color: #434B5C;\n",
              "      box-shadow: 0px 1px 3px 1px rgba(0, 0, 0, 0.15);\n",
              "      filter: drop-shadow(0px 1px 2px rgba(0, 0, 0, 0.3));\n",
              "      fill: #FFFFFF;\n",
              "    }\n",
              "  </style>\n",
              "\n",
              "    <script>\n",
              "      const buttonEl =\n",
              "        document.querySelector('#df-352ecdad-1631-4b4b-87f6-552bc230cb59 button.colab-df-convert');\n",
              "      buttonEl.style.display =\n",
              "        google.colab.kernel.accessAllowed ? 'block' : 'none';\n",
              "\n",
              "      async function convertToInteractive(key) {\n",
              "        const element = document.querySelector('#df-352ecdad-1631-4b4b-87f6-552bc230cb59');\n",
              "        const dataTable =\n",
              "          await google.colab.kernel.invokeFunction('convertToInteractive',\n",
              "                                                    [key], {});\n",
              "        if (!dataTable) return;\n",
              "\n",
              "        const docLinkHtml = 'Like what you see? Visit the ' +\n",
              "          '<a target=\"_blank\" href=https://colab.research.google.com/notebooks/data_table.ipynb>data table notebook</a>'\n",
              "          + ' to learn more about interactive tables.';\n",
              "        element.innerHTML = '';\n",
              "        dataTable['output_type'] = 'display_data';\n",
              "        await google.colab.output.renderOutput(dataTable, element);\n",
              "        const docLink = document.createElement('div');\n",
              "        docLink.innerHTML = docLinkHtml;\n",
              "        element.appendChild(docLink);\n",
              "      }\n",
              "    </script>\n",
              "  </div>\n",
              "\n",
              "\n",
              "    <div id=\"df-1f49afcf-3792-47ba-b4dc-f87fcad97b91\">\n",
              "      <button class=\"colab-df-quickchart\" onclick=\"quickchart('df-1f49afcf-3792-47ba-b4dc-f87fcad97b91')\"\n",
              "                title=\"Suggest charts\"\n",
              "                style=\"display:none;\">\n",
              "\n",
              "<svg xmlns=\"http://www.w3.org/2000/svg\" height=\"24px\"viewBox=\"0 0 24 24\"\n",
              "     width=\"24px\">\n",
              "    <g>\n",
              "        <path d=\"M19 3H5c-1.1 0-2 .9-2 2v14c0 1.1.9 2 2 2h14c1.1 0 2-.9 2-2V5c0-1.1-.9-2-2-2zM9 17H7v-7h2v7zm4 0h-2V7h2v10zm4 0h-2v-4h2v4z\"/>\n",
              "    </g>\n",
              "</svg>\n",
              "      </button>\n",
              "\n",
              "<style>\n",
              "  .colab-df-quickchart {\n",
              "      --bg-color: #E8F0FE;\n",
              "      --fill-color: #1967D2;\n",
              "      --hover-bg-color: #E2EBFA;\n",
              "      --hover-fill-color: #174EA6;\n",
              "      --disabled-fill-color: #AAA;\n",
              "      --disabled-bg-color: #DDD;\n",
              "  }\n",
              "\n",
              "  [theme=dark] .colab-df-quickchart {\n",
              "      --bg-color: #3B4455;\n",
              "      --fill-color: #D2E3FC;\n",
              "      --hover-bg-color: #434B5C;\n",
              "      --hover-fill-color: #FFFFFF;\n",
              "      --disabled-bg-color: #3B4455;\n",
              "      --disabled-fill-color: #666;\n",
              "  }\n",
              "\n",
              "  .colab-df-quickchart {\n",
              "    background-color: var(--bg-color);\n",
              "    border: none;\n",
              "    border-radius: 50%;\n",
              "    cursor: pointer;\n",
              "    display: none;\n",
              "    fill: var(--fill-color);\n",
              "    height: 32px;\n",
              "    padding: 0;\n",
              "    width: 32px;\n",
              "  }\n",
              "\n",
              "  .colab-df-quickchart:hover {\n",
              "    background-color: var(--hover-bg-color);\n",
              "    box-shadow: 0 1px 2px rgba(60, 64, 67, 0.3), 0 1px 3px 1px rgba(60, 64, 67, 0.15);\n",
              "    fill: var(--button-hover-fill-color);\n",
              "  }\n",
              "\n",
              "  .colab-df-quickchart-complete:disabled,\n",
              "  .colab-df-quickchart-complete:disabled:hover {\n",
              "    background-color: var(--disabled-bg-color);\n",
              "    fill: var(--disabled-fill-color);\n",
              "    box-shadow: none;\n",
              "  }\n",
              "\n",
              "  .colab-df-spinner {\n",
              "    border: 2px solid var(--fill-color);\n",
              "    border-color: transparent;\n",
              "    border-bottom-color: var(--fill-color);\n",
              "    animation:\n",
              "      spin 1s steps(1) infinite;\n",
              "  }\n",
              "\n",
              "  @keyframes spin {\n",
              "    0% {\n",
              "      border-color: transparent;\n",
              "      border-bottom-color: var(--fill-color);\n",
              "      border-left-color: var(--fill-color);\n",
              "    }\n",
              "    20% {\n",
              "      border-color: transparent;\n",
              "      border-left-color: var(--fill-color);\n",
              "      border-top-color: var(--fill-color);\n",
              "    }\n",
              "    30% {\n",
              "      border-color: transparent;\n",
              "      border-left-color: var(--fill-color);\n",
              "      border-top-color: var(--fill-color);\n",
              "      border-right-color: var(--fill-color);\n",
              "    }\n",
              "    40% {\n",
              "      border-color: transparent;\n",
              "      border-right-color: var(--fill-color);\n",
              "      border-top-color: var(--fill-color);\n",
              "    }\n",
              "    60% {\n",
              "      border-color: transparent;\n",
              "      border-right-color: var(--fill-color);\n",
              "    }\n",
              "    80% {\n",
              "      border-color: transparent;\n",
              "      border-right-color: var(--fill-color);\n",
              "      border-bottom-color: var(--fill-color);\n",
              "    }\n",
              "    90% {\n",
              "      border-color: transparent;\n",
              "      border-bottom-color: var(--fill-color);\n",
              "    }\n",
              "  }\n",
              "</style>\n",
              "\n",
              "      <script>\n",
              "        async function quickchart(key) {\n",
              "          const quickchartButtonEl =\n",
              "            document.querySelector('#' + key + ' button');\n",
              "          quickchartButtonEl.disabled = true;  // To prevent multiple clicks.\n",
              "          quickchartButtonEl.classList.add('colab-df-spinner');\n",
              "          try {\n",
              "            const charts = await google.colab.kernel.invokeFunction(\n",
              "                'suggestCharts', [key], {});\n",
              "          } catch (error) {\n",
              "            console.error('Error during call to suggestCharts:', error);\n",
              "          }\n",
              "          quickchartButtonEl.classList.remove('colab-df-spinner');\n",
              "          quickchartButtonEl.classList.add('colab-df-quickchart-complete');\n",
              "        }\n",
              "        (() => {\n",
              "          let quickchartButtonEl =\n",
              "            document.querySelector('#df-1f49afcf-3792-47ba-b4dc-f87fcad97b91 button');\n",
              "          quickchartButtonEl.style.display =\n",
              "            google.colab.kernel.accessAllowed ? 'block' : 'none';\n",
              "        })();\n",
              "      </script>\n",
              "    </div>\n",
              "\n",
              "    </div>\n",
              "  </div>\n"
            ],
            "application/vnd.google.colaboratory.intrinsic+json": {
              "type": "dataframe",
              "variable_name": "df",
              "summary": "{\n  \"name\": \"df\",\n  \"rows\": 288,\n  \"fields\": [\n    {\n      \"column\": \"Column 1\",\n      \"properties\": {\n        \"dtype\": \"object\",\n        \"num_unique_values\": 287,\n        \"samples\": [\n          \"7/12/2025 21:50:56\",\n          \"9/1/2025 13:50:35\",\n          \"8/1/2025 16:05:04\"\n        ],\n        \"semantic_type\": \"\",\n        \"description\": \"\"\n      }\n    },\n    {\n      \"column\": \"Age\",\n      \"properties\": {\n        \"dtype\": \"number\",\n        \"std\": 1,\n        \"min\": 22,\n        \"max\": 27,\n        \"num_unique_values\": 6,\n        \"samples\": [\n          24,\n          25,\n          27\n        ],\n        \"semantic_type\": \"\",\n        \"description\": \"\"\n      }\n    },\n    {\n      \"column\": \"Gender\",\n      \"properties\": {\n        \"dtype\": \"category\",\n        \"num_unique_values\": 3,\n        \"samples\": [\n          \"Female\",\n          \"Male\",\n          \"male\"\n        ],\n        \"semantic_type\": \"\",\n        \"description\": \"\"\n      }\n    },\n    {\n      \"column\": \"Weight(kg)\",\n      \"properties\": {\n        \"dtype\": \"number\",\n        \"std\": 11.108714529181748,\n        \"min\": 24.0,\n        \"max\": 157.0,\n        \"num_unique_values\": 46,\n        \"samples\": [\n          61.0,\n          58.8,\n          57.0\n        ],\n        \"semantic_type\": \"\",\n        \"description\": \"\"\n      }\n    },\n    {\n      \"column\": \"Height(cm)\",\n      \"properties\": {\n        \"dtype\": \"number\",\n        \"std\": 11.225361839478335,\n        \"min\": 55.0,\n        \"max\": 186.0,\n        \"num_unique_values\": 44,\n        \"samples\": [\n          186.0,\n          180.0,\n          159.0\n        ],\n        \"semantic_type\": \"\",\n        \"description\": \"\"\n      }\n    },\n    {\n      \"column\": \"Physical Activity Level\",\n      \"properties\": {\n        \"dtype\": \"category\",\n        \"num_unique_values\": 3,\n        \"samples\": [\n          \"Low (Little to no regular physical activity)\",\n          \"Moderate \\u2013 Some physical activity 1\\u20133 days a week (e.g., walking, light exercise)\",\n          \"High \\u2013 Regular physical activity 4 or more days a week (e.g., gym, sports, running)\"\n        ],\n        \"semantic_type\": \"\",\n        \"description\": \"\"\n      }\n    },\n    {\n      \"column\": \"How would you describe your typical diet?\",\n      \"properties\": {\n        \"dtype\": \"category\",\n        \"num_unique_values\": 3,\n        \"samples\": [\n          \"Unhealthy (Mostly high-sugar, high-fat, or processed foods with few fruits/vegetables)\",\n          \"Moderately Healthy (Mixed diet with occasional healthy meals and some fast food or processed items)\",\n          \"Healthy (Balanced diet with mix of carbs, proteins, vegetables, limited sugar and processed foods)\"\n        ],\n        \"semantic_type\": \"\",\n        \"description\": \"\"\n      }\n    },\n    {\n      \"column\": \"Do you have a family history of diabetes?\",\n      \"properties\": {\n        \"dtype\": \"category\",\n        \"num_unique_values\": 3,\n        \"samples\": [\n          \"No\",\n          \"Yes\",\n          \"yes\"\n        ],\n        \"semantic_type\": \"\",\n        \"description\": \"\"\n      }\n    },\n    {\n      \"column\": \"Have you been diagnosed with hypertension(high blood pressure)?\",\n      \"properties\": {\n        \"dtype\": \"category\",\n        \"num_unique_values\": 3,\n        \"samples\": [\n          \"No\",\n          \"yes\",\n          \"Yes\"\n        ],\n        \"semantic_type\": \"\",\n        \"description\": \"\"\n      }\n    },\n    {\n      \"column\": \"Have you been diagnosed with heart disease?\",\n      \"properties\": {\n        \"dtype\": \"category\",\n        \"num_unique_values\": 3,\n        \"samples\": [\n          \"No\",\n          \"yes\",\n          \"Yes\"\n        ],\n        \"semantic_type\": \"\",\n        \"description\": \"\"\n      }\n    },\n    {\n      \"column\": \"Smoking Habits?\",\n      \"properties\": {\n        \"dtype\": \"category\",\n        \"num_unique_values\": 5,\n        \"samples\": [\n          \"Used to smoke but quit\",\n          \"3-6 times per week\",\n          \"1-2 times per week\"\n        ],\n        \"semantic_type\": \"\",\n        \"description\": \"\"\n      }\n    },\n    {\n      \"column\": \"Average hours of sleep per night\",\n      \"properties\": {\n        \"dtype\": \"number\",\n        \"std\": 1.1223109558108666,\n        \"min\": 3.0,\n        \"max\": 9.0,\n        \"num_unique_values\": 9,\n        \"samples\": [\n          4.5,\n          6.0,\n          3.0\n        ],\n        \"semantic_type\": \"\",\n        \"description\": \"\"\n      }\n    },\n    {\n      \"column\": \"Alcohol Consumption\",\n      \"properties\": {\n        \"dtype\": \"category\",\n        \"num_unique_values\": 3,\n        \"samples\": [\n          \"None (I do not drink alcohol)\",\n          \"Occasional (e.g., social drinking, 1\\u20132 times per month)\",\n          \"Moderate (e.g., 1\\u20132 times per week)\"\n        ],\n        \"semantic_type\": \"\",\n        \"description\": \"\"\n      }\n    },\n    {\n      \"column\": \"Do you usually eat your meals at regular times each day?\",\n      \"properties\": {\n        \"dtype\": \"category\",\n        \"num_unique_values\": 4,\n        \"samples\": [\n          \"No, meal times vary\",\n          \"yes, mostly at the same time\",\n          \"I often skip meals\"\n        ],\n        \"semantic_type\": \"\",\n        \"description\": \"\"\n      }\n    },\n    {\n      \"column\": \"How often do you feel stressed or emotionally overwhelmed in a typical week?\",\n      \"properties\": {\n        \"dtype\": \"category\",\n        \"num_unique_values\": 4,\n        \"samples\": [\n          \"Often\",\n          \"Rarely\",\n          \"Sometimes\"\n        ],\n        \"semantic_type\": \"\",\n        \"description\": \"\"\n      }\n    },\n    {\n      \"column\": \"Height(m)\",\n      \"properties\": {\n        \"dtype\": \"number\",\n        \"std\": 0.11225361839478333,\n        \"min\": 0.55,\n        \"max\": 1.86,\n        \"num_unique_values\": 44,\n        \"samples\": [\n          1.86,\n          1.8,\n          1.59\n        ],\n        \"semantic_type\": \"\",\n        \"description\": \"\"\n      }\n    },\n    {\n      \"column\": \"BMI\",\n      \"properties\": {\n        \"dtype\": \"number\",\n        \"std\": 29.39139226871724,\n        \"min\": 9.613843935266782,\n        \"max\": 519.0082644628098,\n        \"num_unique_values\": 214,\n        \"samples\": [\n          25.76571345623458,\n          23.335466144755166,\n          24.691358024691358\n        ],\n        \"semantic_type\": \"\",\n        \"description\": \"\"\n      }\n    },\n    {\n      \"column\": \"BMICategory\",\n      \"properties\": {\n        \"dtype\": \"category\",\n        \"num_unique_values\": 4,\n        \"samples\": [\n          \"Underweight\",\n          \"Obese\",\n          \"Normal\"\n        ],\n        \"semantic_type\": \"\",\n        \"description\": \"\"\n      }\n    }\n  ]\n}"
            }
          },
          "metadata": {},
          "execution_count": 95
        }
      ]
    },
    {
      "cell_type": "markdown",
      "source": [
        "Removing duplicated rows"
      ],
      "metadata": {
        "id": "kvHfkx6R2PQq"
      }
    },
    {
      "cell_type": "code",
      "source": [
        "before = df.shape[0]\n",
        "df = df.drop_duplicates()\n",
        "after = df.shape[0]\n",
        "print(f\"Removed {before - after} duplicate rows.\")"
      ],
      "metadata": {
        "colab": {
          "base_uri": "https://localhost:8080/"
        },
        "id": "nO1gMQw_1_8B",
        "outputId": "c734f741-cf68-4a55-eb57-5558900114dd"
      },
      "execution_count": null,
      "outputs": [
        {
          "output_type": "stream",
          "name": "stdout",
          "text": [
            "Removed 0 duplicate rows.\n"
          ]
        }
      ]
    },
    {
      "cell_type": "markdown",
      "source": [
        "Creating Age Groups"
      ],
      "metadata": {
        "id": "37l6vgcL28td"
      }
    },
    {
      "cell_type": "code",
      "source": [
        "df[\"AgeGroup\"] = pd.cut(df[\"Age\"], bins=[20, 30, 40, 50, 60, 100], labels=[\"20s\", \"30s\", \"40s\", \"50s\", \"60+\"])"
      ],
      "metadata": {
        "id": "_x6WDEYj2U2_"
      },
      "execution_count": null,
      "outputs": []
    },
    {
      "cell_type": "markdown",
      "source": [
        "Feature Selection / Transformation"
      ],
      "metadata": {
        "id": "OsGe1nf_3fwZ"
      }
    },
    {
      "cell_type": "markdown",
      "source": [
        "Correlation Metrix"
      ],
      "metadata": {
        "id": "z5fmKhj03CAU"
      }
    },
    {
      "cell_type": "code",
      "source": [
        "numeric_df = df.select_dtypes(include=['float64', 'int64'])"
      ],
      "metadata": {
        "id": "8lpmVNre2ZIB"
      },
      "execution_count": null,
      "outputs": []
    },
    {
      "cell_type": "code",
      "source": [
        "import seaborn as sns\n",
        "import matplotlib.pyplot as plt\n",
        "\n",
        "plt.figure(figsize=(7, 4))\n",
        "sns.heatmap(numeric_df.corr(), annot=True, cmap='coolwarm', fmt=\".2f\")\n",
        "plt.title(\"Correlation Matrix of Numeric Features\")\n",
        "plt.tight_layout()\n",
        "plt.show()"
      ],
      "metadata": {
        "colab": {
          "base_uri": "https://localhost:8080/",
          "height": 407
        },
        "id": "b21zQAZU3HxH",
        "outputId": "b624d372-ddec-44b2-a739-1489c64df2fc"
      },
      "execution_count": null,
      "outputs": [
        {
          "output_type": "display_data",
          "data": {
            "text/plain": [
              "<Figure size 700x400 with 2 Axes>"
            ],
            "image/png": "[encoded data removed]"
          },
          "metadata": {}
        }
      ]
    },
    {
      "cell_type": "markdown",
      "source": [
        "Encoding and Normalization"
      ],
      "metadata": {
        "id": "gcHklVpB3Nyx"
      }
    },
    {
      "cell_type": "markdown",
      "source": [
        "Label Encoding"
      ],
      "metadata": {
        "id": "Om9BsRno3UMY"
      }
    },
    {
      "cell_type": "code",
      "source": [
        "from sklearn.preprocessing import LabelEncoder\n",
        "\n",
        "le = LabelEncoder()\n",
        "df[\"AgeGroup\"] = le.fit_transform(df[\"AgeGroup\"].astype(str))\n"
      ],
      "metadata": {
        "id": "NupY2wKr3KHc"
      },
      "execution_count": null,
      "outputs": []
    },
    {
      "cell_type": "markdown",
      "source": [
        "One-hot encode and other catergorical features"
      ],
      "metadata": {
        "id": "D2_PlZZb3lII"
      }
    },
    {
      "cell_type": "code",
      "source": [
        "\n",
        "categorical_cols = [\n",
        "    \"Gender\",\n",
        "    \"Physical Activity Level\",\n",
        "    \"How would you describe your typical diet?\",\n",
        "    \"Do you have a family history of diabetes?\",\n",
        "    \"Have you been diagnosed with hypertension(high blood pressure)?\",\n",
        "    \"Have you been diagnosed with heart disease?\",\n",
        "    \"Smoking Habits?\",\n",
        "    \"Alcohol Consumption\",\n",
        "    \"Do you usually eat your meals at regular times each day?\",\n",
        "    \"How often do you feel stressed or emotionally overwhelmed in a typical week?\",\n",
        "]\n",
        "\n",
        "df = pd.get_dummies(df, columns=categorical_cols, drop_first=True)"
      ],
      "metadata": {
        "id": "kerBsnle3YPr"
      },
      "execution_count": null,
      "outputs": []
    },
    {
      "cell_type": "code",
      "source": [
        "target = df[\"Do you have a family history of diabetes?_Yes\"]\n",
        "features = df.drop(columns=[\"Do you have a family history of diabetes?_Yes\"])\n"
      ],
      "metadata": {
        "id": "hk7avdvD3nxm"
      },
      "execution_count": null,
      "outputs": []
    },
    {
      "cell_type": "markdown",
      "source": [
        "StandardScaler Encoding - Normalize Numerical Features"
      ],
      "metadata": {
        "id": "sqypdyDp3vWY"
      }
    },
    {
      "cell_type": "code",
      "source": [
        "from sklearn.preprocessing import StandardScaler\n",
        "\n",
        "scaler = StandardScaler()\n",
        "scaled_cols = [\"Age\", \"BMI\", \"Average hours of sleep per night\", \"Weight(kg)\", \"Height(cm)\"]\n",
        "\n",
        "df[scaled_cols] = scaler.fit_transform(df[scaled_cols])"
      ],
      "metadata": {
        "id": "NvGQaBUw3rRy"
      },
      "execution_count": null,
      "outputs": []
    },
    {
      "cell_type": "markdown",
      "source": [
        "Preprocessed Dataset"
      ],
      "metadata": {
        "id": "fiQ3SmGR4YfE"
      }
    },
    {
      "cell_type": "code",
      "source": [
        "df.to_csv('preprocessed_data.csv', index=False)"
      ],
      "metadata": {
        "id": "O3LuMFdf4d_i"
      },
      "execution_count": null,
      "outputs": []
    },
    {
      "cell_type": "code",
      "source": [
        "from google.colab import files\n",
        "files.download('preprocessed_data.csv')"
      ],
      "metadata": {
        "colab": {
          "base_uri": "https://localhost:8080/",
          "height": 17
        },
        "id": "YRXpdnV-4gay",
        "outputId": "f9f1f292-f7bb-468a-ecb8-9f9fc30647aa"
      },
      "execution_count": null,
      "outputs": [
        {
          "output_type": "display_data",
          "data": {
            "text/plain": [
              "<IPython.core.display.Javascript object>"
            ],
            "application/javascript": [
              "\n",
              "    async function download(id, filename, size) {\n",
              "      if (!google.colab.kernel.accessAllowed) {\n",
              "        return;\n",
              "      }\n",
              "      const div = document.createElement('div');\n",
              "      const label = document.createElement('label');\n",
              "      label.textContent = `Downloading \"${filename}\": `;\n",
              "      div.appendChild(label);\n",
              "      const progress = document.createElement('progress');\n",
              "      progress.max = size;\n",
              "      div.appendChild(progress);\n",
              "      document.body.appendChild(div);\n",
              "\n",
              "      const buffers = [];\n",
              "      let downloaded = 0;\n",
              "\n",
              "      const channel = await google.colab.kernel.comms.open(id);\n",
              "      // Send a message to notify the kernel that we're ready.\n",
              "      channel.send({})\n",
              "\n",
              "      for await (const message of channel.messages) {\n",
              "        // Send a message to notify the kernel that we're ready.\n",
              "        channel.send({})\n",
              "        if (message.buffers) {\n",
              "          for (const buffer of message.buffers) {\n",
              "            buffers.push(buffer);\n",
              "            downloaded += buffer.byteLength;\n",
              "            progress.value = downloaded;\n",
              "          }\n",
              "        }\n",
              "      }\n",
              "      const blob = new Blob(buffers, {type: 'application/binary'});\n",
              "      const a = document.createElement('a');\n",
              "      a.href = window.URL.createObjectURL(blob);\n",
              "      a.download = filename;\n",
              "      div.appendChild(a);\n",
              "      a.click();\n",
              "      div.remove();\n",
              "    }\n",
              "  "
            ]
          },
          "metadata": {}
        },
        {
          "output_type": "display_data",
          "data": {
            "text/plain": [
              "<IPython.core.display.Javascript object>"
            ],
            "application/javascript": [
              "download(\"download_5b2153df-2439-4a25-a010-4a9383dbf325\", \"preprocessed_data.csv\", 79271)"
            ]
          },
          "metadata": {}
        }
      ]
    },
    {
      "cell_type": "markdown",
      "source": [
        "Train and Evaluate the Model"
      ],
      "metadata": {
        "id": "5ZO3jB0Q4AHN"
      }
    },
    {
      "cell_type": "markdown",
      "source": [
        "Import Libraries"
      ],
      "metadata": {
        "id": "PB6EDLs34DJw"
      }
    },
    {
      "cell_type": "code",
      "source": [
        "import numpy as np\n",
        "from sklearn.model_selection import train_test_split\n",
        "from sklearn.preprocessing import StandardScaler\n",
        "from tensorflow.keras.models import Sequential\n",
        "from tensorflow.keras.layers import Dense\n",
        "from tensorflow.keras.optimizers import Adam\n",
        "from tensorflow.keras.losses import BinaryCrossentropy\n",
        "from tensorflow.keras.metrics import Accuracy"
      ],
      "metadata": {
        "id": "4YGjl0S-323n"
      },
      "execution_count": null,
      "outputs": []
    },
    {
      "cell_type": "markdown",
      "source": [
        "Load Data and Set Features/Target"
      ],
      "metadata": {
        "id": "8DzYYWoz4lZ8"
      }
    },
    {
      "cell_type": "code",
      "source": [
        "df = pd.read_csv(\"preprocessed_data.csv\")\n",
        "\n",
        "# Drop non-feature columns\n",
        "df = df.drop(columns=[\"Column 1\", \"BMICategory\", \"Gender_male\",\n",
        "                      \"Have you been diagnosed with hypertension(high blood pressure)?_yes\",\n",
        "                      \"Have you been diagnosed with heart disease?_yes\"])\n",
        "\n",
        "# Define target column (label)\n",
        "target = \"Do you have a family history of diabetes?_Yes\"\n",
        "\n",
        "# Features and labels\n",
        "X = df.drop(columns=[target])\n",
        "y = df[target].astype(int)\n",
        "\n",
        "# Normalize numerical features\n",
        "scaler = StandardScaler()\n",
        "X_scaled = scaler.fit_transform(X)"
      ],
      "metadata": {
        "id": "p8Orl6cz4lD1"
      },
      "execution_count": null,
      "outputs": []
    },
    {
      "cell_type": "code",
      "source": [
        "df['Diabetes_Risk'] = (\n",
        "    # Rule 1: Diet Unhealthy AND Activity Low\n",
        "    (df['How would you describe your typical diet?_Unhealthy (Mostly high-sugar, high-fat, or processed foods with few fruits/vegetables)'] == 1) &\n",
        "    (df['Physical Activity Level_Low (Little to no regular physical activity)'] == 1) |\n",
        "\n",
        "    # Rule 2: Poor Sleep (<5 hours) AND High Stress\n",
        "    (df['AgeGroup'] < 5.0) &\n",
        "    (df['How often do you feel stressed or emotionally overwhelmed in a typical week?_Often'] == 1) |\n",
        "\n",
        "    # Rule 3: Smoking 3–6 times per week\n",
        "    (df['Smoking Habits?_3-6 times per week'] == 1) |\n",
        "\n",
        "    # Rule 4: Irregular meals AND Unhealthy diet\n",
        "    (df['Do you usually eat your meals at regular times each day?_No, meal times vary'] == 1) &\n",
        "    (df['How would you describe your typical diet?_Unhealthy (Mostly high-sugar, high-fat, or processed foods with few fruits/vegetables)'] == 1) |\n",
        "\n",
        "    # Rule 5: Family history of diabetes\n",
        "    (df['Do you have a family history of diabetes?_Yes'] == 1) |\n",
        "\n",
        "    # Rule 6: Heart disease or Hypertension\n",
        "    (df['Have you been diagnosed with heart disease?_Yes'] == 1) |\n",
        "    (df['Have you been diagnosed with hypertension(high blood pressure)?_Yes'] == 1) |\n",
        "\n",
        "    # Rule 8: Alcohol Occasional AND Smoking Occasional\n",
        "    (df['Alcohol Consumption_Occasional (e.g., social drinking, 1–2 times per month)'] == 1) &\n",
        "    (df['Smoking Habits?_Occasionally (Less than once a week)'] == 1)\n",
        ").astype(int)\n"
      ],
      "metadata": {
        "id": "L0O9aqce6Xyu"
      },
      "execution_count": null,
      "outputs": []
    },
    {
      "cell_type": "code",
      "source": [
        "print(df['Diabetes_Risk'].value_counts())"
      ],
      "metadata": {
        "colab": {
          "base_uri": "https://localhost:8080/"
        },
        "id": "DBB3yji76cDt",
        "outputId": "72583f1c-b5a9-44f4-9747-0690fa6e338c"
      },
      "execution_count": null,
      "outputs": [
        {
          "output_type": "stream",
          "name": "stdout",
          "text": [
            "Diabetes_Risk\n",
            "1    172\n",
            "0    116\n",
            "Name: count, dtype: int64\n"
          ]
        }
      ]
    },
    {
      "cell_type": "code",
      "source": [
        "df_shuffled = df.sample(frac=1, random_state=42).reset_index(drop=True)"
      ],
      "metadata": {
        "id": "9P97ldXQ7jW6"
      },
      "execution_count": null,
      "outputs": []
    },
    {
      "cell_type": "markdown",
      "source": [
        "******** Resampling SMOTE (Synthetic Minority Oversampling Technique) *******"
      ],
      "metadata": {
        "id": "qA_G8EBmGBwv"
      }
    },
    {
      "cell_type": "markdown",
      "source": [
        "******** Split the dataset and Apply SMOTE"
      ],
      "metadata": {
        "id": "2eSZgAxcGOQk"
      }
    },
    {
      "cell_type": "code",
      "source": [
        "from imblearn.over_sampling import SMOTE\n",
        "from sklearn.model_selection import train_test_split\n",
        "\n",
        "# Split your dataset to avoid data leakage\n",
        "X_train, X_test, y_train, y_test = train_test_split(\n",
        "    X, y, test_size=0.2, random_state=42, stratify=y\n",
        ")\n",
        "\n",
        "# Apply SMOTE\n",
        "\n",
        "smote = SMOTE(random_state=42)\n",
        "X_res, y_res = smote.fit_resample(X, y)\n",
        "\n",
        "print(\"Before:\", y.value_counts())\n",
        "print(\"After:\", y_res.value_counts())\n"
      ],
      "metadata": {
        "colab": {
          "base_uri": "https://localhost:8080/"
        },
        "id": "Ve4hjBndF0ov",
        "outputId": "74a00f39-08a8-4af0-87b8-032dac1cd34a"
      },
      "execution_count": null,
      "outputs": [
        {
          "output_type": "stream",
          "name": "stdout",
          "text": [
            "Before: Do you have a family history of diabetes?_Yes\n",
            "0    203\n",
            "1     85\n",
            "Name: count, dtype: int64\n",
            "After: Do you have a family history of diabetes?_Yes\n",
            "0    203\n",
            "1    203\n",
            "Name: count, dtype: int64\n"
          ]
        }
      ]
    },
    {
      "cell_type": "code",
      "source": [
        "#df_shuffled = df.sample(frac=1, random_state=42).reset_index(drop=True)"
      ],
      "metadata": {
        "id": "fhP15CcJ6hVK"
      },
      "execution_count": null,
      "outputs": []
    },
    {
      "cell_type": "code",
      "source": [
        "# Set target\n",
        "target = 'Diabetes_Risk'\n",
        "\n",
        "# Set features (drop the label column itself)\n",
        "X = df.drop(columns=[target])\n",
        "\n",
        "X = X.select_dtypes(include=['int64', 'float64', 'bool'])\n",
        "\n",
        "# Convert all bools to int\n",
        "X = X.astype(int)\n",
        "\n",
        "# Target\n",
        "y = df[target]"
      ],
      "metadata": {
        "id": "Mzb1UbvG6kD9"
      },
      "execution_count": null,
      "outputs": []
    },
    {
      "cell_type": "markdown",
      "source": [
        "Split the data"
      ],
      "metadata": {
        "id": "puu0PyJ05pvL"
      }
    },
    {
      "cell_type": "code",
      "source": [
        "#X_train, X_test, y_train, y_test = train_test_split(X_scaled, y, test_size=0.2, random_state=42)"
      ],
      "metadata": {
        "id": "ygGEvnr94IyQ"
      },
      "execution_count": null,
      "outputs": []
    },
    {
      "cell_type": "markdown",
      "source": [
        "******** Hyperparameter tuning ********"
      ],
      "metadata": {
        "id": "Af8U_kcgHIpV"
      }
    },
    {
      "cell_type": "code",
      "source": [
        "print(df['Diabetes_Risk'].value_counts())"
      ],
      "metadata": {
        "colab": {
          "base_uri": "https://localhost:8080/"
        },
        "id": "mYp_3vOe-54m",
        "outputId": "6097809e-6d0a-44d2-d1d4-91b81c82e827"
      },
      "execution_count": null,
      "outputs": [
        {
          "output_type": "stream",
          "name": "stdout",
          "text": [
            "Diabetes_Risk\n",
            "1    172\n",
            "0    116\n",
            "Name: count, dtype: int64\n"
          ]
        }
      ]
    },
    {
      "cell_type": "markdown",
      "source": [
        "Build the Neural Network Architecture"
      ],
      "metadata": {
        "id": "dpeBVg8n5xNp"
      }
    },
    {
      "cell_type": "code",
      "source": [
        "from tensorflow.keras.models import Sequential\n",
        "from tensorflow.keras.layers import Dense\n",
        "from tensorflow.keras.optimizers import Adam\n",
        "from tensorflow.keras.layers import Dropout\n",
        "from tensorflow.keras.callbacks import EarlyStopping\n",
        "from sklearn.utils.class_weight import compute_class_weight\n",
        "\n",
        "# Define model\n",
        "model = Sequential([\n",
        "    Dense(32, input_shape=(X_train.shape[1],), activation='relu'),\n",
        "    Dropout(0.5),\n",
        "    Dense(1, activation='sigmoid')\n",
        "])\n",
        "\n",
        "# Compile\n",
        "model.compile(\n",
        "    optimizer=Adam(learning_rate=0.001),\n",
        "    loss='binary_crossentropy',\n",
        "    metrics=['accuracy']\n",
        ")\n",
        "\n",
        "# Train\n",
        "#es = EarlyStopping(monitor='val_loss', patience=5, restore_best_weights=True)\n",
        "\n",
        "\n",
        "history = model.fit(\n",
        "    X_train, y_train,\n",
        "    epochs=50,\n",
        "    batch_size=16,\n",
        "    validation_data=(X_test, y_test),\n",
        "    #callbacks=[es],\n",
        "    #verbose=1\n",
        ")\n"
      ],
      "metadata": {
        "colab": {
          "base_uri": "https://localhost:8080/"
        },
        "id": "98-ejAFo3KIc",
        "outputId": "279fc6bc-2519-4430-9fee-ca1df0272a3c"
      },
      "execution_count": null,
      "outputs": [
        {
          "output_type": "stream",
          "name": "stdout",
          "text": [
            "Epoch 1/50\n"
          ]
        },
        {
          "output_type": "stream",
          "name": "stderr",
          "text": [
            "/usr/local/lib/python3.12/dist-packages/keras/src/layers/core/dense.py:93: UserWarning: Do not pass an `input_shape`/`input_dim` argument to a layer. When using Sequential models, prefer using an `Input(shape)` object as the first layer in the model instead.\n",
            "  super().__init__(activity_regularizer=activity_regularizer, **kwargs)\n"
          ]
        },
        {
          "output_type": "stream",
          "name": "stdout",
          "text": [
            "\u001b[1m15/15\u001b[0m \u001b[32m━━━━━━━━━━━━━━━━━━━━\u001b[0m\u001b[37m\u001b[0m \u001b[1m2s\u001b[0m 27ms/step - accuracy: 0.5473 - loss: 0.7765 - val_accuracy: 0.5862 - val_loss: 0.6893\n",
            "Epoch 2/50\n",
            "\u001b[1m15/15\u001b[0m \u001b[32m━━━━━━━━━━━━━━━━━━━━\u001b[0m\u001b[37m\u001b[0m \u001b[1m0s\u001b[0m 13ms/step - accuracy: 0.6195 - loss: 0.6582 - val_accuracy: 0.6207 - val_loss: 0.6677\n",
            "Epoch 3/50\n",
            "\u001b[1m15/15\u001b[0m \u001b[32m━━━━━━━━━━━━━━━━━━━━\u001b[0m\u001b[37m\u001b[0m \u001b[1m0s\u001b[0m 13ms/step - accuracy: 0.6805 - loss: 0.6140 - val_accuracy: 0.6379 - val_loss: 0.6517\n",
            "Epoch 4/50\n",
            "\u001b[1m15/15\u001b[0m \u001b[32m━━━━━━━━━━━━━━━━━━━━\u001b[0m\u001b[37m\u001b[0m \u001b[1m0s\u001b[0m 7ms/step - accuracy: 0.6902 - loss: 0.6047 - val_accuracy: 0.6552 - val_loss: 0.6358\n",
            "Epoch 5/50\n",
            "\u001b[1m15/15\u001b[0m \u001b[32m━━━━━━━━━━━━━━━━━━━━\u001b[0m\u001b[37m\u001b[0m \u001b[1m0s\u001b[0m 7ms/step - accuracy: 0.6943 - loss: 0.5921 - val_accuracy: 0.6552 - val_loss: 0.6202\n",
            "Epoch 6/50\n",
            "\u001b[1m15/15\u001b[0m \u001b[32m━━━━━━━━━━━━━━━━━━━━\u001b[0m\u001b[37m\u001b[0m \u001b[1m0s\u001b[0m 7ms/step - accuracy: 0.7491 - loss: 0.5606 - val_accuracy: 0.6379 - val_loss: 0.6066\n",
            "Epoch 7/50\n",
            "\u001b[1m15/15\u001b[0m \u001b[32m━━━━━━━━━━━━━━━━━━━━\u001b[0m\u001b[37m\u001b[0m \u001b[1m0s\u001b[0m 7ms/step - accuracy: 0.6578 - loss: 0.6160 - val_accuracy: 0.7069 - val_loss: 0.5964\n",
            "Epoch 8/50\n",
            "\u001b[1m15/15\u001b[0m \u001b[32m━━━━━━━━━━━━━━━━━━━━\u001b[0m\u001b[37m\u001b[0m \u001b[1m0s\u001b[0m 8ms/step - accuracy: 0.7579 - loss: 0.5437 - val_accuracy: 0.7069 - val_loss: 0.5846\n",
            "Epoch 9/50\n",
            "\u001b[1m15/15\u001b[0m \u001b[32m━━━━━━━━━━━━━━━━━━━━\u001b[0m\u001b[37m\u001b[0m \u001b[1m0s\u001b[0m 6ms/step - accuracy: 0.7688 - loss: 0.5305 - val_accuracy: 0.7241 - val_loss: 0.5708\n",
            "Epoch 10/50\n",
            "\u001b[1m15/15\u001b[0m \u001b[32m━━━━━━━━━━━━━━━━━━━━\u001b[0m\u001b[37m\u001b[0m \u001b[1m0s\u001b[0m 7ms/step - accuracy: 0.7653 - loss: 0.5317 - val_accuracy: 0.7241 - val_loss: 0.5566\n",
            "Epoch 11/50\n",
            "\u001b[1m15/15\u001b[0m \u001b[32m━━━━━━━━━━━━━━━━━━━━\u001b[0m\u001b[37m\u001b[0m \u001b[1m0s\u001b[0m 7ms/step - accuracy: 0.7651 - loss: 0.5302 - val_accuracy: 0.7414 - val_loss: 0.5458\n",
            "Epoch 12/50\n",
            "\u001b[1m15/15\u001b[0m \u001b[32m━━━━━━━━━━━━━━━━━━━━\u001b[0m\u001b[37m\u001b[0m \u001b[1m0s\u001b[0m 7ms/step - accuracy: 0.7859 - loss: 0.5159 - val_accuracy: 0.7414 - val_loss: 0.5318\n",
            "Epoch 13/50\n",
            "\u001b[1m15/15\u001b[0m \u001b[32m━━━━━━━━━━━━━━━━━━━━\u001b[0m\u001b[37m\u001b[0m \u001b[1m0s\u001b[0m 7ms/step - accuracy: 0.7678 - loss: 0.5065 - val_accuracy: 0.7414 - val_loss: 0.5195\n",
            "Epoch 14/50\n",
            "\u001b[1m15/15\u001b[0m \u001b[32m━━━━━━━━━━━━━━━━━━━━\u001b[0m\u001b[37m\u001b[0m \u001b[1m0s\u001b[0m 7ms/step - accuracy: 0.7732 - loss: 0.5017 - val_accuracy: 0.7759 - val_loss: 0.5079\n",
            "Epoch 15/50\n",
            "\u001b[1m15/15\u001b[0m \u001b[32m━━━━━━━━━━━━━━━━━━━━\u001b[0m\u001b[37m\u001b[0m \u001b[1m0s\u001b[0m 7ms/step - accuracy: 0.8360 - loss: 0.4343 - val_accuracy: 0.7759 - val_loss: 0.4951\n",
            "Epoch 16/50\n",
            "\u001b[1m15/15\u001b[0m \u001b[32m━━━━━━━━━━━━━━━━━━━━\u001b[0m\u001b[37m\u001b[0m \u001b[1m0s\u001b[0m 7ms/step - accuracy: 0.7964 - loss: 0.4463 - val_accuracy: 0.8103 - val_loss: 0.4827\n",
            "Epoch 17/50\n",
            "\u001b[1m15/15\u001b[0m \u001b[32m━━━━━━━━━━━━━━━━━━━━\u001b[0m\u001b[37m\u001b[0m \u001b[1m0s\u001b[0m 9ms/step - accuracy: 0.8643 - loss: 0.3730 - val_accuracy: 0.7931 - val_loss: 0.4699\n",
            "Epoch 18/50\n",
            "\u001b[1m15/15\u001b[0m \u001b[32m━━━━━━━━━━━━━━━━━━━━\u001b[0m\u001b[37m\u001b[0m \u001b[1m0s\u001b[0m 7ms/step - accuracy: 0.8344 - loss: 0.3659 - val_accuracy: 0.8103 - val_loss: 0.4580\n",
            "Epoch 19/50\n",
            "\u001b[1m15/15\u001b[0m \u001b[32m━━━━━━━━━━━━━━━━━━━━\u001b[0m\u001b[37m\u001b[0m \u001b[1m0s\u001b[0m 7ms/step - accuracy: 0.8301 - loss: 0.4377 - val_accuracy: 0.8448 - val_loss: 0.4434\n",
            "Epoch 20/50\n",
            "\u001b[1m15/15\u001b[0m \u001b[32m━━━━━━━━━━━━━━━━━━━━\u001b[0m\u001b[37m\u001b[0m \u001b[1m0s\u001b[0m 7ms/step - accuracy: 0.8374 - loss: 0.4231 - val_accuracy: 0.8793 - val_loss: 0.4338\n",
            "Epoch 21/50\n",
            "\u001b[1m15/15\u001b[0m \u001b[32m━━━━━━━━━━━━━━━━━━━━\u001b[0m\u001b[37m\u001b[0m \u001b[1m0s\u001b[0m 6ms/step - accuracy: 0.8688 - loss: 0.3615 - val_accuracy: 0.8793 - val_loss: 0.4269\n",
            "Epoch 22/50\n",
            "\u001b[1m15/15\u001b[0m \u001b[32m━━━━━━━━━━━━━━━━━━━━\u001b[0m\u001b[37m\u001b[0m \u001b[1m0s\u001b[0m 9ms/step - accuracy: 0.8211 - loss: 0.4004 - val_accuracy: 0.8966 - val_loss: 0.4135\n",
            "Epoch 23/50\n",
            "\u001b[1m15/15\u001b[0m \u001b[32m━━━━━━━━━━━━━━━━━━━━\u001b[0m\u001b[37m\u001b[0m \u001b[1m0s\u001b[0m 7ms/step - accuracy: 0.8068 - loss: 0.4255 - val_accuracy: 0.8966 - val_loss: 0.4013\n",
            "Epoch 24/50\n",
            "\u001b[1m15/15\u001b[0m \u001b[32m━━━━━━━━━━━━━━━━━━━━\u001b[0m\u001b[37m\u001b[0m \u001b[1m0s\u001b[0m 7ms/step - accuracy: 0.8207 - loss: 0.3801 - val_accuracy: 0.8966 - val_loss: 0.3895\n",
            "Epoch 25/50\n",
            "\u001b[1m15/15\u001b[0m \u001b[32m━━━━━━━━━━━━━━━━━━━━\u001b[0m\u001b[37m\u001b[0m \u001b[1m0s\u001b[0m 7ms/step - accuracy: 0.8791 - loss: 0.3574 - val_accuracy: 0.8966 - val_loss: 0.3796\n",
            "Epoch 26/50\n",
            "\u001b[1m15/15\u001b[0m \u001b[32m━━━━━━━━━━━━━━━━━━━━\u001b[0m\u001b[37m\u001b[0m \u001b[1m0s\u001b[0m 7ms/step - accuracy: 0.8895 - loss: 0.3418 - val_accuracy: 0.9138 - val_loss: 0.3668\n",
            "Epoch 27/50\n",
            "\u001b[1m15/15\u001b[0m \u001b[32m━━━━━━━━━━━━━━━━━━━━\u001b[0m\u001b[37m\u001b[0m \u001b[1m0s\u001b[0m 7ms/step - accuracy: 0.8552 - loss: 0.3223 - val_accuracy: 0.9310 - val_loss: 0.3546\n",
            "Epoch 28/50\n",
            "\u001b[1m15/15\u001b[0m \u001b[32m━━━━━━━━━━━━━━━━━━━━\u001b[0m\u001b[37m\u001b[0m \u001b[1m0s\u001b[0m 7ms/step - accuracy: 0.8946 - loss: 0.3208 - val_accuracy: 0.9310 - val_loss: 0.3458\n",
            "Epoch 29/50\n",
            "\u001b[1m15/15\u001b[0m \u001b[32m━━━━━━━━━━━━━━━━━━━━\u001b[0m\u001b[37m\u001b[0m \u001b[1m0s\u001b[0m 7ms/step - accuracy: 0.9037 - loss: 0.3149 - val_accuracy: 0.9310 - val_loss: 0.3335\n",
            "Epoch 30/50\n",
            "\u001b[1m15/15\u001b[0m \u001b[32m━━━━━━━━━━━━━━━━━━━━\u001b[0m\u001b[37m\u001b[0m \u001b[1m0s\u001b[0m 9ms/step - accuracy: 0.9286 - loss: 0.2847 - val_accuracy: 0.9310 - val_loss: 0.3225\n",
            "Epoch 31/50\n",
            "\u001b[1m15/15\u001b[0m \u001b[32m━━━━━━━━━━━━━━━━━━━━\u001b[0m\u001b[37m\u001b[0m \u001b[1m0s\u001b[0m 7ms/step - accuracy: 0.8787 - loss: 0.2954 - val_accuracy: 0.9310 - val_loss: 0.3132\n",
            "Epoch 32/50\n",
            "\u001b[1m15/15\u001b[0m \u001b[32m━━━━━━━━━━━━━━━━━━━━\u001b[0m\u001b[37m\u001b[0m \u001b[1m0s\u001b[0m 6ms/step - accuracy: 0.9232 - loss: 0.2761 - val_accuracy: 0.9483 - val_loss: 0.3041\n",
            "Epoch 33/50\n",
            "\u001b[1m15/15\u001b[0m \u001b[32m━━━━━━━━━━━━━━━━━━━━\u001b[0m\u001b[37m\u001b[0m \u001b[1m0s\u001b[0m 7ms/step - accuracy: 0.8771 - loss: 0.3084 - val_accuracy: 0.9483 - val_loss: 0.2936\n",
            "Epoch 34/50\n",
            "\u001b[1m15/15\u001b[0m \u001b[32m━━━━━━━━━━━━━━━━━━━━\u001b[0m\u001b[37m\u001b[0m \u001b[1m0s\u001b[0m 9ms/step - accuracy: 0.9041 - loss: 0.2782 - val_accuracy: 0.9483 - val_loss: 0.2830\n",
            "Epoch 35/50\n",
            "\u001b[1m15/15\u001b[0m \u001b[32m━━━━━━━━━━━━━━━━━━━━\u001b[0m\u001b[37m\u001b[0m \u001b[1m0s\u001b[0m 6ms/step - accuracy: 0.8881 - loss: 0.2737 - val_accuracy: 0.9483 - val_loss: 0.2742\n",
            "Epoch 36/50\n",
            "\u001b[1m15/15\u001b[0m \u001b[32m━━━━━━━━━━━━━━━━━━━━\u001b[0m\u001b[37m\u001b[0m \u001b[1m0s\u001b[0m 7ms/step - accuracy: 0.9128 - loss: 0.2904 - val_accuracy: 0.9483 - val_loss: 0.2645\n",
            "Epoch 37/50\n",
            "\u001b[1m15/15\u001b[0m \u001b[32m━━━━━━━━━━━━━━━━━━━━\u001b[0m\u001b[37m\u001b[0m \u001b[1m0s\u001b[0m 7ms/step - accuracy: 0.9368 - loss: 0.2196 - val_accuracy: 0.9483 - val_loss: 0.2543\n",
            "Epoch 38/50\n",
            "\u001b[1m15/15\u001b[0m \u001b[32m━━━━━━━━━━━━━━━━━━━━\u001b[0m\u001b[37m\u001b[0m \u001b[1m0s\u001b[0m 7ms/step - accuracy: 0.8876 - loss: 0.2520 - val_accuracy: 0.9483 - val_loss: 0.2459\n",
            "Epoch 39/50\n",
            "\u001b[1m15/15\u001b[0m \u001b[32m━━━━━━━━━━━━━━━━━━━━\u001b[0m\u001b[37m\u001b[0m \u001b[1m0s\u001b[0m 6ms/step - accuracy: 0.9224 - loss: 0.2478 - val_accuracy: 0.9483 - val_loss: 0.2391\n",
            "Epoch 40/50\n",
            "\u001b[1m15/15\u001b[0m \u001b[32m━━━━━━━━━━━━━━━━━━━━\u001b[0m\u001b[37m\u001b[0m \u001b[1m0s\u001b[0m 7ms/step - accuracy: 0.9032 - loss: 0.2432 - val_accuracy: 0.9483 - val_loss: 0.2333\n",
            "Epoch 41/50\n",
            "\u001b[1m15/15\u001b[0m \u001b[32m━━━━━━━━━━━━━━━━━━━━\u001b[0m\u001b[37m\u001b[0m \u001b[1m0s\u001b[0m 9ms/step - accuracy: 0.9313 - loss: 0.2557 - val_accuracy: 0.9483 - val_loss: 0.2253\n",
            "Epoch 42/50\n",
            "\u001b[1m15/15\u001b[0m \u001b[32m━━━━━━━━━━━━━━━━━━━━\u001b[0m\u001b[37m\u001b[0m \u001b[1m0s\u001b[0m 7ms/step - accuracy: 0.8893 - loss: 0.3090 - val_accuracy: 0.9483 - val_loss: 0.2236\n",
            "Epoch 43/50\n",
            "\u001b[1m15/15\u001b[0m \u001b[32m━━━━━━━━━━━━━━━━━━━━\u001b[0m\u001b[37m\u001b[0m \u001b[1m0s\u001b[0m 7ms/step - accuracy: 0.9193 - loss: 0.2419 - val_accuracy: 0.9483 - val_loss: 0.2192\n",
            "Epoch 44/50\n",
            "\u001b[1m15/15\u001b[0m \u001b[32m━━━━━━━━━━━━━━━━━━━━\u001b[0m\u001b[37m\u001b[0m \u001b[1m0s\u001b[0m 10ms/step - accuracy: 0.9009 - loss: 0.2368 - val_accuracy: 0.9483 - val_loss: 0.2143\n",
            "Epoch 45/50\n",
            "\u001b[1m15/15\u001b[0m \u001b[32m━━━━━━━━━━━━━━━━━━━━\u001b[0m\u001b[37m\u001b[0m \u001b[1m0s\u001b[0m 7ms/step - accuracy: 0.9422 - loss: 0.2098 - val_accuracy: 0.9483 - val_loss: 0.2066\n",
            "Epoch 46/50\n",
            "\u001b[1m15/15\u001b[0m \u001b[32m━━━━━━━━━━━━━━━━━━━━\u001b[0m\u001b[37m\u001b[0m \u001b[1m0s\u001b[0m 7ms/step - accuracy: 0.9530 - loss: 0.1781 - val_accuracy: 0.9655 - val_loss: 0.1991\n",
            "Epoch 47/50\n",
            "\u001b[1m15/15\u001b[0m \u001b[32m━━━━━━━━━━━━━━━━━━━━\u001b[0m\u001b[37m\u001b[0m \u001b[1m0s\u001b[0m 9ms/step - accuracy: 0.9196 - loss: 0.2106 - val_accuracy: 0.9655 - val_loss: 0.1911\n",
            "Epoch 48/50\n",
            "\u001b[1m15/15\u001b[0m \u001b[32m━━━━━━━━━━━━━━━━━━━━\u001b[0m\u001b[37m\u001b[0m \u001b[1m0s\u001b[0m 7ms/step - accuracy: 0.9331 - loss: 0.2001 - val_accuracy: 0.9655 - val_loss: 0.1878\n",
            "Epoch 49/50\n",
            "\u001b[1m15/15\u001b[0m \u001b[32m━━━━━━━━━━━━━━━━━━━━\u001b[0m\u001b[37m\u001b[0m \u001b[1m0s\u001b[0m 7ms/step - accuracy: 0.9303 - loss: 0.2118 - val_accuracy: 0.9655 - val_loss: 0.1812\n",
            "Epoch 50/50\n",
            "\u001b[1m15/15\u001b[0m \u001b[32m━━━━━━━━━━━━━━━━━━━━\u001b[0m\u001b[37m\u001b[0m \u001b[1m0s\u001b[0m 7ms/step - accuracy: 0.9297 - loss: 0.2015 - val_accuracy: 0.9655 - val_loss: 0.1750\n"
          ]
        }
      ]
    },
    {
      "cell_type": "markdown",
      "source": [
        "Compile the Model"
      ],
      "metadata": {
        "id": "SdSHs3Wi5_bo"
      }
    },
    {
      "cell_type": "markdown",
      "source": [
        "Summary of the Model"
      ],
      "metadata": {
        "id": "7JyQ_eMg71f0"
      }
    },
    {
      "cell_type": "code",
      "source": [
        "model.summary()"
      ],
      "metadata": {
        "colab": {
          "base_uri": "https://localhost:8080/",
          "height": 241
        },
        "id": "344hOn-q7zzg",
        "outputId": "2855aa2d-0de0-45db-b7e6-4bbb38a9bcaa"
      },
      "execution_count": null,
      "outputs": [
        {
          "output_type": "display_data",
          "data": {
            "text/plain": [
              "\u001b[1mModel: \"sequential_13\"\u001b[0m\n"
            ],
            "text/html": [
              "<pre style=\"white-space:pre;overflow-x:auto;line-height:normal;font-family:Menlo,'DejaVu Sans Mono',consolas,'Courier New',monospace\"><span style=\"font-weight: bold\">Model: \"sequential_13\"</span>\n",
              "</pre>\n"
            ]
          },
          "metadata": {}
        },
        {
          "output_type": "display_data",
          "data": {
            "text/plain": [
              "┏━━━━━━━━━━━━━━━━━━━━━━━━━━━━━━━━━┳━━━━━━━━━━━━━━━━━━━━━━━━┳━━━━━━━━━━━━━━━┓\n",
              "┃\u001b[1m \u001b[0m\u001b[1mLayer (type)                   \u001b[0m\u001b[1m \u001b[0m┃\u001b[1m \u001b[0m\u001b[1mOutput Shape          \u001b[0m\u001b[1m \u001b[0m┃\u001b[1m \u001b[0m\u001b[1m      Param #\u001b[0m\u001b[1m \u001b[0m┃\n",
              "┡━━━━━━━━━━━━━━━━━━━━━━━━━━━━━━━━━╇━━━━━━━━━━━━━━━━━━━━━━━━╇━━━━━━━━━━━━━━━┩\n",
              "│ dense_26 (\u001b[38;5;33mDense\u001b[0m)                │ (\u001b[38;5;45mNone\u001b[0m, \u001b[38;5;34m32\u001b[0m)             │           \u001b[38;5;34m928\u001b[0m │\n",
              "├─────────────────────────────────┼────────────────────────┼───────────────┤\n",
              "│ dropout_8 (\u001b[38;5;33mDropout\u001b[0m)             │ (\u001b[38;5;45mNone\u001b[0m, \u001b[38;5;34m32\u001b[0m)             │             \u001b[38;5;34m0\u001b[0m │\n",
              "├─────────────────────────────────┼────────────────────────┼───────────────┤\n",
              "│ dense_27 (\u001b[38;5;33mDense\u001b[0m)                │ (\u001b[38;5;45mNone\u001b[0m, \u001b[38;5;34m1\u001b[0m)              │            \u001b[38;5;34m33\u001b[0m │\n",
              "└─────────────────────────────────┴────────────────────────┴───────────────┘\n"
            ],
            "text/html": [
              "<pre style=\"white-space:pre;overflow-x:auto;line-height:normal;font-family:Menlo,'DejaVu Sans Mono',consolas,'Courier New',monospace\">┏━━━━━━━━━━━━━━━━━━━━━━━━━━━━━━━━━┳━━━━━━━━━━━━━━━━━━━━━━━━┳━━━━━━━━━━━━━━━┓\n",
              "┃<span style=\"font-weight: bold\"> Layer (type)                    </span>┃<span style=\"font-weight: bold\"> Output Shape           </span>┃<span style=\"font-weight: bold\">       Param # </span>┃\n",
              "┡━━━━━━━━━━━━━━━━━━━━━━━━━━━━━━━━━╇━━━━━━━━━━━━━━━━━━━━━━━━╇━━━━━━━━━━━━━━━┩\n",
              "│ dense_26 (<span style=\"color: #0087ff; text-decoration-color: #0087ff\">Dense</span>)                │ (<span style=\"color: #00d7ff; text-decoration-color: #00d7ff\">None</span>, <span style=\"color: #00af00; text-decoration-color: #00af00\">32</span>)             │           <span style=\"color: #00af00; text-decoration-color: #00af00\">928</span> │\n",
              "├─────────────────────────────────┼────────────────────────┼───────────────┤\n",
              "│ dropout_8 (<span style=\"color: #0087ff; text-decoration-color: #0087ff\">Dropout</span>)             │ (<span style=\"color: #00d7ff; text-decoration-color: #00d7ff\">None</span>, <span style=\"color: #00af00; text-decoration-color: #00af00\">32</span>)             │             <span style=\"color: #00af00; text-decoration-color: #00af00\">0</span> │\n",
              "├─────────────────────────────────┼────────────────────────┼───────────────┤\n",
              "│ dense_27 (<span style=\"color: #0087ff; text-decoration-color: #0087ff\">Dense</span>)                │ (<span style=\"color: #00d7ff; text-decoration-color: #00d7ff\">None</span>, <span style=\"color: #00af00; text-decoration-color: #00af00\">1</span>)              │            <span style=\"color: #00af00; text-decoration-color: #00af00\">33</span> │\n",
              "└─────────────────────────────────┴────────────────────────┴───────────────┘\n",
              "</pre>\n"
            ]
          },
          "metadata": {}
        },
        {
          "output_type": "display_data",
          "data": {
            "text/plain": [
              "\u001b[1m Total params: \u001b[0m\u001b[38;5;34m2,885\u001b[0m (11.27 KB)\n"
            ],
            "text/html": [
              "<pre style=\"white-space:pre;overflow-x:auto;line-height:normal;font-family:Menlo,'DejaVu Sans Mono',consolas,'Courier New',monospace\"><span style=\"font-weight: bold\"> Total params: </span><span style=\"color: #00af00; text-decoration-color: #00af00\">2,885</span> (11.27 KB)\n",
              "</pre>\n"
            ]
          },
          "metadata": {}
        },
        {
          "output_type": "display_data",
          "data": {
            "text/plain": [
              "\u001b[1m Trainable params: \u001b[0m\u001b[38;5;34m961\u001b[0m (3.75 KB)\n"
            ],
            "text/html": [
              "<pre style=\"white-space:pre;overflow-x:auto;line-height:normal;font-family:Menlo,'DejaVu Sans Mono',consolas,'Courier New',monospace\"><span style=\"font-weight: bold\"> Trainable params: </span><span style=\"color: #00af00; text-decoration-color: #00af00\">961</span> (3.75 KB)\n",
              "</pre>\n"
            ]
          },
          "metadata": {}
        },
        {
          "output_type": "display_data",
          "data": {
            "text/plain": [
              "\u001b[1m Non-trainable params: \u001b[0m\u001b[38;5;34m0\u001b[0m (0.00 B)\n"
            ],
            "text/html": [
              "<pre style=\"white-space:pre;overflow-x:auto;line-height:normal;font-family:Menlo,'DejaVu Sans Mono',consolas,'Courier New',monospace\"><span style=\"font-weight: bold\"> Non-trainable params: </span><span style=\"color: #00af00; text-decoration-color: #00af00\">0</span> (0.00 B)\n",
              "</pre>\n"
            ]
          },
          "metadata": {}
        },
        {
          "output_type": "display_data",
          "data": {
            "text/plain": [
              "\u001b[1m Optimizer params: \u001b[0m\u001b[38;5;34m1,924\u001b[0m (7.52 KB)\n"
            ],
            "text/html": [
              "<pre style=\"white-space:pre;overflow-x:auto;line-height:normal;font-family:Menlo,'DejaVu Sans Mono',consolas,'Courier New',monospace\"><span style=\"font-weight: bold\"> Optimizer params: </span><span style=\"color: #00af00; text-decoration-color: #00af00\">1,924</span> (7.52 KB)\n",
              "</pre>\n"
            ]
          },
          "metadata": {}
        }
      ]
    },
    {
      "cell_type": "markdown",
      "source": [
        "Train Model"
      ],
      "metadata": {
        "id": "G_w2ilg26wEB"
      }
    },
    {
      "cell_type": "markdown",
      "source": [
        "Accuracy And Loss Curves"
      ],
      "metadata": {
        "id": "G-N3mKN66866"
      }
    },
    {
      "cell_type": "code",
      "source": [
        "import matplotlib.pyplot as plt\n",
        "\n",
        "# Accuracy plot\n",
        "plt.figure(figsize=(10, 4))\n",
        "plt.subplot(1, 2, 1)\n",
        "plt.plot(history.history['accuracy'], label='Train Acc')\n",
        "plt.plot(history.history['val_accuracy'], label='Val Acc')\n",
        "plt.title('Accuracy Over Epochs')\n",
        "plt.xlabel('Epoch')\n",
        "plt.ylabel('Accuracy')\n",
        "plt.legend()\n",
        "\n",
        "# Loss plot\n",
        "plt.subplot(1, 2, 2)\n",
        "plt.plot(history.history['loss'], label='Train Loss')\n",
        "plt.plot(history.history['val_loss'], label='Val Loss')\n",
        "plt.title('Loss Over Epochs')\n",
        "plt.xlabel('Epoch')\n",
        "plt.ylabel('Loss')\n",
        "plt.legend()\n",
        "\n",
        "plt.tight_layout()\n",
        "plt.show()"
      ],
      "metadata": {
        "colab": {
          "base_uri": "https://localhost:8080/",
          "height": 407
        },
        "id": "Wp1lCsT160tO",
        "outputId": "2071b0b2-6fe1-4c87-ff46-a5b8197069c8"
      },
      "execution_count": null,
      "outputs": [
        {
          "output_type": "display_data",
          "data": {
            "text/plain": [
              "<Figure size 1000x400 with 2 Axes>"
            ],
            "image/png": "[encoded data removed]"
          },
          "metadata": {}
        }
      ]
    },
    {
      "cell_type": "markdown",
      "source": [
        "Confusion Metrix"
      ],
      "metadata": {
        "id": "W95JHKWD7D6L"
      }
    },
    {
      "cell_type": "code",
      "source": [
        "from sklearn.metrics import accuracy_score, confusion_matrix, classification_report\n",
        "import matplotlib.pyplot as plt\n",
        "import seaborn as sns\n",
        "\n",
        "# Predictions on test set (probabilities)\n",
        "y_pred_probs = model.predict(X_test)\n",
        "\n",
        "# Convert probabilities to class labels (0 or 1)\n",
        "y_pred = (y_pred_probs > 0.5).astype(int)\n",
        "\n",
        "# Accuracy\n",
        "test_accuracy = accuracy_score(y_test, y_pred)\n",
        "print(\"Test Accuracy:\", test_accuracy)\n",
        "\n",
        "# Confusion Matrix\n",
        "cm = confusion_matrix(y_test, y_pred)\n",
        "sns.heatmap(cm, annot=True, fmt='d', cmap='Blues', xticklabels=[\"No Diabetes\", \"Diabetes\"], yticklabels=[\"No Diabetes\", \"Diabetes\"])\n",
        "plt.xlabel(\"Predicted\")\n",
        "plt.ylabel(\"Actual\")\n",
        "plt.title(\"Confusion Matrix\")\n",
        "plt.show()\n"
      ],
      "metadata": {
        "colab": {
          "base_uri": "https://localhost:8080/",
          "height": 508
        },
        "id": "HAn5kZMR7AhI",
        "outputId": "e0664a8c-cb6d-42ef-b2b9-e7d3819b59a8"
      },
      "execution_count": null,
      "outputs": [
        {
          "output_type": "stream",
          "name": "stdout",
          "text": [
            "\u001b[1m2/2\u001b[0m \u001b[32m━━━━━━━━━━━━━━━━━━━━\u001b[0m\u001b[37m\u001b[0m \u001b[1m0s\u001b[0m 50ms/step\n",
            "Test Accuracy: 0.9655172413793104\n"
          ]
        },
        {
          "output_type": "display_data",
          "data": {
            "text/plain": [
              "<Figure size 640x480 with 2 Axes>"
            ],
            "image/png": "[encoded data removed]"
          },
          "metadata": {}
        }
      ]
    },
    {
      "cell_type": "markdown",
      "source": [
        "Classification Report"
      ],
      "metadata": {
        "id": "4cVjlOWx7ZKL"
      }
    },
    {
      "cell_type": "code",
      "source": [
        "print(classification_report(y_test, y_pred))"
      ],
      "metadata": {
        "colab": {
          "base_uri": "https://localhost:8080/"
        },
        "id": "DyeHg-YA7Kvz",
        "outputId": "7b6c12b2-1792-4ab9-d2f3-b0e4985ea26f"
      },
      "execution_count": null,
      "outputs": [
        {
          "output_type": "stream",
          "name": "stdout",
          "text": [
            "              precision    recall  f1-score   support\n",
            "\n",
            "           0       0.96      0.96      0.96        26\n",
            "           1       0.97      0.97      0.97        32\n",
            "\n",
            "    accuracy                           0.97        58\n",
            "   macro avg       0.97      0.97      0.97        58\n",
            "weighted avg       0.97      0.97      0.97        58\n",
            "\n"
          ]
        }
      ]
    },
    {
      "cell_type": "markdown",
      "source": [
        "ROC and AUC score"
      ],
      "metadata": {
        "id": "ZMjb-nuL7jS2"
      }
    },
    {
      "cell_type": "code",
      "source": [
        "from sklearn.metrics import roc_curve, auc\n",
        "\n",
        "fpr, tpr, thresholds = roc_curve(y_test, y_pred_probs)\n",
        "roc_auc = auc(fpr, tpr)\n",
        "\n",
        "plt.figure()\n",
        "plt.plot(fpr, tpr, color='darkorange', lw=2, label='AUC = %0.2f' % roc_auc)\n",
        "plt.plot([0, 1], [0, 1], color='navy', lw=2, linestyle='--')\n",
        "plt.title('Receiver Operating Characteristic (ROC)')\n",
        "plt.xlabel('False Positive Rate')\n",
        "plt.ylabel('True Positive Rate')\n",
        "plt.legend(loc='lower right')\n",
        "plt.show()\n",
        "\n",
        "print(\"AUC Score:\", roc_auc)"
      ],
      "metadata": {
        "colab": {
          "base_uri": "https://localhost:8080/",
          "height": 490
        },
        "id": "_gTYd29U7d6H",
        "outputId": "1f858533-ad82-49f8-8da8-e25ea95e5ddc"
      },
      "execution_count": null,
      "outputs": [
        {
          "output_type": "display_data",
          "data": {
            "text/plain": [
              "<Figure size 640x480 with 1 Axes>"
            ],
            "image/png": "[encoded data removed]"
          },
          "metadata": {}
        },
        {
          "output_type": "stream",
          "name": "stdout",
          "text": [
            "AUC Score: 0.998798076923077\n"
          ]
        }
      ]
    },
    {
      "cell_type": "markdown",
      "source": [
        "Preprocessing and Training pipeline"
      ],
      "metadata": {
        "id": "w3XwshllgeD7"
      }
    },
    {
      "cell_type": "code",
      "source": [
        "import pandas as pd\n",
        "from sklearn.model_selection import train_test_split\n",
        "from sklearn.pipeline import Pipeline\n",
        "from sklearn.preprocessing import StandardScaler\n",
        "from sklearn.compose import ColumnTransformer\n",
        "from sklearn.impute import SimpleImputer\n",
        "from sklearn.ensemble import RandomForestClassifier\n",
        "import joblib\n",
        "\n",
        "numeric_features = [\n",
        "    'Age', 'Weight(kg)', 'Height(cm)', 'Height(m)', 'BMI', 'Average hours of sleep per night'\n",
        "]\n",
        "\n",
        "categorical_features = [col for col in df.columns\n",
        "                        if col not in numeric_features + ['Diabetes_Risk', 'Column 1']]\n",
        "\n",
        "all_features = numeric_features + categorical_features\n",
        "\n",
        "X = df[all_features]\n",
        "y = df['Diabetes_Risk']\n",
        "\n",
        "X_train, X_test, y_train, y_test = train_test_split(X, y, test_size=0.2, random_state=42)\n",
        "\n",
        "\n",
        "# Preprocessing\n",
        "numeric_transformer = Pipeline(steps=[\n",
        "    (\"imputer\", SimpleImputer(strategy=\"median\")),\n",
        "    (\"scaler\", StandardScaler())\n",
        "])\n",
        "\n",
        "categorical_transformer = Pipeline(steps=[\n",
        "    (\"imputer\", SimpleImputer(strategy=\"most_frequent\"))\n",
        "])\n",
        "\n",
        "preprocessor = ColumnTransformer(\n",
        "    transformers=[\n",
        "        (\"num\", numeric_transformer, numeric_features),\n",
        "        (\"cat\", categorical_transformer, categorical_features)\n",
        "    ],\n",
        "    remainder=\"drop\"\n",
        ")\n",
        "\n",
        "# Final model pipeline\n",
        "model = Pipeline(steps=[\n",
        "    (\"preprocessor\", preprocessor),\n",
        "    (\"classifier\", RandomForestClassifier(random_state=42))\n",
        "])\n",
        "\n",
        "# Train model\n",
        "model.fit(X_train, y_train)\n",
        "\n",
        "# Save pipeline\n",
        "joblib.dump(model, 'full_preprocessing_pipeline.pkl')\n",
        "print(\"Pipeline trained and saved successfully!\")\n"
      ],
      "metadata": {
        "id": "if5SwrTHHv7H",
        "colab": {
          "base_uri": "https://localhost:8080/"
        },
        "outputId": "ccb1bd6e-85da-4f6a-96f8-5aa4312877d9"
      },
      "execution_count": null,
      "outputs": [
        {
          "output_type": "stream",
          "name": "stdout",
          "text": [
            "Pipeline trained and saved successfully!\n"
          ]
        }
      ]
    },
    {
      "cell_type": "markdown",
      "source": [
        "Getting the realtime user inputs"
      ],
      "metadata": {
        "id": "ndBkxDO5Wp_V"
      }
    },
    {
      "cell_type": "code",
      "source": [
        "import joblib\n",
        "import pandas as pd\n",
        "\n",
        "# Load trained model pipeline\n",
        "model = joblib.load(\"full_preprocessing_pipeline.pkl\")\n",
        "\n",
        "# Collect user inputs\n",
        "print(\"Please enter the following details:\")\n",
        "\n",
        "age = int(input(\"Age (years): \"))\n",
        "weight = float(input(\"Weight (kg): \"))\n",
        "height_cm = float(input(\"Height (cm): \"))\n",
        "height_m = height_cm / 100\n",
        "bmi = weight / (height_m ** 2)\n",
        "sleep_hours = int(input(\"Average hours of sleep per night: \"))\n",
        "\n",
        "print(\"\\nGender Options: Male / Female\")\n",
        "gender = input(\"Gender: \")\n",
        "\n",
        "print(\"\\nPhysical Activity Options:\")\n",
        "print(\"1. Low (Little to no regular physical activity)\")\n",
        "print(\"2. Moderate – Some physical activity 1–3 days a week (e.g., walking, light exercise)\")\n",
        "print(\"3. High – Regular physical activity 4+ days a week (e.g., gym, running, sports)\")\n",
        "activity = input(\"Physical Activity Level: \")\n",
        "\n",
        "print(\"\\nDiet Options:\")\n",
        "print(\"1. Healthy (Balanced diet with mix of carbs, proteins, vegetables, limited sugar and processed foods)\")\n",
        "print(\"2. Moderately Healthy (Mixed diet with occasional healthy meals and some fast food or processed items)\")\n",
        "print(\"3. Unhealthy (Mostly high-sugar, high-fat, or processed foods with few fruits/vegetables)\")\n",
        "diet = input(\"Typical Diet: \")\n",
        "\n",
        "print(\"\\nSmoking Habits:\")\n",
        "print(\"1. I do not smoke\")\n",
        "print(\"2. Used to smoke but quit\")\n",
        "print(\"3. Occasionally (Less than once a week)\")\n",
        "print(\"4. 1-2 times per week\")\n",
        "print(\"5. 3-6 times per week\")\n",
        "print(\"6. Daily(1-5 times per day)\")\n",
        "smoking = input(\"Smoking Habits: \")\n",
        "\n",
        "print(\"\\nAlcohol consumption:\")\n",
        "print(\"1. None (I do not drink alcohol)\")\n",
        "print(\"2. Occasional (e.g., social drinking, 1–2 times per month)\")\n",
        "print(\"3. Moderate (e.g., 1–2 times per week)\")\n",
        "print(\"4. Frequent (3 or more times per week)\")\n",
        "alcohol = input(\"Alcohol Consumption: \")\n",
        "\n",
        "print(\"\\n meals at regular times each day:\")\n",
        "print(\"1. Yes, mostly at the same time\")\n",
        "print(\"2. No, meal times vary\")\n",
        "print(\"3. I often skip meals\")\n",
        "meal_regular = input(\"Do you usually eat your meals at regular times each day: \")\n",
        "\n",
        "print(\"\\nStress level:\")\n",
        "print(\"1. Rarely\")\n",
        "print(\"2. Sometimes\")\n",
        "print(\"3. Often\")\n",
        "print(\"4. Almost every day\")\n",
        "stress = input(\"How often do you feel stressed or emotionally overwhelmed in a typical week: \")\n",
        "\n",
        "\n",
        "family_history = input(\"Do you have a family history of diabetes? (Yes/No): \")\n",
        "hypertension = input(\"Diagnosed with hypertension (high blood pressure)? (Yes/No): \")\n",
        "heart_disease = input(\"Diagnosed with heart disease? (Yes/No): \")\n",
        "\n",
        "if age < 20:\n",
        "    age_group = \"<20\"\n",
        "elif 20 <= age <= 29:\n",
        "    age_group = \"20-29\"\n",
        "elif 30 <= age <= 39:\n",
        "    age_group = \"30-39\"\n",
        "elif 40 <= age <= 49:\n",
        "    age_group = \"40-49\"\n",
        "elif 50 <= age <= 59:\n",
        "    age_group = \"50-59\"\n",
        "else:\n",
        "    age_group = \"60+\""
      ],
      "metadata": {
        "id": "7-RpgiQqgIAq",
        "colab": {
          "base_uri": "https://localhost:8080/"
        },
        "outputId": "1ce80158-ee63-4688-d907-f83deeb73de3"
      },
      "execution_count": null,
      "outputs": [
        {
          "name": "stdout",
          "output_type": "stream",
          "text": [
            "Please enter the following details:\n",
            "Age (years): 25\n",
            "Weight (kg): 45\n",
            "Height (cm): 145\n",
            "Average hours of sleep per night: 6\n",
            "\n",
            "Gender Options: Male / Female\n",
            "Gender: Male\n",
            "\n",
            "Physical Activity Options:\n",
            "1. Low (Little to no regular physical activity)\n",
            "2. Moderate – Some physical activity 1–3 days a week (e.g., walking, light exercise)\n",
            "3. High – Regular physical activity 4+ days a week (e.g., gym, running, sports)\n",
            "Physical Activity Level: Low (Little to no regular physical activity)\n",
            "\n",
            "Diet Options:\n",
            "1. Healthy (Balanced diet with mix of carbs, proteins, vegetables, limited sugar and processed foods)\n",
            "2. Moderately Healthy (Mixed diet with occasional healthy meals and some fast food or processed items)\n",
            "3. Unhealthy (Mostly high-sugar, high-fat, or processed foods with few fruits/vegetables)\n",
            "Typical Diet: Moderately Healthy (Mixed diet with occasional healthy meals and some fast food or processed items)\n",
            "\n",
            "Smoking Habits:\n",
            "1. I do not smoke\n",
            "2. Used to smoke but quit\n",
            "3. Occasionally (Less than once a week)\n",
            "4. 1-2 times per week\n",
            "5. 3-6 times per week\n",
            "6. Daily(1-5 times per day)\n",
            "Smoking Habits: Occasionally (Less than once a week)\n",
            "\n",
            "Alcohol consumption:\n",
            "1. None (I do not drink alcohol)\n",
            "2. Occasional (e.g., social drinking, 1–2 times per month)\n",
            "3. Moderate (e.g., 1–2 times per week)\n",
            "4. Frequent (3 or more times per week)\n",
            "Alcohol Consumption: Occasional (e.g., social drinking, 1–2 times per month)\n",
            "\n",
            " meals at regular times each day:\n",
            "1. Yes, mostly at the same time\n",
            "2. No, meal times vary\n",
            "3. I often skip meals\n",
            "Do you usually eat your meals at regular times each day: No, meal times vary\n",
            "\n",
            "Stress level:\n",
            "1. Rarely\n",
            "2. Sometimes\n",
            "3. Often\n",
            "4. Almost every day\n",
            "How often do you feel stressed or emotionally overwhelmed in a typical week: Sometimes\n",
            "Do you have a family history of diabetes? (Yes/No): No\n",
            "Diagnosed with hypertension (high blood pressure)? (Yes/No): No\n",
            "Diagnosed with heart disease? (Yes/No): No\n"
          ]
        }
      ]
    },
    {
      "cell_type": "markdown",
      "source": [
        "Prediction for the user input data"
      ],
      "metadata": {
        "id": "dx0PkripXYWf"
      }
    },
    {
      "cell_type": "code",
      "source": [
        "# Create DataFrame\n",
        "user_data = {\n",
        "    \"Age\": age,\n",
        "    \"Weight(kg)\": weight,\n",
        "    \"Height(cm)\": height_cm,\n",
        "    \"Height(m)\": height_m,\n",
        "    \"BMI\": bmi,\n",
        "    \"Average hours of sleep per night\": sleep_hours,\n",
        "    \"Gender\": gender,\n",
        "    \"Physical Activity Level\": activity,\n",
        "    \"How would you describe your typical diet?\": diet,\n",
        "    \"Do you have a family history of diabetes?\": family_history,\n",
        "    \"Have you been diagnosed with hypertension(high blood pressure)?\": hypertension,\n",
        "    \"Have you been diagnosed with heart disease?\": heart_disease,\n",
        "    \"Smoking Habits?\": smoking,\n",
        "    \"Alcohol Consumption\": alcohol,\n",
        "    \"Do you usually eat your meals at regular times each day?\": meal_regular,\n",
        "    \"How often do you feel stressed or emotionally overwhelmed in a typical week?\": stress,\n",
        "    \"AgeGroup\": age_group\n",
        "}\n",
        "\n",
        "user_df = pd.DataFrame([user_data])\n",
        "\n",
        "expected_cols = model.feature_names_in_\n",
        "\n",
        "user_encoded = pd.get_dummies(user_df)\n",
        "\n",
        "user_encoded = user_encoded.reindex(columns=expected_cols, fill_value=0)\n",
        "\n",
        "# Predict\n",
        "prediction = model.predict(user_encoded)[0]\n",
        "prediction_proba = model.predict_proba(user_encoded)[0]\n",
        "\n",
        "# Map probabilities manually\n",
        "print(\"Prediction:\", \"Yes\" if prediction == 1 else \"No\")\n",
        "print(\"Prediction Probabilities:\")\n",
        "print(f\"No: {prediction_proba[0]:.2f}\")\n",
        "print(f\"Yes: {prediction_proba[1]:.2f}\")"
      ],
      "metadata": {
        "colab": {
          "base_uri": "https://localhost:8080/"
        },
        "id": "V4mQvQVcW5lM",
        "outputId": "8d79392f-36aa-42d7-e287-c641eba159ae"
      },
      "execution_count": null,
      "outputs": [
        {
          "output_type": "stream",
          "name": "stdout",
          "text": [
            "Prediction: Yes\n",
            "Prediction Probabilities:\n",
            "No: 0.44\n",
            "Yes: 0.56\n"
          ]
        }
      ]
    },
    {
      "cell_type": "code",
      "source": [],
      "metadata": {
        "id": "W95e0u8BXWCE"
      },
      "execution_count": null,
      "outputs": []
    }
  ]
}