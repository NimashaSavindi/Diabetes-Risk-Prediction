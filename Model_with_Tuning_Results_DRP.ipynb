{
  "nbformat": 4,
  "nbformat_minor": 0,
  "metadata": {
    "colab": {
      "provenance": [],
      "authorship_tag": "ABX9TyOxWSSKzila1euziWMxNSwr",
      "include_colab_link": true
    },
    "kernelspec": {
      "name": "python3",
      "display_name": "Python 3"
    },
    "language_info": {
      "name": "python"
    }
  },
  "cells": [
    {
      "cell_type": "markdown",
      "metadata": {
        "id": "view-in-github",
        "colab_type": "text"
      },
      "source": [
        "<a href=\"https://colab.research.google.com/github/NimashaSavindi/Diabetes-Risk-Prediction/blob/main/Model_with_Tuning_Results_DRP.ipynb\" target=\"_parent\"><img src=\"https://colab.research.google.com/assets/colab-badge.svg\" alt=\"Open In Colab\"/></a>"
      ]
    },
    {
      "cell_type": "markdown",
      "source": [
        "Dataset Completeness & Initial Formatting"
      ],
      "metadata": {
        "id": "MJKTRVbVzzC9"
      }
    },
    {
      "cell_type": "code",
      "execution_count": null,
      "metadata": {
        "id": "mhDTLkE2zEPV"
      },
      "outputs": [],
      "source": [
        "import pandas as pd\n",
        "df = pd.read_csv(\"/content/Diabetes Risk Assessment – Anonymous Health Survey  (Responses) - Form Responses 2.csv\")"
      ]
    },
    {
      "cell_type": "code",
      "source": [
        "print(df.shape)"
      ],
      "metadata": {
        "colab": {
          "base_uri": "https://localhost:8080/"
        },
        "id": "UTvTkkYEz49G",
        "outputId": "5f5f4630-0e76-46e4-a1a9-0bfb3abf8f1f"
      },
      "execution_count": null,
      "outputs": [
        {
          "output_type": "stream",
          "name": "stdout",
          "text": [
            "(195, 15)\n"
          ]
        }
      ]
    },
    {
      "cell_type": "code",
      "source": [
        "print(df.info())"
      ],
      "metadata": {
        "colab": {
          "base_uri": "https://localhost:8080/"
        },
        "id": "1qdSgOmGz7QY",
        "outputId": "d66e7bc6-57c1-4ced-c698-9451fde6ba34"
      },
      "execution_count": null,
      "outputs": [
        {
          "output_type": "stream",
          "name": "stdout",
          "text": [
            "<class 'pandas.core.frame.DataFrame'>\n",
            "RangeIndex: 195 entries, 0 to 194\n",
            "Data columns (total 15 columns):\n",
            " #   Column                                                                        Non-Null Count  Dtype \n",
            "---  ------                                                                        --------------  ----- \n",
            " 0   Column 1                                                                      195 non-null    object\n",
            " 1   Age                                                                           195 non-null    int64 \n",
            " 2   Gender                                                                        195 non-null    object\n",
            " 3   Weight(kg)                                                                    195 non-null    object\n",
            " 4   Height(cm)                                                                    195 non-null    object\n",
            " 5   Physical Activity Level                                                       195 non-null    object\n",
            " 6     How would you describe your typical diet?                                   195 non-null    object\n",
            " 7     Do you have a family history of diabetes?                                   195 non-null    object\n",
            " 8   Have you been diagnosed with hypertension(high blood pressure)?               195 non-null    object\n",
            " 9   Have you been diagnosed with heart disease?                                   195 non-null    object\n",
            " 10  Smoking Habits?                                                               195 non-null    object\n",
            " 11  Average hours of sleep per night                                              195 non-null    object\n",
            " 12  Alcohol Consumption                                                           195 non-null    object\n",
            " 13  Do you usually eat your meals at regular times each day?                      195 non-null    object\n",
            " 14  How often do you feel stressed or emotionally overwhelmed in a typical week?  195 non-null    object\n",
            "dtypes: int64(1), object(14)\n",
            "memory usage: 23.0+ KB\n",
            "None\n"
          ]
        }
      ]
    },
    {
      "cell_type": "markdown",
      "source": [
        "Clean Column Names Early.Removes extra spaces"
      ],
      "metadata": {
        "id": "cunwjpl20MNy"
      }
    },
    {
      "cell_type": "code",
      "source": [
        "df.columns = df.columns.str.strip()"
      ],
      "metadata": {
        "id": "YeqnO7Q7z-J-"
      },
      "execution_count": null,
      "outputs": []
    },
    {
      "cell_type": "markdown",
      "source": [
        "data handleing"
      ],
      "metadata": {
        "id": "ZJcHvl2x0VJD"
      }
    },
    {
      "cell_type": "markdown",
      "source": [
        "Remove non-numeric characters and convert to float"
      ],
      "metadata": {
        "id": "P7OuEAi10a2x"
      }
    },
    {
      "cell_type": "code",
      "source": [
        "df[\"Height(cm)\"] = df[\"Height(cm)\"].str.extract('(\\d+\\.?\\d*)').astype(float)\n",
        "df[\"Weight(kg)\"] = df[\"Weight(kg)\"].str.extract('(\\d+\\.?\\d*)').astype(float)"
      ],
      "metadata": {
        "id": "oAz3R5X_0Rxr",
        "colab": {
          "base_uri": "https://localhost:8080/"
        },
        "outputId": "b823688d-8a80-4937-ec4c-d8a2cc9e1b7e"
      },
      "execution_count": null,
      "outputs": [
        {
          "output_type": "stream",
          "name": "stderr",
          "text": [
            "<>:1: SyntaxWarning: invalid escape sequence '\\d'\n",
            "<>:2: SyntaxWarning: invalid escape sequence '\\d'\n",
            "<>:1: SyntaxWarning: invalid escape sequence '\\d'\n",
            "<>:2: SyntaxWarning: invalid escape sequence '\\d'\n",
            "/tmp/ipython-input-1170781582.py:1: SyntaxWarning: invalid escape sequence '\\d'\n",
            "  df[\"Height(cm)\"] = df[\"Height(cm)\"].str.extract('(\\d+\\.?\\d*)').astype(float)\n",
            "/tmp/ipython-input-1170781582.py:2: SyntaxWarning: invalid escape sequence '\\d'\n",
            "  df[\"Weight(kg)\"] = df[\"Weight(kg)\"].str.extract('(\\d+\\.?\\d*)').astype(float)\n"
          ]
        }
      ]
    },
    {
      "cell_type": "markdown",
      "source": [
        "Clean Sleep Hours if values are like \"6-7 hours\".Replace ranges like \"6-7 hours\" with average (6.5)"
      ],
      "metadata": {
        "id": "kvMpAVXn1b3k"
      }
    },
    {
      "cell_type": "code",
      "source": [
        "print(df[\"Average hours of sleep per night\"].unique())"
      ],
      "metadata": {
        "colab": {
          "base_uri": "https://localhost:8080/"
        },
        "id": "30BEaWgB1YgF",
        "outputId": "6d960828-840b-489c-cbc0-4185dfcf17a8"
      },
      "execution_count": null,
      "outputs": [
        {
          "output_type": "stream",
          "name": "stdout",
          "text": [
            "['6-7' '6' '5-6 hr' '5' '5-6h' '7' '5 hours' '4hours' '3 hours per day '\n",
            " '4 - 6 hours' '6 hours ' '8' '4/5 hours ' '7 hours' '5 or 6' '5hr' '9'\n",
            " '8hr' '6 hours' '5 hours ' '6 Hours' '6 h' '5h' '7h' '4h' '6h' '4' '3'\n",
            " '3h']\n"
          ]
        }
      ]
    },
    {
      "cell_type": "code",
      "source": [
        "df[\"Average hours of sleep per night\"] = df[\"Average hours of sleep per night\"].astype(str).str.strip()\n",
        "\n",
        "sleep_mapping = {\n",
        "    \"Less than 5 hours\": 4.5,\n",
        "    \"More than 8 hours\": 9,\n",
        "    \"5-6\": 5.5,\n",
        "    \"5-6 hr\": 5.5,\n",
        "    \"6-7\": 6.5,\n",
        "    \"6-7 hours\": 6.5,\n",
        "    \"6\": 6,\n",
        "    \"7-8\": 7.5,\n",
        "    \"7-8 hours\": 7.5,\n",
        "    \"7\": 7,\n",
        "    \"8\": 8,\n",
        "    \"9\": 9\n",
        "}\n",
        "\n",
        "df[\"Average hours of sleep per night\"] = df[\"Average hours of sleep per night\"].replace(sleep_mapping)"
      ],
      "metadata": {
        "id": "9HzAtIxQ1KNe"
      },
      "execution_count": null,
      "outputs": []
    },
    {
      "cell_type": "code",
      "source": [
        "df[\"Average hours of sleep per night\"] = df[\"Average hours of sleep per night\"].astype(str).str.strip().str.lower()"
      ],
      "metadata": {
        "id": "6T0qVytD1jXO"
      },
      "execution_count": null,
      "outputs": []
    },
    {
      "cell_type": "code",
      "source": [
        "import re\n",
        "\n",
        "def clean_sleep_value(val):\n",
        "    val = val.strip().lower()\n",
        "\n",
        "    # Handle known string patterns first\n",
        "    if \"less\" in val:\n",
        "        return 4.5\n",
        "    if \"more\" in val:\n",
        "        return 9\n",
        "    if \"or\" in val:\n",
        "        return sum([int(x) for x in re.findall(r'\\d+', val)]) / 2\n",
        "    if re.match(r'^\\d+$', val):  # simple numeric\n",
        "        return float(val)\n",
        "\n",
        "    # Extract numbers from ranges like \"5-6\", \"4 - 6 hours\"\n",
        "    nums = re.findall(r'\\d+', val)\n",
        "    if len(nums) == 1:\n",
        "        return float(nums[0])\n",
        "    elif len(nums) == 2:\n",
        "        return sum([int(n) for n in nums]) / 2\n",
        "    else:\n",
        "        return None  # fallback if we can't parse it"
      ],
      "metadata": {
        "id": "Ptg28p091mSz"
      },
      "execution_count": null,
      "outputs": []
    },
    {
      "cell_type": "code",
      "source": [
        "df[\"Average hours of sleep per night\"] = df[\"Average hours of sleep per night\"].apply(clean_sleep_value)\n"
      ],
      "metadata": {
        "id": "27cRYHRP1o5k"
      },
      "execution_count": null,
      "outputs": []
    },
    {
      "cell_type": "code",
      "source": [
        "print(df[\"Average hours of sleep per night\"].unique())\n",
        "print(df[\"Average hours of sleep per night\"].dtype)"
      ],
      "metadata": {
        "colab": {
          "base_uri": "https://localhost:8080/"
        },
        "id": "UwgiIh2w1rrn",
        "outputId": "094a64dd-56bc-4c4f-9721-73fb32d28e97"
      },
      "execution_count": null,
      "outputs": [
        {
          "output_type": "stream",
          "name": "stdout",
          "text": [
            "[5.5 6.  5.  7.  4.  3.  8.  4.5 9. ]\n",
            "float64\n"
          ]
        }
      ]
    },
    {
      "cell_type": "markdown",
      "source": [
        "Feature Engineering"
      ],
      "metadata": {
        "id": "roa527In10ns"
      }
    },
    {
      "cell_type": "markdown",
      "source": [
        "Create BMI Feature"
      ],
      "metadata": {
        "id": "_VJVn5vD1zAL"
      }
    },
    {
      "cell_type": "code",
      "source": [
        "df[\"Height(m)\"] = df[\"Height(cm)\"] / 100\n",
        "df[\"BMI\"] = df[\"Weight(kg)\"] / (df[\"Height(m)\"]**2)\n",
        "\n",
        "def bmi_category(bmi):\n",
        "    if bmi < 18.5:\n",
        "        return \"Underweight\"\n",
        "    elif bmi < 25:\n",
        "        return \"Normal\"\n",
        "    elif bmi < 30:\n",
        "        return \"Overweight\"\n",
        "    else:\n",
        "        return \"Obese\"\n",
        "\n",
        "df[\"BMICategory\"] = df[\"BMI\"].apply(bmi_category)"
      ],
      "metadata": {
        "id": "1uddr8sm1vmV"
      },
      "execution_count": null,
      "outputs": []
    },
    {
      "cell_type": "code",
      "source": [
        "df.head()"
      ],
      "metadata": {
        "colab": {
          "base_uri": "https://localhost:8080/",
          "height": 816
        },
        "id": "4XX5DKIt17LD",
        "outputId": "1c337970-befe-46dc-9f65-fcaaf7bd3079"
      },
      "execution_count": null,
      "outputs": [
        {
          "output_type": "execute_result",
          "data": {
            "text/plain": [
              "             Column 1  Age  Gender  Weight(kg)  Height(cm)  \\\n",
              "0  7/12/2025 20:42:04   24  Female        48.0       157.0   \n",
              "1  7/12/2025 21:09:42   24  Female        45.0       165.0   \n",
              "2  7/12/2025 21:13:29   25  Female        64.0       163.0   \n",
              "3  7/12/2025 21:14:58   26  Female        52.0       157.0   \n",
              "4  7/12/2025 21:25:54   25  Female        48.0       149.0   \n",
              "\n",
              "                             Physical Activity Level  \\\n",
              "0       Low (Little to no regular physical activity)   \n",
              "1       Low (Little to no regular physical activity)   \n",
              "2  Moderate – Some physical activity 1–3 days a w...   \n",
              "3  Moderate – Some physical activity 1–3 days a w...   \n",
              "4  Moderate – Some physical activity 1–3 days a w...   \n",
              "\n",
              "           How would you describe your typical diet?  \\\n",
              "0  Unhealthy (Mostly high-sugar, high-fat, or pro...   \n",
              "1  Moderately Healthy (Mixed diet with occasional...   \n",
              "2  Moderately Healthy (Mixed diet with occasional...   \n",
              "3  Moderately Healthy (Mixed diet with occasional...   \n",
              "4  Healthy (Balanced diet with mix of carbs, prot...   \n",
              "\n",
              "  Do you have a family history of diabetes?  \\\n",
              "0                                        No   \n",
              "1                                        No   \n",
              "2                                        No   \n",
              "3                                       Yes   \n",
              "4                                        No   \n",
              "\n",
              "  Have you been diagnosed with hypertension(high blood pressure)?  \\\n",
              "0                                                 No                \n",
              "1                                                 No                \n",
              "2                                                 No                \n",
              "3                                                 No                \n",
              "4                                                 No                \n",
              "\n",
              "  Have you been diagnosed with heart disease? Smoking Habits?  \\\n",
              "0                                          No  I do not smoke   \n",
              "1                                          No  I do not smoke   \n",
              "2                                         yes  I do not smoke   \n",
              "3                                          No  I do not smoke   \n",
              "4                                          No  I do not smoke   \n",
              "\n",
              "   Average hours of sleep per night            Alcohol Consumption  \\\n",
              "0                               5.5  None (I do not drink alcohol)   \n",
              "1                               6.0  None (I do not drink alcohol)   \n",
              "2                               5.0  None (I do not drink alcohol)   \n",
              "3                               5.0  None (I do not drink alcohol)   \n",
              "4                               5.5  None (I do not drink alcohol)   \n",
              "\n",
              "  Do you usually eat your meals at regular times each day?  \\\n",
              "0                                 I often skip meals         \n",
              "1                                No, meal times vary         \n",
              "2                                No, meal times vary         \n",
              "3                                No, meal times vary         \n",
              "4                       Yes, mostly at the same time         \n",
              "\n",
              "  How often do you feel stressed or emotionally overwhelmed in a typical week?  \\\n",
              "0                                          Sometimes                             \n",
              "1                                          Sometimes                             \n",
              "2                                              Often                             \n",
              "3                                          Sometimes                             \n",
              "4                                          Sometimes                             \n",
              "\n",
              "   Height(m)        BMI  BMICategory  \n",
              "0       1.57  19.473407       Normal  \n",
              "1       1.65  16.528926  Underweight  \n",
              "2       1.63  24.088223       Normal  \n",
              "3       1.57  21.096191       Normal  \n",
              "4       1.49  21.620648       Normal  "
            ],
            "text/html": [
              "\n",
              "  <div id=\"df-a27ab2b0-2d92-4456-a5cb-140604f4bd54\" class=\"colab-df-container\">\n",
              "    <div>\n",
              "<style scoped>\n",
              "    .dataframe tbody tr th:only-of-type {\n",
              "        vertical-align: middle;\n",
              "    }\n",
              "\n",
              "    .dataframe tbody tr th {\n",
              "        vertical-align: top;\n",
              "    }\n",
              "\n",
              "    .dataframe thead th {\n",
              "        text-align: right;\n",
              "    }\n",
              "</style>\n",
              "<table border=\"1\" class=\"dataframe\">\n",
              "  <thead>\n",
              "    <tr style=\"text-align: right;\">\n",
              "      <th></th>\n",
              "      <th>Column 1</th>\n",
              "      <th>Age</th>\n",
              "      <th>Gender</th>\n",
              "      <th>Weight(kg)</th>\n",
              "      <th>Height(cm)</th>\n",
              "      <th>Physical Activity Level</th>\n",
              "      <th>How would you describe your typical diet?</th>\n",
              "      <th>Do you have a family history of diabetes?</th>\n",
              "      <th>Have you been diagnosed with hypertension(high blood pressure)?</th>\n",
              "      <th>Have you been diagnosed with heart disease?</th>\n",
              "      <th>Smoking Habits?</th>\n",
              "      <th>Average hours of sleep per night</th>\n",
              "      <th>Alcohol Consumption</th>\n",
              "      <th>Do you usually eat your meals at regular times each day?</th>\n",
              "      <th>How often do you feel stressed or emotionally overwhelmed in a typical week?</th>\n",
              "      <th>Height(m)</th>\n",
              "      <th>BMI</th>\n",
              "      <th>BMICategory</th>\n",
              "    </tr>\n",
              "  </thead>\n",
              "  <tbody>\n",
              "    <tr>\n",
              "      <th>0</th>\n",
              "      <td>7/12/2025 20:42:04</td>\n",
              "      <td>24</td>\n",
              "      <td>Female</td>\n",
              "      <td>48.0</td>\n",
              "      <td>157.0</td>\n",
              "      <td>Low (Little to no regular physical activity)</td>\n",
              "      <td>Unhealthy (Mostly high-sugar, high-fat, or pro...</td>\n",
              "      <td>No</td>\n",
              "      <td>No</td>\n",
              "      <td>No</td>\n",
              "      <td>I do not smoke</td>\n",
              "      <td>5.5</td>\n",
              "      <td>None (I do not drink alcohol)</td>\n",
              "      <td>I often skip meals</td>\n",
              "      <td>Sometimes</td>\n",
              "      <td>1.57</td>\n",
              "      <td>19.473407</td>\n",
              "      <td>Normal</td>\n",
              "    </tr>\n",
              "    <tr>\n",
              "      <th>1</th>\n",
              "      <td>7/12/2025 21:09:42</td>\n",
              "      <td>24</td>\n",
              "      <td>Female</td>\n",
              "      <td>45.0</td>\n",
              "      <td>165.0</td>\n",
              "      <td>Low (Little to no regular physical activity)</td>\n",
              "      <td>Moderately Healthy (Mixed diet with occasional...</td>\n",
              "      <td>No</td>\n",
              "      <td>No</td>\n",
              "      <td>No</td>\n",
              "      <td>I do not smoke</td>\n",
              "      <td>6.0</td>\n",
              "      <td>None (I do not drink alcohol)</td>\n",
              "      <td>No, meal times vary</td>\n",
              "      <td>Sometimes</td>\n",
              "      <td>1.65</td>\n",
              "      <td>16.528926</td>\n",
              "      <td>Underweight</td>\n",
              "    </tr>\n",
              "    <tr>\n",
              "      <th>2</th>\n",
              "      <td>7/12/2025 21:13:29</td>\n",
              "      <td>25</td>\n",
              "      <td>Female</td>\n",
              "      <td>64.0</td>\n",
              "      <td>163.0</td>\n",
              "      <td>Moderate – Some physical activity 1–3 days a w...</td>\n",
              "      <td>Moderately Healthy (Mixed diet with occasional...</td>\n",
              "      <td>No</td>\n",
              "      <td>No</td>\n",
              "      <td>yes</td>\n",
              "      <td>I do not smoke</td>\n",
              "      <td>5.0</td>\n",
              "      <td>None (I do not drink alcohol)</td>\n",
              "      <td>No, meal times vary</td>\n",
              "      <td>Often</td>\n",
              "      <td>1.63</td>\n",
              "      <td>24.088223</td>\n",
              "      <td>Normal</td>\n",
              "    </tr>\n",
              "    <tr>\n",
              "      <th>3</th>\n",
              "      <td>7/12/2025 21:14:58</td>\n",
              "      <td>26</td>\n",
              "      <td>Female</td>\n",
              "      <td>52.0</td>\n",
              "      <td>157.0</td>\n",
              "      <td>Moderate – Some physical activity 1–3 days a w...</td>\n",
              "      <td>Moderately Healthy (Mixed diet with occasional...</td>\n",
              "      <td>Yes</td>\n",
              "      <td>No</td>\n",
              "      <td>No</td>\n",
              "      <td>I do not smoke</td>\n",
              "      <td>5.0</td>\n",
              "      <td>None (I do not drink alcohol)</td>\n",
              "      <td>No, meal times vary</td>\n",
              "      <td>Sometimes</td>\n",
              "      <td>1.57</td>\n",
              "      <td>21.096191</td>\n",
              "      <td>Normal</td>\n",
              "    </tr>\n",
              "    <tr>\n",
              "      <th>4</th>\n",
              "      <td>7/12/2025 21:25:54</td>\n",
              "      <td>25</td>\n",
              "      <td>Female</td>\n",
              "      <td>48.0</td>\n",
              "      <td>149.0</td>\n",
              "      <td>Moderate – Some physical activity 1–3 days a w...</td>\n",
              "      <td>Healthy (Balanced diet with mix of carbs, prot...</td>\n",
              "      <td>No</td>\n",
              "      <td>No</td>\n",
              "      <td>No</td>\n",
              "      <td>I do not smoke</td>\n",
              "      <td>5.5</td>\n",
              "      <td>None (I do not drink alcohol)</td>\n",
              "      <td>Yes, mostly at the same time</td>\n",
              "      <td>Sometimes</td>\n",
              "      <td>1.49</td>\n",
              "      <td>21.620648</td>\n",
              "      <td>Normal</td>\n",
              "    </tr>\n",
              "  </tbody>\n",
              "</table>\n",
              "</div>\n",
              "    <div class=\"colab-df-buttons\">\n",
              "\n",
              "  <div class=\"colab-df-container\">\n",
              "    <button class=\"colab-df-convert\" onclick=\"convertToInteractive('df-a27ab2b0-2d92-4456-a5cb-140604f4bd54')\"\n",
              "            title=\"Convert this dataframe to an interactive table.\"\n",
              "            style=\"display:none;\">\n",
              "\n",
              "  <svg xmlns=\"http://www.w3.org/2000/svg\" height=\"24px\" viewBox=\"0 -960 960 960\">\n",
              "    <path d=\"M120-120v-720h720v720H120Zm60-500h600v-160H180v160Zm220 220h160v-160H400v160Zm0 220h160v-160H400v160ZM180-400h160v-160H180v160Zm440 0h160v-160H620v160ZM180-180h160v-160H180v160Zm440 0h160v-160H620v160Z\"/>\n",
              "  </svg>\n",
              "    </button>\n",
              "\n",
              "  <style>\n",
              "    .colab-df-container {\n",
              "      display:flex;\n",
              "      gap: 12px;\n",
              "    }\n",
              "\n",
              "    .colab-df-convert {\n",
              "      background-color: #E8F0FE;\n",
              "      border: none;\n",
              "      border-radius: 50%;\n",
              "      cursor: pointer;\n",
              "      display: none;\n",
              "      fill: #1967D2;\n",
              "      height: 32px;\n",
              "      padding: 0 0 0 0;\n",
              "      width: 32px;\n",
              "    }\n",
              "\n",
              "    .colab-df-convert:hover {\n",
              "      background-color: #E2EBFA;\n",
              "      box-shadow: 0px 1px 2px rgba(60, 64, 67, 0.3), 0px 1px 3px 1px rgba(60, 64, 67, 0.15);\n",
              "      fill: #174EA6;\n",
              "    }\n",
              "\n",
              "    .colab-df-buttons div {\n",
              "      margin-bottom: 4px;\n",
              "    }\n",
              "\n",
              "    [theme=dark] .colab-df-convert {\n",
              "      background-color: #3B4455;\n",
              "      fill: #D2E3FC;\n",
              "    }\n",
              "\n",
              "    [theme=dark] .colab-df-convert:hover {\n",
              "      background-color: #434B5C;\n",
              "      box-shadow: 0px 1px 3px 1px rgba(0, 0, 0, 0.15);\n",
              "      filter: drop-shadow(0px 1px 2px rgba(0, 0, 0, 0.3));\n",
              "      fill: #FFFFFF;\n",
              "    }\n",
              "  </style>\n",
              "\n",
              "    <script>\n",
              "      const buttonEl =\n",
              "        document.querySelector('#df-a27ab2b0-2d92-4456-a5cb-140604f4bd54 button.colab-df-convert');\n",
              "      buttonEl.style.display =\n",
              "        google.colab.kernel.accessAllowed ? 'block' : 'none';\n",
              "\n",
              "      async function convertToInteractive(key) {\n",
              "        const element = document.querySelector('#df-a27ab2b0-2d92-4456-a5cb-140604f4bd54');\n",
              "        const dataTable =\n",
              "          await google.colab.kernel.invokeFunction('convertToInteractive',\n",
              "                                                    [key], {});\n",
              "        if (!dataTable) return;\n",
              "\n",
              "        const docLinkHtml = 'Like what you see? Visit the ' +\n",
              "          '<a target=\"_blank\" href=https://colab.research.google.com/notebooks/data_table.ipynb>data table notebook</a>'\n",
              "          + ' to learn more about interactive tables.';\n",
              "        element.innerHTML = '';\n",
              "        dataTable['output_type'] = 'display_data';\n",
              "        await google.colab.output.renderOutput(dataTable, element);\n",
              "        const docLink = document.createElement('div');\n",
              "        docLink.innerHTML = docLinkHtml;\n",
              "        element.appendChild(docLink);\n",
              "      }\n",
              "    </script>\n",
              "  </div>\n",
              "\n",
              "\n",
              "    <div id=\"df-cf4a71cc-4197-415d-9f99-968991b3a3b9\">\n",
              "      <button class=\"colab-df-quickchart\" onclick=\"quickchart('df-cf4a71cc-4197-415d-9f99-968991b3a3b9')\"\n",
              "                title=\"Suggest charts\"\n",
              "                style=\"display:none;\">\n",
              "\n",
              "<svg xmlns=\"http://www.w3.org/2000/svg\" height=\"24px\"viewBox=\"0 0 24 24\"\n",
              "     width=\"24px\">\n",
              "    <g>\n",
              "        <path d=\"M19 3H5c-1.1 0-2 .9-2 2v14c0 1.1.9 2 2 2h14c1.1 0 2-.9 2-2V5c0-1.1-.9-2-2-2zM9 17H7v-7h2v7zm4 0h-2V7h2v10zm4 0h-2v-4h2v4z\"/>\n",
              "    </g>\n",
              "</svg>\n",
              "      </button>\n",
              "\n",
              "<style>\n",
              "  .colab-df-quickchart {\n",
              "      --bg-color: #E8F0FE;\n",
              "      --fill-color: #1967D2;\n",
              "      --hover-bg-color: #E2EBFA;\n",
              "      --hover-fill-color: #174EA6;\n",
              "      --disabled-fill-color: #AAA;\n",
              "      --disabled-bg-color: #DDD;\n",
              "  }\n",
              "\n",
              "  [theme=dark] .colab-df-quickchart {\n",
              "      --bg-color: #3B4455;\n",
              "      --fill-color: #D2E3FC;\n",
              "      --hover-bg-color: #434B5C;\n",
              "      --hover-fill-color: #FFFFFF;\n",
              "      --disabled-bg-color: #3B4455;\n",
              "      --disabled-fill-color: #666;\n",
              "  }\n",
              "\n",
              "  .colab-df-quickchart {\n",
              "    background-color: var(--bg-color);\n",
              "    border: none;\n",
              "    border-radius: 50%;\n",
              "    cursor: pointer;\n",
              "    display: none;\n",
              "    fill: var(--fill-color);\n",
              "    height: 32px;\n",
              "    padding: 0;\n",
              "    width: 32px;\n",
              "  }\n",
              "\n",
              "  .colab-df-quickchart:hover {\n",
              "    background-color: var(--hover-bg-color);\n",
              "    box-shadow: 0 1px 2px rgba(60, 64, 67, 0.3), 0 1px 3px 1px rgba(60, 64, 67, 0.15);\n",
              "    fill: var(--button-hover-fill-color);\n",
              "  }\n",
              "\n",
              "  .colab-df-quickchart-complete:disabled,\n",
              "  .colab-df-quickchart-complete:disabled:hover {\n",
              "    background-color: var(--disabled-bg-color);\n",
              "    fill: var(--disabled-fill-color);\n",
              "    box-shadow: none;\n",
              "  }\n",
              "\n",
              "  .colab-df-spinner {\n",
              "    border: 2px solid var(--fill-color);\n",
              "    border-color: transparent;\n",
              "    border-bottom-color: var(--fill-color);\n",
              "    animation:\n",
              "      spin 1s steps(1) infinite;\n",
              "  }\n",
              "\n",
              "  @keyframes spin {\n",
              "    0% {\n",
              "      border-color: transparent;\n",
              "      border-bottom-color: var(--fill-color);\n",
              "      border-left-color: var(--fill-color);\n",
              "    }\n",
              "    20% {\n",
              "      border-color: transparent;\n",
              "      border-left-color: var(--fill-color);\n",
              "      border-top-color: var(--fill-color);\n",
              "    }\n",
              "    30% {\n",
              "      border-color: transparent;\n",
              "      border-left-color: var(--fill-color);\n",
              "      border-top-color: var(--fill-color);\n",
              "      border-right-color: var(--fill-color);\n",
              "    }\n",
              "    40% {\n",
              "      border-color: transparent;\n",
              "      border-right-color: var(--fill-color);\n",
              "      border-top-color: var(--fill-color);\n",
              "    }\n",
              "    60% {\n",
              "      border-color: transparent;\n",
              "      border-right-color: var(--fill-color);\n",
              "    }\n",
              "    80% {\n",
              "      border-color: transparent;\n",
              "      border-right-color: var(--fill-color);\n",
              "      border-bottom-color: var(--fill-color);\n",
              "    }\n",
              "    90% {\n",
              "      border-color: transparent;\n",
              "      border-bottom-color: var(--fill-color);\n",
              "    }\n",
              "  }\n",
              "</style>\n",
              "\n",
              "      <script>\n",
              "        async function quickchart(key) {\n",
              "          const quickchartButtonEl =\n",
              "            document.querySelector('#' + key + ' button');\n",
              "          quickchartButtonEl.disabled = true;  // To prevent multiple clicks.\n",
              "          quickchartButtonEl.classList.add('colab-df-spinner');\n",
              "          try {\n",
              "            const charts = await google.colab.kernel.invokeFunction(\n",
              "                'suggestCharts', [key], {});\n",
              "          } catch (error) {\n",
              "            console.error('Error during call to suggestCharts:', error);\n",
              "          }\n",
              "          quickchartButtonEl.classList.remove('colab-df-spinner');\n",
              "          quickchartButtonEl.classList.add('colab-df-quickchart-complete');\n",
              "        }\n",
              "        (() => {\n",
              "          let quickchartButtonEl =\n",
              "            document.querySelector('#df-cf4a71cc-4197-415d-9f99-968991b3a3b9 button');\n",
              "          quickchartButtonEl.style.display =\n",
              "            google.colab.kernel.accessAllowed ? 'block' : 'none';\n",
              "        })();\n",
              "      </script>\n",
              "    </div>\n",
              "\n",
              "    </div>\n",
              "  </div>\n"
            ],
            "application/vnd.google.colaboratory.intrinsic+json": {
              "type": "dataframe",
              "variable_name": "df",
              "summary": "{\n  \"name\": \"df\",\n  \"rows\": 195,\n  \"fields\": [\n    {\n      \"column\": \"Column 1\",\n      \"properties\": {\n        \"dtype\": \"object\",\n        \"num_unique_values\": 195,\n        \"samples\": [\n          \"8/1/2025 15:27:10\",\n          \"7/12/2025 22:40:14\",\n          \"8/1/2025 19:28:56\"\n        ],\n        \"semantic_type\": \"\",\n        \"description\": \"\"\n      }\n    },\n    {\n      \"column\": \"Age\",\n      \"properties\": {\n        \"dtype\": \"number\",\n        \"std\": 1,\n        \"min\": 22,\n        \"max\": 27,\n        \"num_unique_values\": 6,\n        \"samples\": [\n          24,\n          25,\n          27\n        ],\n        \"semantic_type\": \"\",\n        \"description\": \"\"\n      }\n    },\n    {\n      \"column\": \"Gender\",\n      \"properties\": {\n        \"dtype\": \"category\",\n        \"num_unique_values\": 3,\n        \"samples\": [\n          \"Female\",\n          \"Male\",\n          \"male\"\n        ],\n        \"semantic_type\": \"\",\n        \"description\": \"\"\n      }\n    },\n    {\n      \"column\": \"Weight(kg)\",\n      \"properties\": {\n        \"dtype\": \"number\",\n        \"std\": 10.202627225365143,\n        \"min\": 24.0,\n        \"max\": 88.0,\n        \"num_unique_values\": 43,\n        \"samples\": [\n          77.0,\n          69.95,\n          58.8\n        ],\n        \"semantic_type\": \"\",\n        \"description\": \"\"\n      }\n    },\n    {\n      \"column\": \"Height(cm)\",\n      \"properties\": {\n        \"dtype\": \"number\",\n        \"std\": 9.482576729598625,\n        \"min\": 148.0,\n        \"max\": 186.0,\n        \"num_unique_values\": 40,\n        \"samples\": [\n          152.4,\n          155.0,\n          164.0\n        ],\n        \"semantic_type\": \"\",\n        \"description\": \"\"\n      }\n    },\n    {\n      \"column\": \"Physical Activity Level\",\n      \"properties\": {\n        \"dtype\": \"category\",\n        \"num_unique_values\": 3,\n        \"samples\": [\n          \"Low (Little to no regular physical activity)\",\n          \"Moderate \\u2013 Some physical activity 1\\u20133 days a week (e.g., walking, light exercise)\",\n          \"High \\u2013 Regular physical activity 4 or more days a week (e.g., gym, sports, running)\"\n        ],\n        \"semantic_type\": \"\",\n        \"description\": \"\"\n      }\n    },\n    {\n      \"column\": \"How would you describe your typical diet?\",\n      \"properties\": {\n        \"dtype\": \"category\",\n        \"num_unique_values\": 3,\n        \"samples\": [\n          \"Unhealthy (Mostly high-sugar, high-fat, or processed foods with few fruits/vegetables)\",\n          \"Moderately Healthy (Mixed diet with occasional healthy meals and some fast food or processed items)\",\n          \"Healthy (Balanced diet with mix of carbs, proteins, vegetables, limited sugar and processed foods)\"\n        ],\n        \"semantic_type\": \"\",\n        \"description\": \"\"\n      }\n    },\n    {\n      \"column\": \"Do you have a family history of diabetes?\",\n      \"properties\": {\n        \"dtype\": \"category\",\n        \"num_unique_values\": 2,\n        \"samples\": [\n          \"Yes\",\n          \"No\"\n        ],\n        \"semantic_type\": \"\",\n        \"description\": \"\"\n      }\n    },\n    {\n      \"column\": \"Have you been diagnosed with hypertension(high blood pressure)?\",\n      \"properties\": {\n        \"dtype\": \"category\",\n        \"num_unique_values\": 3,\n        \"samples\": [\n          \"No\",\n          \"yes\"\n        ],\n        \"semantic_type\": \"\",\n        \"description\": \"\"\n      }\n    },\n    {\n      \"column\": \"Have you been diagnosed with heart disease?\",\n      \"properties\": {\n        \"dtype\": \"category\",\n        \"num_unique_values\": 3,\n        \"samples\": [\n          \"No\",\n          \"yes\"\n        ],\n        \"semantic_type\": \"\",\n        \"description\": \"\"\n      }\n    },\n    {\n      \"column\": \"Smoking Habits?\",\n      \"properties\": {\n        \"dtype\": \"category\",\n        \"num_unique_values\": 5,\n        \"samples\": [\n          \"Used to smoke but quit\",\n          \"3-6 times per week\"\n        ],\n        \"semantic_type\": \"\",\n        \"description\": \"\"\n      }\n    },\n    {\n      \"column\": \"Average hours of sleep per night\",\n      \"properties\": {\n        \"dtype\": \"number\",\n        \"std\": 1.1792606007015183,\n        \"min\": 3.0,\n        \"max\": 9.0,\n        \"num_unique_values\": 9,\n        \"samples\": [\n          4.5,\n          6.0\n        ],\n        \"semantic_type\": \"\",\n        \"description\": \"\"\n      }\n    },\n    {\n      \"column\": \"Alcohol Consumption\",\n      \"properties\": {\n        \"dtype\": \"category\",\n        \"num_unique_values\": 3,\n        \"samples\": [\n          \"None (I do not drink alcohol)\",\n          \"Occasional (e.g., social drinking, 1\\u20132 times per month)\"\n        ],\n        \"semantic_type\": \"\",\n        \"description\": \"\"\n      }\n    },\n    {\n      \"column\": \"Do you usually eat your meals at regular times each day?\",\n      \"properties\": {\n        \"dtype\": \"category\",\n        \"num_unique_values\": 3,\n        \"samples\": [\n          \"I often skip meals\",\n          \"No, meal times vary\"\n        ],\n        \"semantic_type\": \"\",\n        \"description\": \"\"\n      }\n    },\n    {\n      \"column\": \"How often do you feel stressed or emotionally overwhelmed in a typical week?\",\n      \"properties\": {\n        \"dtype\": \"category\",\n        \"num_unique_values\": 4,\n        \"samples\": [\n          \"Often\",\n          \"Rarely\"\n        ],\n        \"semantic_type\": \"\",\n        \"description\": \"\"\n      }\n    },\n    {\n      \"column\": \"Height(m)\",\n      \"properties\": {\n        \"dtype\": \"number\",\n        \"std\": 0.09482576729598625,\n        \"min\": 1.48,\n        \"max\": 1.86,\n        \"num_unique_values\": 40,\n        \"samples\": [\n          1.524,\n          1.55\n        ],\n        \"semantic_type\": \"\",\n        \"description\": \"\"\n      }\n    },\n    {\n      \"column\": \"BMI\",\n      \"properties\": {\n        \"dtype\": \"number\",\n        \"std\": 2.610845584019241,\n        \"min\": 9.613843935266782,\n        \"max\": 29.687499999999993,\n        \"num_unique_values\": 159,\n        \"samples\": [\n          21.484374999999996,\n          18.209876543209877\n        ],\n        \"semantic_type\": \"\",\n        \"description\": \"\"\n      }\n    },\n    {\n      \"column\": \"BMICategory\",\n      \"properties\": {\n        \"dtype\": \"category\",\n        \"num_unique_values\": 3,\n        \"samples\": [\n          \"Normal\",\n          \"Underweight\"\n        ],\n        \"semantic_type\": \"\",\n        \"description\": \"\"\n      }\n    }\n  ]\n}"
            }
          },
          "metadata": {},
          "execution_count": 13
        }
      ]
    },
    {
      "cell_type": "markdown",
      "source": [
        "Removing duplicated rows"
      ],
      "metadata": {
        "id": "kvHfkx6R2PQq"
      }
    },
    {
      "cell_type": "code",
      "source": [
        "before = df.shape[0]\n",
        "df = df.drop_duplicates()\n",
        "after = df.shape[0]\n",
        "print(f\"Removed {before - after} duplicate rows.\")"
      ],
      "metadata": {
        "colab": {
          "base_uri": "https://localhost:8080/"
        },
        "id": "nO1gMQw_1_8B",
        "outputId": "83753fb3-c901-4bfa-ba85-bae35ecc2036"
      },
      "execution_count": null,
      "outputs": [
        {
          "output_type": "stream",
          "name": "stdout",
          "text": [
            "Removed 0 duplicate rows.\n"
          ]
        }
      ]
    },
    {
      "cell_type": "markdown",
      "source": [
        "Creating Age Groups"
      ],
      "metadata": {
        "id": "37l6vgcL28td"
      }
    },
    {
      "cell_type": "code",
      "source": [
        "df[\"AgeGroup\"] = pd.cut(df[\"Age\"], bins=[20, 30, 40, 50, 60, 100], labels=[\"20s\", \"30s\", \"40s\", \"50s\", \"60+\"])"
      ],
      "metadata": {
        "id": "_x6WDEYj2U2_"
      },
      "execution_count": null,
      "outputs": []
    },
    {
      "cell_type": "markdown",
      "source": [
        "Feature Selection / Transformation"
      ],
      "metadata": {
        "id": "OsGe1nf_3fwZ"
      }
    },
    {
      "cell_type": "markdown",
      "source": [
        "Correlation Metrix"
      ],
      "metadata": {
        "id": "z5fmKhj03CAU"
      }
    },
    {
      "cell_type": "code",
      "source": [
        "numeric_df = df.select_dtypes(include=['float64', 'int64'])"
      ],
      "metadata": {
        "id": "8lpmVNre2ZIB"
      },
      "execution_count": null,
      "outputs": []
    },
    {
      "cell_type": "code",
      "source": [
        "import seaborn as sns\n",
        "import matplotlib.pyplot as plt\n",
        "\n",
        "plt.figure(figsize=(7, 4))\n",
        "sns.heatmap(numeric_df.corr(), annot=True, cmap='coolwarm', fmt=\".2f\")\n",
        "plt.title(\"Correlation Matrix of Numeric Features\")\n",
        "plt.tight_layout()\n",
        "plt.show()"
      ],
      "metadata": {
        "colab": {
          "base_uri": "https://localhost:8080/",
          "height": 407
        },
        "id": "b21zQAZU3HxH",
        "outputId": "52d824e9-1291-45bf-c372-2cc8c80c37d4"
      },
      "execution_count": null,
      "outputs": [
        {
          "output_type": "display_data",
          "data": {
            "text/plain": [
              "<Figure size 700x400 with 2 Axes>"
            ],
            "image/png": "[encoded data removed]"
          },
          "metadata": {}
        }
      ]
    },
    {
      "cell_type": "markdown",
      "source": [
        "Encoding and Normalization"
      ],
      "metadata": {
        "id": "gcHklVpB3Nyx"
      }
    },
    {
      "cell_type": "markdown",
      "source": [
        "Label Encoding"
      ],
      "metadata": {
        "id": "Om9BsRno3UMY"
      }
    },
    {
      "cell_type": "code",
      "source": [
        "from sklearn.preprocessing import LabelEncoder\n",
        "\n",
        "le = LabelEncoder()\n",
        "df[\"AgeGroup\"] = le.fit_transform(df[\"AgeGroup\"].astype(str))\n"
      ],
      "metadata": {
        "id": "NupY2wKr3KHc"
      },
      "execution_count": null,
      "outputs": []
    },
    {
      "cell_type": "markdown",
      "source": [
        "One-hot encode and other catergorical features"
      ],
      "metadata": {
        "id": "D2_PlZZb3lII"
      }
    },
    {
      "cell_type": "code",
      "source": [
        "\n",
        "categorical_cols = [\n",
        "    \"Gender\",\n",
        "    \"Physical Activity Level\",\n",
        "    \"How would you describe your typical diet?\",\n",
        "    \"Do you have a family history of diabetes?\",\n",
        "    \"Have you been diagnosed with hypertension(high blood pressure)?\",\n",
        "    \"Have you been diagnosed with heart disease?\",\n",
        "    \"Smoking Habits?\",\n",
        "    \"Alcohol Consumption\",\n",
        "    \"Do you usually eat your meals at regular times each day?\",\n",
        "    \"How often do you feel stressed or emotionally overwhelmed in a typical week?\",\n",
        "]\n",
        "\n",
        "df = pd.get_dummies(df, columns=categorical_cols, drop_first=True)"
      ],
      "metadata": {
        "id": "kerBsnle3YPr"
      },
      "execution_count": null,
      "outputs": []
    },
    {
      "cell_type": "code",
      "source": [
        "target = df[\"Do you have a family history of diabetes?_Yes\"]\n",
        "features = df.drop(columns=[\"Do you have a family history of diabetes?_Yes\"])\n"
      ],
      "metadata": {
        "id": "hk7avdvD3nxm"
      },
      "execution_count": null,
      "outputs": []
    },
    {
      "cell_type": "markdown",
      "source": [
        "StandardScaler Encoding - Normalize Numerical Features"
      ],
      "metadata": {
        "id": "sqypdyDp3vWY"
      }
    },
    {
      "cell_type": "code",
      "source": [
        "from sklearn.preprocessing import StandardScaler\n",
        "\n",
        "scaler = StandardScaler()\n",
        "scaled_cols = [\"Age\", \"BMI\", \"Average hours of sleep per night\", \"Weight(kg)\", \"Height(cm)\"]\n",
        "\n",
        "df[scaled_cols] = scaler.fit_transform(df[scaled_cols])"
      ],
      "metadata": {
        "id": "NvGQaBUw3rRy"
      },
      "execution_count": null,
      "outputs": []
    },
    {
      "cell_type": "markdown",
      "source": [
        "Preprocessed Dataset"
      ],
      "metadata": {
        "id": "fiQ3SmGR4YfE"
      }
    },
    {
      "cell_type": "code",
      "source": [
        "df.to_csv('preprocessed_data.csv', index=False)"
      ],
      "metadata": {
        "id": "O3LuMFdf4d_i"
      },
      "execution_count": null,
      "outputs": []
    },
    {
      "cell_type": "code",
      "source": [
        "from google.colab import files\n",
        "files.download('preprocessed_data.csv')"
      ],
      "metadata": {
        "colab": {
          "base_uri": "https://localhost:8080/",
          "height": 17
        },
        "id": "YRXpdnV-4gay",
        "outputId": "7efbdb9a-c48d-4668-95db-f00e8534eeb0"
      },
      "execution_count": null,
      "outputs": [
        {
          "output_type": "display_data",
          "data": {
            "text/plain": [
              "<IPython.core.display.Javascript object>"
            ],
            "application/javascript": [
              "\n",
              "    async function download(id, filename, size) {\n",
              "      if (!google.colab.kernel.accessAllowed) {\n",
              "        return;\n",
              "      }\n",
              "      const div = document.createElement('div');\n",
              "      const label = document.createElement('label');\n",
              "      label.textContent = `Downloading \"${filename}\": `;\n",
              "      div.appendChild(label);\n",
              "      const progress = document.createElement('progress');\n",
              "      progress.max = size;\n",
              "      div.appendChild(progress);\n",
              "      document.body.appendChild(div);\n",
              "\n",
              "      const buffers = [];\n",
              "      let downloaded = 0;\n",
              "\n",
              "      const channel = await google.colab.kernel.comms.open(id);\n",
              "      // Send a message to notify the kernel that we're ready.\n",
              "      channel.send({})\n",
              "\n",
              "      for await (const message of channel.messages) {\n",
              "        // Send a message to notify the kernel that we're ready.\n",
              "        channel.send({})\n",
              "        if (message.buffers) {\n",
              "          for (const buffer of message.buffers) {\n",
              "            buffers.push(buffer);\n",
              "            downloaded += buffer.byteLength;\n",
              "            progress.value = downloaded;\n",
              "          }\n",
              "        }\n",
              "      }\n",
              "      const blob = new Blob(buffers, {type: 'application/binary'});\n",
              "      const a = document.createElement('a');\n",
              "      a.href = window.URL.createObjectURL(blob);\n",
              "      a.download = filename;\n",
              "      div.appendChild(a);\n",
              "      a.click();\n",
              "      div.remove();\n",
              "    }\n",
              "  "
            ]
          },
          "metadata": {}
        },
        {
          "output_type": "display_data",
          "data": {
            "text/plain": [
              "<IPython.core.display.Javascript object>"
            ],
            "application/javascript": [
              "download(\"download_f493440f-0867-40c2-b6e2-b754eb5d051d\", \"preprocessed_data.csv\", 51651)"
            ]
          },
          "metadata": {}
        }
      ]
    },
    {
      "cell_type": "markdown",
      "source": [
        "Train and Evaluate the Model"
      ],
      "metadata": {
        "id": "5ZO3jB0Q4AHN"
      }
    },
    {
      "cell_type": "markdown",
      "source": [
        "Import Libraries"
      ],
      "metadata": {
        "id": "PB6EDLs34DJw"
      }
    },
    {
      "cell_type": "code",
      "source": [
        "import numpy as np\n",
        "from sklearn.model_selection import train_test_split\n",
        "from sklearn.preprocessing import StandardScaler\n",
        "from tensorflow.keras.models import Sequential\n",
        "from tensorflow.keras.layers import Dense\n",
        "from tensorflow.keras.optimizers import Adam\n",
        "from tensorflow.keras.losses import BinaryCrossentropy\n",
        "from tensorflow.keras.metrics import Accuracy"
      ],
      "metadata": {
        "id": "4YGjl0S-323n"
      },
      "execution_count": null,
      "outputs": []
    },
    {
      "cell_type": "markdown",
      "source": [
        "Load Data and Set Features/Target"
      ],
      "metadata": {
        "id": "8DzYYWoz4lZ8"
      }
    },
    {
      "cell_type": "code",
      "source": [
        "df = pd.read_csv(\"preprocessed_data.csv\")\n",
        "\n",
        "# Drop non-feature columns\n",
        "df = df.drop(columns=[\"Column 1\", \"BMICategory\", \"Gender_male\",\n",
        "                      \"Have you been diagnosed with hypertension(high blood pressure)?_yes\",\n",
        "                      \"Have you been diagnosed with heart disease?_yes\"])\n",
        "\n",
        "# Define target column (label)\n",
        "target = \"Do you have a family history of diabetes?_Yes\"\n",
        "\n",
        "# Features and labels\n",
        "X = df.drop(columns=[target])\n",
        "y = df[target].astype(int)\n",
        "\n",
        "# Normalize numerical features\n",
        "scaler = StandardScaler()\n",
        "X_scaled = scaler.fit_transform(X)"
      ],
      "metadata": {
        "id": "p8Orl6cz4lD1"
      },
      "execution_count": null,
      "outputs": []
    },
    {
      "cell_type": "code",
      "source": [
        "df['Diabetes_Risk'] = (\n",
        "    # Rule 1: Diet Unhealthy AND Activity Low\n",
        "    (df['How would you describe your typical diet?_Unhealthy (Mostly high-sugar, high-fat, or processed foods with few fruits/vegetables)'] == 1) &\n",
        "    (df['Physical Activity Level_Low (Little to no regular physical activity)'] == 1) |\n",
        "\n",
        "    # Rule 2: Poor Sleep (<5 hours) AND High Stress\n",
        "    (df['AgeGroup'] < 5.0) &\n",
        "    (df['How often do you feel stressed or emotionally overwhelmed in a typical week?_Often'] == 1) |\n",
        "\n",
        "    # Rule 3: Smoking 3–6 times per week\n",
        "    (df['Smoking Habits?_3-6 times per week'] == 1) |\n",
        "\n",
        "    # Rule 4: Irregular meals AND Unhealthy diet\n",
        "    (df['Do you usually eat your meals at regular times each day?_No, meal times vary'] == 1) &\n",
        "    (df['How would you describe your typical diet?_Unhealthy (Mostly high-sugar, high-fat, or processed foods with few fruits/vegetables)'] == 1) |\n",
        "\n",
        "    # Rule 5: Family history of diabetes\n",
        "    (df['Do you have a family history of diabetes?_Yes'] == 1) |\n",
        "\n",
        "    # Rule 6: Heart disease or Hypertension\n",
        "    (df['Have you been diagnosed with heart disease?_Yes'] == 1) |\n",
        "    (df['Have you been diagnosed with hypertension(high blood pressure)?_Yes'] == 1) |\n",
        "\n",
        "    # Rule 8: Alcohol Occasional AND Smoking Occasional\n",
        "    (df['Alcohol Consumption_Occasional (e.g., social drinking, 1–2 times per month)'] == 1) &\n",
        "    (df['Smoking Habits?_Occasionally (Less than once a week)'] == 1)\n",
        ").astype(int)\n"
      ],
      "metadata": {
        "id": "L0O9aqce6Xyu"
      },
      "execution_count": null,
      "outputs": []
    },
    {
      "cell_type": "code",
      "source": [
        "print(df['Diabetes_Risk'].value_counts())"
      ],
      "metadata": {
        "colab": {
          "base_uri": "https://localhost:8080/"
        },
        "id": "DBB3yji76cDt",
        "outputId": "372c08e1-6dde-40fb-94cb-09df64e3970c"
      },
      "execution_count": null,
      "outputs": [
        {
          "output_type": "stream",
          "name": "stdout",
          "text": [
            "Diabetes_Risk\n",
            "1    144\n",
            "0     51\n",
            "Name: count, dtype: int64\n"
          ]
        }
      ]
    },
    {
      "cell_type": "code",
      "source": [
        "df_shuffled = df.sample(frac=1, random_state=42).reset_index(drop=True)"
      ],
      "metadata": {
        "id": "9P97ldXQ7jW6"
      },
      "execution_count": null,
      "outputs": []
    },
    {
      "cell_type": "markdown",
      "source": [
        "******** Resampling SMOTE (Synthetic Minority Oversampling Technique) *******"
      ],
      "metadata": {
        "id": "qA_G8EBmGBwv"
      }
    },
    {
      "cell_type": "markdown",
      "source": [
        "******** Split the dataset and Apply SMOTE"
      ],
      "metadata": {
        "id": "2eSZgAxcGOQk"
      }
    },
    {
      "cell_type": "code",
      "source": [
        "from imblearn.over_sampling import SMOTE\n",
        "from sklearn.model_selection import train_test_split\n",
        "\n",
        "# Split your dataset to avoid data leakage\n",
        "X_train, X_test, y_train, y_test = train_test_split(\n",
        "    X, y, test_size=0.2, random_state=42, stratify=y\n",
        ")\n",
        "\n",
        "# Apply SMOTE\n",
        "\n",
        "smote = SMOTE(random_state=42)\n",
        "X_res, y_res = smote.fit_resample(X, y)\n",
        "\n",
        "print(\"Before:\", y.value_counts())\n",
        "print(\"After:\", y_res.value_counts())\n"
      ],
      "metadata": {
        "colab": {
          "base_uri": "https://localhost:8080/"
        },
        "id": "Ve4hjBndF0ov",
        "outputId": "5ae44c26-fc4e-4d2f-de16-b6a626b38330"
      },
      "execution_count": null,
      "outputs": [
        {
          "output_type": "stream",
          "name": "stdout",
          "text": [
            "Before: Diabetes_Risk\n",
            "1    144\n",
            "0     51\n",
            "Name: count, dtype: int64\n",
            "After: Diabetes_Risk\n",
            "1    144\n",
            "0    144\n",
            "Name: count, dtype: int64\n"
          ]
        }
      ]
    },
    {
      "cell_type": "code",
      "source": [
        "#df_shuffled = df.sample(frac=1, random_state=42).reset_index(drop=True)"
      ],
      "metadata": {
        "id": "fhP15CcJ6hVK"
      },
      "execution_count": null,
      "outputs": []
    },
    {
      "cell_type": "code",
      "source": [
        "# Set target\n",
        "target = 'Diabetes_Risk'\n",
        "\n",
        "# Set features (drop the label column itself)\n",
        "X = df.drop(columns=[target])\n",
        "\n",
        "X = X.select_dtypes(include=['int64', 'float64', 'bool'])\n",
        "\n",
        "# Convert all bools to int\n",
        "X = X.astype(int)\n",
        "\n",
        "# Target\n",
        "y = df[target]"
      ],
      "metadata": {
        "id": "Mzb1UbvG6kD9"
      },
      "execution_count": null,
      "outputs": []
    },
    {
      "cell_type": "markdown",
      "source": [
        "Split the data"
      ],
      "metadata": {
        "id": "puu0PyJ05pvL"
      }
    },
    {
      "cell_type": "code",
      "source": [
        "#X_train, X_test, y_train, y_test = train_test_split(X_scaled, y, test_size=0.2, random_state=42)"
      ],
      "metadata": {
        "id": "ygGEvnr94IyQ"
      },
      "execution_count": null,
      "outputs": []
    },
    {
      "cell_type": "markdown",
      "source": [
        "******** Hyperparameter tuning ********"
      ],
      "metadata": {
        "id": "Af8U_kcgHIpV"
      }
    },
    {
      "cell_type": "code",
      "source": [
        "print(df['Diabetes_Risk'].value_counts())"
      ],
      "metadata": {
        "colab": {
          "base_uri": "https://localhost:8080/"
        },
        "id": "mYp_3vOe-54m",
        "outputId": "5f784014-4df1-4355-effc-f7a0ac86bb24"
      },
      "execution_count": null,
      "outputs": [
        {
          "output_type": "stream",
          "name": "stdout",
          "text": [
            "Diabetes_Risk\n",
            "1    144\n",
            "0     51\n",
            "Name: count, dtype: int64\n"
          ]
        }
      ]
    },
    {
      "cell_type": "markdown",
      "source": [
        "Build the Neural Network Architecture"
      ],
      "metadata": {
        "id": "dpeBVg8n5xNp"
      }
    },
    {
      "cell_type": "code",
      "source": [
        "from tensorflow.keras.models import Sequential\n",
        "from tensorflow.keras.layers import Dense\n",
        "from tensorflow.keras.optimizers import Adam\n",
        "from tensorflow.keras.layers import Dropout\n",
        "from tensorflow.keras.callbacks import EarlyStopping\n",
        "from sklearn.utils.class_weight import compute_class_weight\n",
        "\n",
        "# Define model\n",
        "model = Sequential([\n",
        "    Dense(32, input_shape=(X_train.shape[1],), activation='relu'),\n",
        "    Dropout(0.5),\n",
        "    Dense(1, activation='sigmoid')\n",
        "])\n",
        "\n",
        "# Compile\n",
        "model.compile(\n",
        "    optimizer=Adam(learning_rate=0.001),\n",
        "    loss='binary_crossentropy',\n",
        "    metrics=['accuracy' , 'precision' , 'recall' ]\n",
        ")\n",
        "\n",
        "# Train\n",
        "es = EarlyStopping(monitor='val_loss', patience=5, restore_best_weights=True)\n",
        "\n",
        "\n",
        "history = model.fit(\n",
        "    X_train, y_train,\n",
        "    epochs=50,\n",
        "    batch_size=16,\n",
        "    validation_data=(X_test, y_test),\n",
        "    callbacks=[es],\n",
        "    #verbose=1\n",
        ")\n"
      ],
      "metadata": {
        "colab": {
          "base_uri": "https://localhost:8080/"
        },
        "id": "98-ejAFo3KIc",
        "outputId": "2bdaf285-c4f6-4e8e-ead6-9a058ce1a447"
      },
      "execution_count": null,
      "outputs": [
        {
          "output_type": "stream",
          "name": "stdout",
          "text": [
            "Epoch 1/50\n"
          ]
        },
        {
          "output_type": "stream",
          "name": "stderr",
          "text": [
            "/usr/local/lib/python3.12/dist-packages/keras/src/layers/core/dense.py:93: UserWarning: Do not pass an `input_shape`/`input_dim` argument to a layer. When using Sequential models, prefer using an `Input(shape)` object as the first layer in the model instead.\n",
            "  super().__init__(activity_regularizer=activity_regularizer, **kwargs)\n"
          ]
        },
        {
          "output_type": "stream",
          "name": "stdout",
          "text": [
            "\u001b[1m10/10\u001b[0m \u001b[32m━━━━━━━━━━━━━━━━━━━━\u001b[0m\u001b[37m\u001b[0m \u001b[1m3s\u001b[0m 100ms/step - accuracy: 0.4745 - loss: 0.8967 - precision: 0.8376 - recall: 0.3637 - val_accuracy: 0.5897 - val_loss: 0.7051 - val_precision: 1.0000 - val_recall: 0.4667\n",
            "Epoch 2/50\n",
            "\u001b[1m10/10\u001b[0m \u001b[32m━━━━━━━━━━━━━━━━━━━━\u001b[0m\u001b[37m\u001b[0m \u001b[1m1s\u001b[0m 70ms/step - accuracy: 0.5426 - loss: 0.7064 - precision: 0.8206 - recall: 0.4979 - val_accuracy: 0.6923 - val_loss: 0.6376 - val_precision: 0.8462 - val_recall: 0.7333\n",
            "Epoch 3/50\n",
            "\u001b[1m10/10\u001b[0m \u001b[32m━━━━━━━━━━━━━━━━━━━━\u001b[0m\u001b[37m\u001b[0m \u001b[1m0s\u001b[0m 19ms/step - accuracy: 0.5152 - loss: 0.6878 - precision: 0.7488 - recall: 0.5479 - val_accuracy: 0.7179 - val_loss: 0.5878 - val_precision: 0.8065 - val_recall: 0.8333\n",
            "Epoch 4/50\n",
            "\u001b[1m10/10\u001b[0m \u001b[32m━━━━━━━━━━━━━━━━━━━━\u001b[0m\u001b[37m\u001b[0m \u001b[1m0s\u001b[0m 15ms/step - accuracy: 0.6094 - loss: 0.6710 - precision: 0.7209 - recall: 0.6495 - val_accuracy: 0.7436 - val_loss: 0.5547 - val_precision: 0.7778 - val_recall: 0.9333\n",
            "Epoch 5/50\n",
            "\u001b[1m10/10\u001b[0m \u001b[32m━━━━━━━━━━━━━━━━━━━━\u001b[0m\u001b[37m\u001b[0m \u001b[1m0s\u001b[0m 15ms/step - accuracy: 0.6304 - loss: 0.6326 - precision: 0.7519 - recall: 0.7340 - val_accuracy: 0.7436 - val_loss: 0.5271 - val_precision: 0.7632 - val_recall: 0.9667\n",
            "Epoch 6/50\n",
            "\u001b[1m10/10\u001b[0m \u001b[32m━━━━━━━━━━━━━━━━━━━━\u001b[0m\u001b[37m\u001b[0m \u001b[1m0s\u001b[0m 16ms/step - accuracy: 0.6322 - loss: 0.6168 - precision: 0.7173 - recall: 0.8112 - val_accuracy: 0.7436 - val_loss: 0.5088 - val_precision: 0.7632 - val_recall: 0.9667\n",
            "Epoch 7/50\n",
            "\u001b[1m10/10\u001b[0m \u001b[32m━━━━━━━━━━━━━━━━━━━━\u001b[0m\u001b[37m\u001b[0m \u001b[1m0s\u001b[0m 18ms/step - accuracy: 0.7490 - loss: 0.5064 - precision: 0.8321 - recall: 0.8426 - val_accuracy: 0.7436 - val_loss: 0.4923 - val_precision: 0.7632 - val_recall: 0.9667\n",
            "Epoch 8/50\n",
            "\u001b[1m10/10\u001b[0m \u001b[32m━━━━━━━━━━━━━━━━━━━━\u001b[0m\u001b[37m\u001b[0m \u001b[1m0s\u001b[0m 19ms/step - accuracy: 0.7332 - loss: 0.5207 - precision: 0.7893 - recall: 0.8853 - val_accuracy: 0.7436 - val_loss: 0.4804 - val_precision: 0.7632 - val_recall: 0.9667\n",
            "Epoch 9/50\n",
            "\u001b[1m10/10\u001b[0m \u001b[32m━━━━━━━━━━━━━━━━━━━━\u001b[0m\u001b[37m\u001b[0m \u001b[1m0s\u001b[0m 14ms/step - accuracy: 0.7567 - loss: 0.5516 - precision: 0.7902 - recall: 0.9237 - val_accuracy: 0.7436 - val_loss: 0.4692 - val_precision: 0.7632 - val_recall: 0.9667\n",
            "Epoch 10/50\n",
            "\u001b[1m10/10\u001b[0m \u001b[32m━━━━━━━━━━━━━━━━━━━━\u001b[0m\u001b[37m\u001b[0m \u001b[1m0s\u001b[0m 12ms/step - accuracy: 0.7492 - loss: 0.5007 - precision: 0.7791 - recall: 0.9284 - val_accuracy: 0.7436 - val_loss: 0.4588 - val_precision: 0.7632 - val_recall: 0.9667\n",
            "Epoch 11/50\n",
            "\u001b[1m10/10\u001b[0m \u001b[32m━━━━━━━━━━━━━━━━━━━━\u001b[0m\u001b[37m\u001b[0m \u001b[1m0s\u001b[0m 11ms/step - accuracy: 0.6963 - loss: 0.5505 - precision: 0.7497 - recall: 0.8820 - val_accuracy: 0.7436 - val_loss: 0.4480 - val_precision: 0.7632 - val_recall: 0.9667\n",
            "Epoch 12/50\n",
            "\u001b[1m10/10\u001b[0m \u001b[32m━━━━━━━━━━━━━━━━━━━━\u001b[0m\u001b[37m\u001b[0m \u001b[1m0s\u001b[0m 11ms/step - accuracy: 0.7278 - loss: 0.5737 - precision: 0.7670 - recall: 0.9206 - val_accuracy: 0.7436 - val_loss: 0.4378 - val_precision: 0.7632 - val_recall: 0.9667\n",
            "Epoch 13/50\n",
            "\u001b[1m10/10\u001b[0m \u001b[32m━━━━━━━━━━━━━━━━━━━━\u001b[0m\u001b[37m\u001b[0m \u001b[1m0s\u001b[0m 11ms/step - accuracy: 0.7276 - loss: 0.5167 - precision: 0.7664 - recall: 0.9106 - val_accuracy: 0.7436 - val_loss: 0.4288 - val_precision: 0.7632 - val_recall: 0.9667\n",
            "Epoch 14/50\n",
            "\u001b[1m10/10\u001b[0m \u001b[32m━━━━━━━━━━━━━━━━━━━━\u001b[0m\u001b[37m\u001b[0m \u001b[1m0s\u001b[0m 11ms/step - accuracy: 0.7029 - loss: 0.5632 - precision: 0.7188 - recall: 0.9372 - val_accuracy: 0.7436 - val_loss: 0.4204 - val_precision: 0.7632 - val_recall: 0.9667\n",
            "Epoch 15/50\n",
            "\u001b[1m10/10\u001b[0m \u001b[32m━━━━━━━━━━━━━━━━━━━━\u001b[0m\u001b[37m\u001b[0m \u001b[1m0s\u001b[0m 11ms/step - accuracy: 0.7847 - loss: 0.4609 - precision: 0.7933 - recall: 0.9713 - val_accuracy: 0.7436 - val_loss: 0.4124 - val_precision: 0.7632 - val_recall: 0.9667\n",
            "Epoch 16/50\n",
            "\u001b[1m10/10\u001b[0m \u001b[32m━━━━━━━━━━━━━━━━━━━━\u001b[0m\u001b[37m\u001b[0m \u001b[1m0s\u001b[0m 11ms/step - accuracy: 0.7651 - loss: 0.4818 - precision: 0.7784 - recall: 0.9566 - val_accuracy: 0.7436 - val_loss: 0.4045 - val_precision: 0.7632 - val_recall: 0.9667\n",
            "Epoch 17/50\n",
            "\u001b[1m10/10\u001b[0m \u001b[32m━━━━━━━━━━━━━━━━━━━━\u001b[0m\u001b[37m\u001b[0m \u001b[1m0s\u001b[0m 15ms/step - accuracy: 0.7448 - loss: 0.4975 - precision: 0.7560 - recall: 0.9507 - val_accuracy: 0.7436 - val_loss: 0.3976 - val_precision: 0.7632 - val_recall: 0.9667\n",
            "Epoch 18/50\n",
            "\u001b[1m10/10\u001b[0m \u001b[32m━━━━━━━━━━━━━━━━━━━━\u001b[0m\u001b[37m\u001b[0m \u001b[1m0s\u001b[0m 10ms/step - accuracy: 0.8097 - loss: 0.4384 - precision: 0.8090 - recall: 0.9792 - val_accuracy: 0.7692 - val_loss: 0.3905 - val_precision: 0.7692 - val_recall: 1.0000\n",
            "Epoch 19/50\n",
            "\u001b[1m10/10\u001b[0m \u001b[32m━━━━━━━━━━━━━━━━━━━━\u001b[0m\u001b[37m\u001b[0m \u001b[1m0s\u001b[0m 10ms/step - accuracy: 0.7869 - loss: 0.4740 - precision: 0.7745 - recall: 0.9844 - val_accuracy: 0.7692 - val_loss: 0.3837 - val_precision: 0.7692 - val_recall: 1.0000\n",
            "Epoch 20/50\n",
            "\u001b[1m10/10\u001b[0m \u001b[32m━━━━━━━━━━━━━━━━━━━━\u001b[0m\u001b[37m\u001b[0m \u001b[1m0s\u001b[0m 15ms/step - accuracy: 0.8202 - loss: 0.4519 - precision: 0.8139 - recall: 0.9919 - val_accuracy: 0.7692 - val_loss: 0.3774 - val_precision: 0.7692 - val_recall: 1.0000\n",
            "Epoch 21/50\n",
            "\u001b[1m10/10\u001b[0m \u001b[32m━━━━━━━━━━━━━━━━━━━━\u001b[0m\u001b[37m\u001b[0m \u001b[1m0s\u001b[0m 10ms/step - accuracy: 0.7776 - loss: 0.4695 - precision: 0.7926 - recall: 0.9569 - val_accuracy: 0.7692 - val_loss: 0.3710 - val_precision: 0.7692 - val_recall: 1.0000\n",
            "Epoch 22/50\n",
            "\u001b[1m10/10\u001b[0m \u001b[32m━━━━━━━━━━━━━━━━━━━━\u001b[0m\u001b[37m\u001b[0m \u001b[1m0s\u001b[0m 11ms/step - accuracy: 0.7563 - loss: 0.4512 - precision: 0.7708 - recall: 0.9445 - val_accuracy: 0.7692 - val_loss: 0.3642 - val_precision: 0.7692 - val_recall: 1.0000\n",
            "Epoch 23/50\n",
            "\u001b[1m10/10\u001b[0m \u001b[32m━━━━━━━━━━━━━━━━━━━━\u001b[0m\u001b[37m\u001b[0m \u001b[1m0s\u001b[0m 14ms/step - accuracy: 0.7706 - loss: 0.4674 - precision: 0.7562 - recall: 0.9757 - val_accuracy: 0.7692 - val_loss: 0.3566 - val_precision: 0.7692 - val_recall: 1.0000\n",
            "Epoch 24/50\n",
            "\u001b[1m10/10\u001b[0m \u001b[32m━━━━━━━━━━━━━━━━━━━━\u001b[0m\u001b[37m\u001b[0m \u001b[1m0s\u001b[0m 11ms/step - accuracy: 0.7647 - loss: 0.4420 - precision: 0.7683 - recall: 0.9738 - val_accuracy: 0.7949 - val_loss: 0.3491 - val_precision: 0.7895 - val_recall: 1.0000\n",
            "Epoch 25/50\n",
            "\u001b[1m10/10\u001b[0m \u001b[32m━━━━━━━━━━━━━━━━━━━━\u001b[0m\u001b[37m\u001b[0m \u001b[1m0s\u001b[0m 10ms/step - accuracy: 0.7579 - loss: 0.5016 - precision: 0.7705 - recall: 0.9546 - val_accuracy: 0.7949 - val_loss: 0.3413 - val_precision: 0.7895 - val_recall: 1.0000\n",
            "Epoch 26/50\n",
            "\u001b[1m10/10\u001b[0m \u001b[32m━━━━━━━━━━━━━━━━━━━━\u001b[0m\u001b[37m\u001b[0m \u001b[1m0s\u001b[0m 11ms/step - accuracy: 0.8344 - loss: 0.4344 - precision: 0.8268 - recall: 0.9818 - val_accuracy: 0.8462 - val_loss: 0.3326 - val_precision: 0.8333 - val_recall: 1.0000\n",
            "Epoch 27/50\n",
            "\u001b[1m10/10\u001b[0m \u001b[32m━━━━━━━━━━━━━━━━━━━━\u001b[0m\u001b[37m\u001b[0m \u001b[1m0s\u001b[0m 10ms/step - accuracy: 0.8320 - loss: 0.4289 - precision: 0.8138 - recall: 1.0000 - val_accuracy: 0.8718 - val_loss: 0.3240 - val_precision: 0.8571 - val_recall: 1.0000\n",
            "Epoch 28/50\n",
            "\u001b[1m10/10\u001b[0m \u001b[32m━━━━━━━━━━━━━━━━━━━━\u001b[0m\u001b[37m\u001b[0m \u001b[1m0s\u001b[0m 11ms/step - accuracy: 0.8246 - loss: 0.3996 - precision: 0.8276 - recall: 0.9696 - val_accuracy: 0.8974 - val_loss: 0.3161 - val_precision: 0.8824 - val_recall: 1.0000\n",
            "Epoch 29/50\n",
            "\u001b[1m10/10\u001b[0m \u001b[32m━━━━━━━━━━━━━━━━━━━━\u001b[0m\u001b[37m\u001b[0m \u001b[1m0s\u001b[0m 11ms/step - accuracy: 0.8188 - loss: 0.4032 - precision: 0.8222 - recall: 0.9668 - val_accuracy: 0.8974 - val_loss: 0.3090 - val_precision: 0.8824 - val_recall: 1.0000\n",
            "Epoch 30/50\n",
            "\u001b[1m10/10\u001b[0m \u001b[32m━━━━━━━━━━━━━━━━━━━━\u001b[0m\u001b[37m\u001b[0m \u001b[1m0s\u001b[0m 13ms/step - accuracy: 0.8159 - loss: 0.4263 - precision: 0.8006 - recall: 0.9862 - val_accuracy: 0.9231 - val_loss: 0.3000 - val_precision: 0.9091 - val_recall: 1.0000\n",
            "Epoch 31/50\n",
            "\u001b[1m10/10\u001b[0m \u001b[32m━━━━━━━━━━━━━━━━━━━━\u001b[0m\u001b[37m\u001b[0m \u001b[1m0s\u001b[0m 10ms/step - accuracy: 0.8350 - loss: 0.4183 - precision: 0.8168 - recall: 0.9968 - val_accuracy: 0.9231 - val_loss: 0.2923 - val_precision: 0.9091 - val_recall: 1.0000\n",
            "Epoch 32/50\n",
            "\u001b[1m10/10\u001b[0m \u001b[32m━━━━━━━━━━━━━━━━━━━━\u001b[0m\u001b[37m\u001b[0m \u001b[1m0s\u001b[0m 11ms/step - accuracy: 0.8762 - loss: 0.3574 - precision: 0.8636 - recall: 0.9785 - val_accuracy: 0.9231 - val_loss: 0.2825 - val_precision: 0.9091 - val_recall: 1.0000\n",
            "Epoch 33/50\n",
            "\u001b[1m10/10\u001b[0m \u001b[32m━━━━━━━━━━━━━━━━━━━━\u001b[0m\u001b[37m\u001b[0m \u001b[1m0s\u001b[0m 11ms/step - accuracy: 0.8742 - loss: 0.3294 - precision: 0.8821 - recall: 0.9618 - val_accuracy: 0.9487 - val_loss: 0.2733 - val_precision: 0.9375 - val_recall: 1.0000\n",
            "Epoch 34/50\n",
            "\u001b[1m10/10\u001b[0m \u001b[32m━━━━━━━━━━━━━━━━━━━━\u001b[0m\u001b[37m\u001b[0m \u001b[1m0s\u001b[0m 11ms/step - accuracy: 0.8279 - loss: 0.4008 - precision: 0.8181 - recall: 0.9790 - val_accuracy: 0.9744 - val_loss: 0.2659 - val_precision: 0.9677 - val_recall: 1.0000\n",
            "Epoch 35/50\n",
            "\u001b[1m10/10\u001b[0m \u001b[32m━━━━━━━━━━━━━━━━━━━━\u001b[0m\u001b[37m\u001b[0m \u001b[1m0s\u001b[0m 11ms/step - accuracy: 0.8626 - loss: 0.3640 - precision: 0.8668 - recall: 0.9549 - val_accuracy: 1.0000 - val_loss: 0.2585 - val_precision: 1.0000 - val_recall: 1.0000\n",
            "Epoch 36/50\n",
            "\u001b[1m10/10\u001b[0m \u001b[32m━━━━━━━━━━━━━━━━━━━━\u001b[0m\u001b[37m\u001b[0m \u001b[1m0s\u001b[0m 11ms/step - accuracy: 0.8643 - loss: 0.3393 - precision: 0.8583 - recall: 0.9766 - val_accuracy: 1.0000 - val_loss: 0.2497 - val_precision: 1.0000 - val_recall: 1.0000\n",
            "Epoch 37/50\n",
            "\u001b[1m10/10\u001b[0m \u001b[32m━━━━━━━━━━━━━━━━━━━━\u001b[0m\u001b[37m\u001b[0m \u001b[1m0s\u001b[0m 11ms/step - accuracy: 0.8478 - loss: 0.3444 - precision: 0.8654 - recall: 0.9426 - val_accuracy: 1.0000 - val_loss: 0.2429 - val_precision: 1.0000 - val_recall: 1.0000\n",
            "Epoch 38/50\n",
            "\u001b[1m10/10\u001b[0m \u001b[32m━━━━━━━━━━━━━━━━━━━━\u001b[0m\u001b[37m\u001b[0m \u001b[1m0s\u001b[0m 10ms/step - accuracy: 0.8755 - loss: 0.3211 - precision: 0.8616 - recall: 0.9870 - val_accuracy: 1.0000 - val_loss: 0.2366 - val_precision: 1.0000 - val_recall: 1.0000\n",
            "Epoch 39/50\n",
            "\u001b[1m10/10\u001b[0m \u001b[32m━━━━━━━━━━━━━━━━━━━━\u001b[0m\u001b[37m\u001b[0m \u001b[1m0s\u001b[0m 11ms/step - accuracy: 0.8683 - loss: 0.3412 - precision: 0.8743 - recall: 0.9574 - val_accuracy: 1.0000 - val_loss: 0.2315 - val_precision: 1.0000 - val_recall: 1.0000\n",
            "Epoch 40/50\n",
            "\u001b[1m10/10\u001b[0m \u001b[32m━━━━━━━━━━━━━━━━━━━━\u001b[0m\u001b[37m\u001b[0m \u001b[1m0s\u001b[0m 11ms/step - accuracy: 0.8759 - loss: 0.3415 - precision: 0.8677 - recall: 0.9765 - val_accuracy: 1.0000 - val_loss: 0.2256 - val_precision: 1.0000 - val_recall: 1.0000\n",
            "Epoch 41/50\n",
            "\u001b[1m10/10\u001b[0m \u001b[32m━━━━━━━━━━━━━━━━━━━━\u001b[0m\u001b[37m\u001b[0m \u001b[1m0s\u001b[0m 11ms/step - accuracy: 0.8586 - loss: 0.3510 - precision: 0.8868 - recall: 0.9279 - val_accuracy: 1.0000 - val_loss: 0.2180 - val_precision: 1.0000 - val_recall: 1.0000\n",
            "Epoch 42/50\n",
            "\u001b[1m10/10\u001b[0m \u001b[32m━━━━━━━━━━━━━━━━━━━━\u001b[0m\u001b[37m\u001b[0m \u001b[1m0s\u001b[0m 11ms/step - accuracy: 0.8740 - loss: 0.3259 - precision: 0.8610 - recall: 0.9798 - val_accuracy: 1.0000 - val_loss: 0.2123 - val_precision: 1.0000 - val_recall: 1.0000\n",
            "Epoch 43/50\n",
            "\u001b[1m10/10\u001b[0m \u001b[32m━━━━━━━━━━━━━━━━━━━━\u001b[0m\u001b[37m\u001b[0m \u001b[1m0s\u001b[0m 10ms/step - accuracy: 0.9280 - loss: 0.2801 - precision: 0.9300 - recall: 0.9760 - val_accuracy: 1.0000 - val_loss: 0.2072 - val_precision: 1.0000 - val_recall: 1.0000\n",
            "Epoch 44/50\n",
            "\u001b[1m10/10\u001b[0m \u001b[32m━━━━━━━━━━━━━━━━━━━━\u001b[0m\u001b[37m\u001b[0m \u001b[1m0s\u001b[0m 12ms/step - accuracy: 0.8927 - loss: 0.3148 - precision: 0.9080 - recall: 0.9568 - val_accuracy: 1.0000 - val_loss: 0.2024 - val_precision: 1.0000 - val_recall: 1.0000\n",
            "Epoch 45/50\n",
            "\u001b[1m10/10\u001b[0m \u001b[32m━━━━━━━━━━━━━━━━━━━━\u001b[0m\u001b[37m\u001b[0m \u001b[1m0s\u001b[0m 11ms/step - accuracy: 0.8825 - loss: 0.3084 - precision: 0.8620 - recall: 0.9896 - val_accuracy: 1.0000 - val_loss: 0.1980 - val_precision: 1.0000 - val_recall: 1.0000\n",
            "Epoch 46/50\n",
            "\u001b[1m10/10\u001b[0m \u001b[32m━━━━━━━━━━━━━━━━━━━━\u001b[0m\u001b[37m\u001b[0m \u001b[1m0s\u001b[0m 11ms/step - accuracy: 0.9044 - loss: 0.3053 - precision: 0.9313 - recall: 0.9402 - val_accuracy: 1.0000 - val_loss: 0.1932 - val_precision: 1.0000 - val_recall: 1.0000\n",
            "Epoch 47/50\n",
            "\u001b[1m10/10\u001b[0m \u001b[32m━━━━━━━━━━━━━━━━━━━━\u001b[0m\u001b[37m\u001b[0m \u001b[1m0s\u001b[0m 14ms/step - accuracy: 0.8718 - loss: 0.3336 - precision: 0.9088 - recall: 0.9326 - val_accuracy: 1.0000 - val_loss: 0.1887 - val_precision: 1.0000 - val_recall: 1.0000\n",
            "Epoch 48/50\n",
            "\u001b[1m10/10\u001b[0m \u001b[32m━━━━━━━━━━━━━━━━━━━━\u001b[0m\u001b[37m\u001b[0m \u001b[1m0s\u001b[0m 11ms/step - accuracy: 0.8508 - loss: 0.2827 - precision: 0.8530 - recall: 0.9667 - val_accuracy: 1.0000 - val_loss: 0.1832 - val_precision: 1.0000 - val_recall: 1.0000\n",
            "Epoch 49/50\n",
            "\u001b[1m10/10\u001b[0m \u001b[32m━━━━━━━━━━━━━━━━━━━━\u001b[0m\u001b[37m\u001b[0m \u001b[1m0s\u001b[0m 11ms/step - accuracy: 0.8916 - loss: 0.2796 - precision: 0.9250 - recall: 0.9368 - val_accuracy: 1.0000 - val_loss: 0.1778 - val_precision: 1.0000 - val_recall: 1.0000\n",
            "Epoch 50/50\n",
            "\u001b[1m10/10\u001b[0m \u001b[32m━━━━━━━━━━━━━━━━━━━━\u001b[0m\u001b[37m\u001b[0m \u001b[1m0s\u001b[0m 11ms/step - accuracy: 0.9144 - loss: 0.2694 - precision: 0.8975 - recall: 0.9954 - val_accuracy: 1.0000 - val_loss: 0.1729 - val_precision: 1.0000 - val_recall: 1.0000\n"
          ]
        }
      ]
    },
    {
      "cell_type": "markdown",
      "source": [
        "Compile the Model"
      ],
      "metadata": {
        "id": "SdSHs3Wi5_bo"
      }
    },
    {
      "cell_type": "markdown",
      "source": [
        "Summary of the Model"
      ],
      "metadata": {
        "id": "7JyQ_eMg71f0"
      }
    },
    {
      "cell_type": "code",
      "source": [
        "model.summary()"
      ],
      "metadata": {
        "colab": {
          "base_uri": "https://localhost:8080/",
          "height": 241
        },
        "id": "344hOn-q7zzg",
        "outputId": "5d5714b8-4693-4f79-a75e-67853f4aef17"
      },
      "execution_count": null,
      "outputs": [
        {
          "output_type": "display_data",
          "data": {
            "text/plain": [
              "\u001b[1mModel: \"sequential\"\u001b[0m\n"
            ],
            "text/html": [
              "<pre style=\"white-space:pre;overflow-x:auto;line-height:normal;font-family:Menlo,'DejaVu Sans Mono',consolas,'Courier New',monospace\"><span style=\"font-weight: bold\">Model: \"sequential\"</span>\n",
              "</pre>\n"
            ]
          },
          "metadata": {}
        },
        {
          "output_type": "display_data",
          "data": {
            "text/plain": [
              "┏━━━━━━━━━━━━━━━━━━━━━━━━━━━━━━━━━┳━━━━━━━━━━━━━━━━━━━━━━━━┳━━━━━━━━━━━━━━━┓\n",
              "┃\u001b[1m \u001b[0m\u001b[1mLayer (type)                   \u001b[0m\u001b[1m \u001b[0m┃\u001b[1m \u001b[0m\u001b[1mOutput Shape          \u001b[0m\u001b[1m \u001b[0m┃\u001b[1m \u001b[0m\u001b[1m      Param #\u001b[0m\u001b[1m \u001b[0m┃\n",
              "┡━━━━━━━━━━━━━━━━━━━━━━━━━━━━━━━━━╇━━━━━━━━━━━━━━━━━━━━━━━━╇━━━━━━━━━━━━━━━┩\n",
              "│ dense (\u001b[38;5;33mDense\u001b[0m)                   │ (\u001b[38;5;45mNone\u001b[0m, \u001b[38;5;34m16\u001b[0m)             │           \u001b[38;5;34m416\u001b[0m │\n",
              "├─────────────────────────────────┼────────────────────────┼───────────────┤\n",
              "│ dropout (\u001b[38;5;33mDropout\u001b[0m)               │ (\u001b[38;5;45mNone\u001b[0m, \u001b[38;5;34m16\u001b[0m)             │             \u001b[38;5;34m0\u001b[0m │\n",
              "├─────────────────────────────────┼────────────────────────┼───────────────┤\n",
              "│ dense_1 (\u001b[38;5;33mDense\u001b[0m)                 │ (\u001b[38;5;45mNone\u001b[0m, \u001b[38;5;34m1\u001b[0m)              │            \u001b[38;5;34m17\u001b[0m │\n",
              "└─────────────────────────────────┴────────────────────────┴───────────────┘\n"
            ],
            "text/html": [
              "<pre style=\"white-space:pre;overflow-x:auto;line-height:normal;font-family:Menlo,'DejaVu Sans Mono',consolas,'Courier New',monospace\">┏━━━━━━━━━━━━━━━━━━━━━━━━━━━━━━━━━┳━━━━━━━━━━━━━━━━━━━━━━━━┳━━━━━━━━━━━━━━━┓\n",
              "┃<span style=\"font-weight: bold\"> Layer (type)                    </span>┃<span style=\"font-weight: bold\"> Output Shape           </span>┃<span style=\"font-weight: bold\">       Param # </span>┃\n",
              "┡━━━━━━━━━━━━━━━━━━━━━━━━━━━━━━━━━╇━━━━━━━━━━━━━━━━━━━━━━━━╇━━━━━━━━━━━━━━━┩\n",
              "│ dense (<span style=\"color: #0087ff; text-decoration-color: #0087ff\">Dense</span>)                   │ (<span style=\"color: #00d7ff; text-decoration-color: #00d7ff\">None</span>, <span style=\"color: #00af00; text-decoration-color: #00af00\">16</span>)             │           <span style=\"color: #00af00; text-decoration-color: #00af00\">416</span> │\n",
              "├─────────────────────────────────┼────────────────────────┼───────────────┤\n",
              "│ dropout (<span style=\"color: #0087ff; text-decoration-color: #0087ff\">Dropout</span>)               │ (<span style=\"color: #00d7ff; text-decoration-color: #00d7ff\">None</span>, <span style=\"color: #00af00; text-decoration-color: #00af00\">16</span>)             │             <span style=\"color: #00af00; text-decoration-color: #00af00\">0</span> │\n",
              "├─────────────────────────────────┼────────────────────────┼───────────────┤\n",
              "│ dense_1 (<span style=\"color: #0087ff; text-decoration-color: #0087ff\">Dense</span>)                 │ (<span style=\"color: #00d7ff; text-decoration-color: #00d7ff\">None</span>, <span style=\"color: #00af00; text-decoration-color: #00af00\">1</span>)              │            <span style=\"color: #00af00; text-decoration-color: #00af00\">17</span> │\n",
              "└─────────────────────────────────┴────────────────────────┴───────────────┘\n",
              "</pre>\n"
            ]
          },
          "metadata": {}
        },
        {
          "output_type": "display_data",
          "data": {
            "text/plain": [
              "\u001b[1m Total params: \u001b[0m\u001b[38;5;34m1,301\u001b[0m (5.09 KB)\n"
            ],
            "text/html": [
              "<pre style=\"white-space:pre;overflow-x:auto;line-height:normal;font-family:Menlo,'DejaVu Sans Mono',consolas,'Courier New',monospace\"><span style=\"font-weight: bold\"> Total params: </span><span style=\"color: #00af00; text-decoration-color: #00af00\">1,301</span> (5.09 KB)\n",
              "</pre>\n"
            ]
          },
          "metadata": {}
        },
        {
          "output_type": "display_data",
          "data": {
            "text/plain": [
              "\u001b[1m Trainable params: \u001b[0m\u001b[38;5;34m433\u001b[0m (1.69 KB)\n"
            ],
            "text/html": [
              "<pre style=\"white-space:pre;overflow-x:auto;line-height:normal;font-family:Menlo,'DejaVu Sans Mono',consolas,'Courier New',monospace\"><span style=\"font-weight: bold\"> Trainable params: </span><span style=\"color: #00af00; text-decoration-color: #00af00\">433</span> (1.69 KB)\n",
              "</pre>\n"
            ]
          },
          "metadata": {}
        },
        {
          "output_type": "display_data",
          "data": {
            "text/plain": [
              "\u001b[1m Non-trainable params: \u001b[0m\u001b[38;5;34m0\u001b[0m (0.00 B)\n"
            ],
            "text/html": [
              "<pre style=\"white-space:pre;overflow-x:auto;line-height:normal;font-family:Menlo,'DejaVu Sans Mono',consolas,'Courier New',monospace\"><span style=\"font-weight: bold\"> Non-trainable params: </span><span style=\"color: #00af00; text-decoration-color: #00af00\">0</span> (0.00 B)\n",
              "</pre>\n"
            ]
          },
          "metadata": {}
        },
        {
          "output_type": "display_data",
          "data": {
            "text/plain": [
              "\u001b[1m Optimizer params: \u001b[0m\u001b[38;5;34m868\u001b[0m (3.39 KB)\n"
            ],
            "text/html": [
              "<pre style=\"white-space:pre;overflow-x:auto;line-height:normal;font-family:Menlo,'DejaVu Sans Mono',consolas,'Courier New',monospace\"><span style=\"font-weight: bold\"> Optimizer params: </span><span style=\"color: #00af00; text-decoration-color: #00af00\">868</span> (3.39 KB)\n",
              "</pre>\n"
            ]
          },
          "metadata": {}
        }
      ]
    },
    {
      "cell_type": "markdown",
      "source": [
        "Train Model"
      ],
      "metadata": {
        "id": "G_w2ilg26wEB"
      }
    },
    {
      "cell_type": "markdown",
      "source": [
        "Accuracy And Loss Curves"
      ],
      "metadata": {
        "id": "G-N3mKN66866"
      }
    },
    {
      "cell_type": "code",
      "source": [
        "import matplotlib.pyplot as plt\n",
        "\n",
        "# Accuracy plot\n",
        "plt.figure(figsize=(10, 4))\n",
        "plt.subplot(1, 2, 1)\n",
        "plt.plot(history.history['accuracy'], label='Train Acc')\n",
        "plt.plot(history.history['val_accuracy'], label='Val Acc')\n",
        "plt.title('Accuracy Over Epochs')\n",
        "plt.xlabel('Epoch')\n",
        "plt.ylabel('Accuracy')\n",
        "plt.legend()\n",
        "\n",
        "# Loss plot\n",
        "plt.subplot(1, 2, 2)\n",
        "plt.plot(history.history['loss'], label='Train Loss')\n",
        "plt.plot(history.history['val_loss'], label='Val Loss')\n",
        "plt.title('Loss Over Epochs')\n",
        "plt.xlabel('Epoch')\n",
        "plt.ylabel('Loss')\n",
        "plt.legend()\n",
        "\n",
        "plt.tight_layout()\n",
        "plt.show()"
      ],
      "metadata": {
        "colab": {
          "base_uri": "https://localhost:8080/",
          "height": 407
        },
        "id": "Wp1lCsT160tO",
        "outputId": "16315046-e8af-4b0e-e1b2-3735e43dc9d2"
      },
      "execution_count": null,
      "outputs": [
        {
          "output_type": "display_data",
          "data": {
            "text/plain": [
              "<Figure size 1000x400 with 2 Axes>"
            ],
            "image/png": "[encoded data removed]"
          },
          "metadata": {}
        }
      ]
    },
    {
      "cell_type": "markdown",
      "source": [
        "Confusion Metrix"
      ],
      "metadata": {
        "id": "W95JHKWD7D6L"
      }
    },
    {
      "cell_type": "code",
      "source": [
        "from sklearn.metrics import accuracy_score, confusion_matrix, classification_report\n",
        "import matplotlib.pyplot as plt\n",
        "import seaborn as sns\n",
        "\n",
        "# Predictions on test set (probabilities)\n",
        "y_pred_probs = model.predict(X_test)\n",
        "\n",
        "# Convert probabilities to class labels (0 or 1)\n",
        "y_pred = (y_pred_probs > 0.5).astype(int)\n",
        "\n",
        "# Accuracy\n",
        "test_accuracy = accuracy_score(y_test, y_pred)\n",
        "print(\"Test Accuracy:\", test_accuracy)\n",
        "\n",
        "# Confusion Matrix\n",
        "cm = confusion_matrix(y_test, y_pred)\n",
        "sns.heatmap(cm, annot=True, fmt='d', cmap='Blues', xticklabels=[\"No Diabetes\", \"Diabetes\"], yticklabels=[\"No Diabetes\", \"Diabetes\"])\n",
        "plt.xlabel(\"Predicted\")\n",
        "plt.ylabel(\"Actual\")\n",
        "plt.title(\"Confusion Matrix\")\n",
        "plt.show()\n"
      ],
      "metadata": {
        "colab": {
          "base_uri": "https://localhost:8080/",
          "height": 508
        },
        "id": "HAn5kZMR7AhI",
        "outputId": "23c8e562-5545-40b7-da74-4db0d12ffe5d"
      },
      "execution_count": null,
      "outputs": [
        {
          "output_type": "stream",
          "name": "stdout",
          "text": [
            "\u001b[1m2/2\u001b[0m \u001b[32m━━━━━━━━━━━━━━━━━━━━\u001b[0m\u001b[37m\u001b[0m \u001b[1m0s\u001b[0m 63ms/step\n",
            "Test Accuracy: 1.0\n"
          ]
        },
        {
          "output_type": "display_data",
          "data": {
            "text/plain": [
              "<Figure size 640x480 with 2 Axes>"
            ],
            "image/png": "[encoded data removed]"
          },
          "metadata": {}
        }
      ]
    },
    {
      "cell_type": "markdown",
      "source": [
        "Classification Report"
      ],
      "metadata": {
        "id": "4cVjlOWx7ZKL"
      }
    },
    {
      "cell_type": "code",
      "source": [
        "print(classification_report(y_test, y_pred))"
      ],
      "metadata": {
        "colab": {
          "base_uri": "https://localhost:8080/"
        },
        "id": "DyeHg-YA7Kvz",
        "outputId": "e7b91c77-25dc-457b-c664-fb368b08d11b"
      },
      "execution_count": null,
      "outputs": [
        {
          "output_type": "stream",
          "name": "stdout",
          "text": [
            "              precision    recall  f1-score   support\n",
            "\n",
            "           0       1.00      1.00      1.00         9\n",
            "           1       1.00      1.00      1.00        30\n",
            "\n",
            "    accuracy                           1.00        39\n",
            "   macro avg       1.00      1.00      1.00        39\n",
            "weighted avg       1.00      1.00      1.00        39\n",
            "\n"
          ]
        }
      ]
    },
    {
      "cell_type": "markdown",
      "source": [
        "ROC and AUC score"
      ],
      "metadata": {
        "id": "ZMjb-nuL7jS2"
      }
    },
    {
      "cell_type": "code",
      "source": [
        "from sklearn.metrics import roc_curve, auc\n",
        "\n",
        "fpr, tpr, thresholds = roc_curve(y_test, y_pred_probs)\n",
        "roc_auc = auc(fpr, tpr)\n",
        "\n",
        "plt.figure()\n",
        "plt.plot(fpr, tpr, color='darkorange', lw=2, label='AUC = %0.2f' % roc_auc)\n",
        "plt.plot([0, 1], [0, 1], color='navy', lw=2, linestyle='--')\n",
        "plt.title('Receiver Operating Characteristic (ROC)')\n",
        "plt.xlabel('False Positive Rate')\n",
        "plt.ylabel('True Positive Rate')\n",
        "plt.legend(loc='lower right')\n",
        "plt.show()\n",
        "\n",
        "print(\"AUC Score:\", roc_auc)"
      ],
      "metadata": {
        "colab": {
          "base_uri": "https://localhost:8080/",
          "height": 490
        },
        "id": "_gTYd29U7d6H",
        "outputId": "026ca2ab-e63d-4bb9-fa71-0fc637b724a6"
      },
      "execution_count": null,
      "outputs": [
        {
          "output_type": "display_data",
          "data": {
            "text/plain": [
              "<Figure size 640x480 with 1 Axes>"
            ],
            "image/png": "[encoded data removed]"
          },
          "metadata": {}
        },
        {
          "output_type": "stream",
          "name": "stdout",
          "text": [
            "AUC Score: 1.0\n"
          ]
        }
      ]
    },
    {
      "cell_type": "markdown",
      "source": [
        "Preprocessing and Training pipeline"
      ],
      "metadata": {
        "id": "w3XwshllgeD7"
      }
    },
    {
      "cell_type": "code",
      "source": [
        "import pandas as pd\n",
        "from sklearn.model_selection import train_test_split\n",
        "from sklearn.pipeline import Pipeline\n",
        "from sklearn.preprocessing import StandardScaler\n",
        "from sklearn.compose import ColumnTransformer\n",
        "from sklearn.impute import SimpleImputer\n",
        "from sklearn.ensemble import RandomForestClassifier\n",
        "import joblib\n",
        "\n",
        "numeric_features = [\n",
        "    'Age', 'Weight(kg)', 'Height(cm)', 'Height(m)', 'BMI', 'Average hours of sleep per night'\n",
        "]\n",
        "\n",
        "categorical_features = [col for col in df.columns\n",
        "                        if col not in numeric_features + ['Diabetes_Risk', 'Column 1']]\n",
        "\n",
        "all_features = numeric_features + categorical_features\n",
        "\n",
        "X = df[all_features]\n",
        "y = df['Diabetes_Risk']\n",
        "\n",
        "X_train, X_test, y_train, y_test = train_test_split(X, y, test_size=0.2, random_state=42)\n",
        "\n",
        "\n",
        "# Preprocessing\n",
        "numeric_transformer = Pipeline(steps=[\n",
        "    (\"imputer\", SimpleImputer(strategy=\"median\")),\n",
        "    (\"scaler\", StandardScaler())\n",
        "])\n",
        "\n",
        "categorical_transformer = Pipeline(steps=[\n",
        "    (\"imputer\", SimpleImputer(strategy=\"most_frequent\"))\n",
        "])\n",
        "\n",
        "preprocessor = ColumnTransformer(\n",
        "    transformers=[\n",
        "        (\"num\", numeric_transformer, numeric_features),\n",
        "        (\"cat\", categorical_transformer, categorical_features)\n",
        "    ],\n",
        "    remainder=\"drop\"\n",
        ")\n",
        "\n",
        "# Final model pipeline\n",
        "model = Pipeline(steps=[\n",
        "    (\"preprocessor\", preprocessor),\n",
        "    (\"classifier\", RandomForestClassifier(random_state=42))\n",
        "])\n",
        "\n",
        "# Train model\n",
        "model.fit(X_train, y_train)\n",
        "\n",
        "# Save pipeline\n",
        "joblib.dump(model, 'full_preprocessing_pipeline.pkl')\n",
        "print(\"Pipeline trained and saved successfully!\")\n"
      ],
      "metadata": {
        "id": "if5SwrTHHv7H",
        "colab": {
          "base_uri": "https://localhost:8080/"
        },
        "outputId": "cc0c92e7-9787-4254-95a2-9da14fccb515"
      },
      "execution_count": null,
      "outputs": [
        {
          "output_type": "stream",
          "name": "stdout",
          "text": [
            "Pipeline trained and saved successfully!\n"
          ]
        }
      ]
    },
    {
      "cell_type": "code",
      "source": [],
      "metadata": {
        "id": "7-RpgiQqgIAq"
      },
      "execution_count": null,
      "outputs": []
    }
  ]
}