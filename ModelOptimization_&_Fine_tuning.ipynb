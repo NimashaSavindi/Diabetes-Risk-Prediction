{
  "nbformat": 4,
  "nbformat_minor": 0,
  "metadata": {
    "colab": {
      "provenance": [],
      "authorship_tag": "ABX9TyMLFX/Lgy5HYg05yBSpsPnk",
      "include_colab_link": true
    },
    "kernelspec": {
      "name": "python3",
      "display_name": "Python 3"
    },
    "language_info": {
      "name": "python"
    }
  },
  "cells": [
    {
      "cell_type": "markdown",
      "metadata": {
        "id": "view-in-github",
        "colab_type": "text"
      },
      "source": [
        "<a href=\"https://colab.research.google.com/github/NimashaSavindi/Diabetes-Risk-Prediction/blob/main/ModelOptimization_%26_Fine_tuning.ipynb\" target=\"_parent\"><img src=\"https://colab.research.google.com/assets/colab-badge.svg\" alt=\"Open In Colab\"/></a>"
      ]
    },
    {
      "cell_type": "markdown",
      "source": [
        "Dataset Completeness & Initial Formatting"
      ],
      "metadata": {
        "id": "MJKTRVbVzzC9"
      }
    },
    {
      "cell_type": "code",
      "execution_count": null,
      "metadata": {
        "id": "mhDTLkE2zEPV"
      },
      "outputs": [],
      "source": [
        "import pandas as pd\n",
        "df = pd.read_csv(\"/content/Diabetes Risk Assessment – Anonymous Health Survey  (Responses) - Form Responses 2.csv\")"
      ]
    },
    {
      "cell_type": "code",
      "source": [
        "print(df.shape)"
      ],
      "metadata": {
        "colab": {
          "base_uri": "https://localhost:8080/"
        },
        "id": "UTvTkkYEz49G",
        "outputId": "9e5c7c32-fa4b-4144-d5ab-1681731d1760"
      },
      "execution_count": null,
      "outputs": [
        {
          "output_type": "stream",
          "name": "stdout",
          "text": [
            "(195, 15)\n"
          ]
        }
      ]
    },
    {
      "cell_type": "code",
      "source": [
        "print(df.info())"
      ],
      "metadata": {
        "colab": {
          "base_uri": "https://localhost:8080/"
        },
        "id": "1qdSgOmGz7QY",
        "outputId": "b6575203-dbe2-4874-bb71-66d564734f28"
      },
      "execution_count": null,
      "outputs": [
        {
          "output_type": "stream",
          "name": "stdout",
          "text": [
            "<class 'pandas.core.frame.DataFrame'>\n",
            "RangeIndex: 195 entries, 0 to 194\n",
            "Data columns (total 15 columns):\n",
            " #   Column                                                                        Non-Null Count  Dtype \n",
            "---  ------                                                                        --------------  ----- \n",
            " 0   Column 1                                                                      195 non-null    object\n",
            " 1   Age                                                                           195 non-null    int64 \n",
            " 2   Gender                                                                        195 non-null    object\n",
            " 3   Weight(kg)                                                                    195 non-null    object\n",
            " 4   Height(cm)                                                                    195 non-null    object\n",
            " 5   Physical Activity Level                                                       195 non-null    object\n",
            " 6     How would you describe your typical diet?                                   195 non-null    object\n",
            " 7     Do you have a family history of diabetes?                                   195 non-null    object\n",
            " 8   Have you been diagnosed with hypertension(high blood pressure)?               195 non-null    object\n",
            " 9   Have you been diagnosed with heart disease?                                   195 non-null    object\n",
            " 10  Smoking Habits?                                                               195 non-null    object\n",
            " 11  Average hours of sleep per night                                              195 non-null    object\n",
            " 12  Alcohol Consumption                                                           195 non-null    object\n",
            " 13  Do you usually eat your meals at regular times each day?                      195 non-null    object\n",
            " 14  How often do you feel stressed or emotionally overwhelmed in a typical week?  195 non-null    object\n",
            "dtypes: int64(1), object(14)\n",
            "memory usage: 23.0+ KB\n",
            "None\n"
          ]
        }
      ]
    },
    {
      "cell_type": "markdown",
      "source": [
        "Clean Column Names Early.Removes extra spaces"
      ],
      "metadata": {
        "id": "cunwjpl20MNy"
      }
    },
    {
      "cell_type": "code",
      "source": [
        "df.columns = df.columns.str.strip()"
      ],
      "metadata": {
        "id": "YeqnO7Q7z-J-"
      },
      "execution_count": null,
      "outputs": []
    },
    {
      "cell_type": "markdown",
      "source": [
        "data handleing"
      ],
      "metadata": {
        "id": "ZJcHvl2x0VJD"
      }
    },
    {
      "cell_type": "markdown",
      "source": [
        "Remove non-numeric characters and convert to float"
      ],
      "metadata": {
        "id": "P7OuEAi10a2x"
      }
    },
    {
      "cell_type": "code",
      "source": [
        "df[\"Height(cm)\"] = df[\"Height(cm)\"].str.extract('(\\d+\\.?\\d*)').astype(float)\n",
        "df[\"Weight(kg)\"] = df[\"Weight(kg)\"].str.extract('(\\d+\\.?\\d*)').astype(float)"
      ],
      "metadata": {
        "id": "oAz3R5X_0Rxr",
        "colab": {
          "base_uri": "https://localhost:8080/"
        },
        "outputId": "31198fc3-ff10-4043-f5f9-098397c25ef0"
      },
      "execution_count": null,
      "outputs": [
        {
          "output_type": "stream",
          "name": "stderr",
          "text": [
            "<>:1: SyntaxWarning: invalid escape sequence '\\d'\n",
            "<>:2: SyntaxWarning: invalid escape sequence '\\d'\n",
            "<>:1: SyntaxWarning: invalid escape sequence '\\d'\n",
            "<>:2: SyntaxWarning: invalid escape sequence '\\d'\n",
            "/tmp/ipython-input-1170781582.py:1: SyntaxWarning: invalid escape sequence '\\d'\n",
            "  df[\"Height(cm)\"] = df[\"Height(cm)\"].str.extract('(\\d+\\.?\\d*)').astype(float)\n",
            "/tmp/ipython-input-1170781582.py:2: SyntaxWarning: invalid escape sequence '\\d'\n",
            "  df[\"Weight(kg)\"] = df[\"Weight(kg)\"].str.extract('(\\d+\\.?\\d*)').astype(float)\n"
          ]
        }
      ]
    },
    {
      "cell_type": "markdown",
      "source": [
        "Clean Sleep Hours if values are like \"6-7 hours\".Replace ranges like \"6-7 hours\" with average (6.5)"
      ],
      "metadata": {
        "id": "kvMpAVXn1b3k"
      }
    },
    {
      "cell_type": "code",
      "source": [
        "print(df[\"Average hours of sleep per night\"].unique())"
      ],
      "metadata": {
        "colab": {
          "base_uri": "https://localhost:8080/"
        },
        "id": "30BEaWgB1YgF",
        "outputId": "98ec49ee-a986-49db-af4f-bcfead3321f1"
      },
      "execution_count": null,
      "outputs": [
        {
          "output_type": "stream",
          "name": "stdout",
          "text": [
            "['6-7' '6' '5-6 hr' '5' '5-6h' '7' '5 hours' '4hours' '3 hours per day '\n",
            " '4 - 6 hours' '6 hours ' '8' '4/5 hours ' '7 hours' '5 or 6' '5hr' '9'\n",
            " '8hr' '6 hours' '5 hours ' '6 Hours' '6 h' '5h' '7h' '4h' '6h' '4' '3'\n",
            " '3h']\n"
          ]
        }
      ]
    },
    {
      "cell_type": "code",
      "source": [
        "df[\"Average hours of sleep per night\"] = df[\"Average hours of sleep per night\"].astype(str).str.strip()\n",
        "\n",
        "sleep_mapping = {\n",
        "    \"Less than 5 hours\": 4.5,\n",
        "    \"More than 8 hours\": 9,\n",
        "    \"5-6\": 5.5,\n",
        "    \"5-6 hr\": 5.5,\n",
        "    \"6-7\": 6.5,\n",
        "    \"6-7 hours\": 6.5,\n",
        "    \"6\": 6,\n",
        "    \"7-8\": 7.5,\n",
        "    \"7-8 hours\": 7.5,\n",
        "    \"7\": 7,\n",
        "    \"8\": 8,\n",
        "    \"9\": 9\n",
        "}\n",
        "\n",
        "df[\"Average hours of sleep per night\"] = df[\"Average hours of sleep per night\"].replace(sleep_mapping)"
      ],
      "metadata": {
        "id": "9HzAtIxQ1KNe"
      },
      "execution_count": null,
      "outputs": []
    },
    {
      "cell_type": "code",
      "source": [
        "df[\"Average hours of sleep per night\"] = df[\"Average hours of sleep per night\"].astype(str).str.strip().str.lower()"
      ],
      "metadata": {
        "id": "6T0qVytD1jXO"
      },
      "execution_count": null,
      "outputs": []
    },
    {
      "cell_type": "code",
      "source": [
        "import re\n",
        "\n",
        "def clean_sleep_value(val):\n",
        "    val = val.strip().lower()\n",
        "\n",
        "    # Handle known string patterns first\n",
        "    if \"less\" in val:\n",
        "        return 4.5\n",
        "    if \"more\" in val:\n",
        "        return 9\n",
        "    if \"or\" in val:\n",
        "        return sum([int(x) for x in re.findall(r'\\d+', val)]) / 2\n",
        "    if re.match(r'^\\d+$', val):  # simple numeric\n",
        "        return float(val)\n",
        "\n",
        "    # Extract numbers from ranges like \"5-6\", \"4 - 6 hours\"\n",
        "    nums = re.findall(r'\\d+', val)\n",
        "    if len(nums) == 1:\n",
        "        return float(nums[0])\n",
        "    elif len(nums) == 2:\n",
        "        return sum([int(n) for n in nums]) / 2\n",
        "    else:\n",
        "        return None  # fallback if we can't parse it"
      ],
      "metadata": {
        "id": "Ptg28p091mSz"
      },
      "execution_count": null,
      "outputs": []
    },
    {
      "cell_type": "code",
      "source": [
        "df[\"Average hours of sleep per night\"] = df[\"Average hours of sleep per night\"].apply(clean_sleep_value)\n"
      ],
      "metadata": {
        "id": "27cRYHRP1o5k"
      },
      "execution_count": null,
      "outputs": []
    },
    {
      "cell_type": "code",
      "source": [
        "print(df[\"Average hours of sleep per night\"].unique())\n",
        "print(df[\"Average hours of sleep per night\"].dtype)"
      ],
      "metadata": {
        "colab": {
          "base_uri": "https://localhost:8080/"
        },
        "id": "UwgiIh2w1rrn",
        "outputId": "9e92cac4-1d9b-466d-91b2-a46de9439fa7"
      },
      "execution_count": null,
      "outputs": [
        {
          "output_type": "stream",
          "name": "stdout",
          "text": [
            "[5.5 6.  5.  7.  4.  3.  8.  4.5 9. ]\n",
            "float64\n"
          ]
        }
      ]
    },
    {
      "cell_type": "markdown",
      "source": [
        "Feature Engineering"
      ],
      "metadata": {
        "id": "roa527In10ns"
      }
    },
    {
      "cell_type": "markdown",
      "source": [
        "Create BMI Feature"
      ],
      "metadata": {
        "id": "_VJVn5vD1zAL"
      }
    },
    {
      "cell_type": "code",
      "source": [
        "df[\"Height(m)\"] = df[\"Height(cm)\"] / 100\n",
        "df[\"BMI\"] = df[\"Weight(kg)\"] / (df[\"Height(m)\"]**2)\n",
        "\n",
        "def bmi_category(bmi):\n",
        "    if bmi < 18.5:\n",
        "        return \"Underweight\"\n",
        "    elif bmi < 25:\n",
        "        return \"Normal\"\n",
        "    elif bmi < 30:\n",
        "        return \"Overweight\"\n",
        "    else:\n",
        "        return \"Obese\"\n",
        "\n",
        "df[\"BMICategory\"] = df[\"BMI\"].apply(bmi_category)"
      ],
      "metadata": {
        "id": "1uddr8sm1vmV"
      },
      "execution_count": null,
      "outputs": []
    },
    {
      "cell_type": "code",
      "source": [
        "df.head()"
      ],
      "metadata": {
        "colab": {
          "base_uri": "https://localhost:8080/",
          "height": 816
        },
        "id": "4XX5DKIt17LD",
        "outputId": "7e4469cc-c4db-4f86-b644-3b8ce93b5c61"
      },
      "execution_count": null,
      "outputs": [
        {
          "output_type": "execute_result",
          "data": {
            "text/plain": [
              "             Column 1  Age  Gender  Weight(kg)  Height(cm)  \\\n",
              "0  7/12/2025 20:42:04   24  Female        48.0       157.0   \n",
              "1  7/12/2025 21:09:42   24  Female        45.0       165.0   \n",
              "2  7/12/2025 21:13:29   25  Female        64.0       163.0   \n",
              "3  7/12/2025 21:14:58   26  Female        52.0       157.0   \n",
              "4  7/12/2025 21:25:54   25  Female        48.0       149.0   \n",
              "\n",
              "                             Physical Activity Level  \\\n",
              "0       Low (Little to no regular physical activity)   \n",
              "1       Low (Little to no regular physical activity)   \n",
              "2  Moderate – Some physical activity 1–3 days a w...   \n",
              "3  Moderate – Some physical activity 1–3 days a w...   \n",
              "4  Moderate – Some physical activity 1–3 days a w...   \n",
              "\n",
              "           How would you describe your typical diet?  \\\n",
              "0  Unhealthy (Mostly high-sugar, high-fat, or pro...   \n",
              "1  Moderately Healthy (Mixed diet with occasional...   \n",
              "2  Moderately Healthy (Mixed diet with occasional...   \n",
              "3  Moderately Healthy (Mixed diet with occasional...   \n",
              "4  Healthy (Balanced diet with mix of carbs, prot...   \n",
              "\n",
              "  Do you have a family history of diabetes?  \\\n",
              "0                                        No   \n",
              "1                                        No   \n",
              "2                                        No   \n",
              "3                                       Yes   \n",
              "4                                        No   \n",
              "\n",
              "  Have you been diagnosed with hypertension(high blood pressure)?  \\\n",
              "0                                                 No                \n",
              "1                                                 No                \n",
              "2                                                 No                \n",
              "3                                                 No                \n",
              "4                                                 No                \n",
              "\n",
              "  Have you been diagnosed with heart disease? Smoking Habits?  \\\n",
              "0                                          No  I do not smoke   \n",
              "1                                          No  I do not smoke   \n",
              "2                                         yes  I do not smoke   \n",
              "3                                          No  I do not smoke   \n",
              "4                                          No  I do not smoke   \n",
              "\n",
              "   Average hours of sleep per night            Alcohol Consumption  \\\n",
              "0                               5.5  None (I do not drink alcohol)   \n",
              "1                               6.0  None (I do not drink alcohol)   \n",
              "2                               5.0  None (I do not drink alcohol)   \n",
              "3                               5.0  None (I do not drink alcohol)   \n",
              "4                               5.5  None (I do not drink alcohol)   \n",
              "\n",
              "  Do you usually eat your meals at regular times each day?  \\\n",
              "0                                 I often skip meals         \n",
              "1                                No, meal times vary         \n",
              "2                                No, meal times vary         \n",
              "3                                No, meal times vary         \n",
              "4                       Yes, mostly at the same time         \n",
              "\n",
              "  How often do you feel stressed or emotionally overwhelmed in a typical week?  \\\n",
              "0                                          Sometimes                             \n",
              "1                                          Sometimes                             \n",
              "2                                              Often                             \n",
              "3                                          Sometimes                             \n",
              "4                                          Sometimes                             \n",
              "\n",
              "   Height(m)        BMI  BMICategory  \n",
              "0       1.57  19.473407       Normal  \n",
              "1       1.65  16.528926  Underweight  \n",
              "2       1.63  24.088223       Normal  \n",
              "3       1.57  21.096191       Normal  \n",
              "4       1.49  21.620648       Normal  "
            ],
            "text/html": [
              "\n",
              "  <div id=\"df-530705ef-8356-4fcd-882a-8f0441f09d45\" class=\"colab-df-container\">\n",
              "    <div>\n",
              "<style scoped>\n",
              "    .dataframe tbody tr th:only-of-type {\n",
              "        vertical-align: middle;\n",
              "    }\n",
              "\n",
              "    .dataframe tbody tr th {\n",
              "        vertical-align: top;\n",
              "    }\n",
              "\n",
              "    .dataframe thead th {\n",
              "        text-align: right;\n",
              "    }\n",
              "</style>\n",
              "<table border=\"1\" class=\"dataframe\">\n",
              "  <thead>\n",
              "    <tr style=\"text-align: right;\">\n",
              "      <th></th>\n",
              "      <th>Column 1</th>\n",
              "      <th>Age</th>\n",
              "      <th>Gender</th>\n",
              "      <th>Weight(kg)</th>\n",
              "      <th>Height(cm)</th>\n",
              "      <th>Physical Activity Level</th>\n",
              "      <th>How would you describe your typical diet?</th>\n",
              "      <th>Do you have a family history of diabetes?</th>\n",
              "      <th>Have you been diagnosed with hypertension(high blood pressure)?</th>\n",
              "      <th>Have you been diagnosed with heart disease?</th>\n",
              "      <th>Smoking Habits?</th>\n",
              "      <th>Average hours of sleep per night</th>\n",
              "      <th>Alcohol Consumption</th>\n",
              "      <th>Do you usually eat your meals at regular times each day?</th>\n",
              "      <th>How often do you feel stressed or emotionally overwhelmed in a typical week?</th>\n",
              "      <th>Height(m)</th>\n",
              "      <th>BMI</th>\n",
              "      <th>BMICategory</th>\n",
              "    </tr>\n",
              "  </thead>\n",
              "  <tbody>\n",
              "    <tr>\n",
              "      <th>0</th>\n",
              "      <td>7/12/2025 20:42:04</td>\n",
              "      <td>24</td>\n",
              "      <td>Female</td>\n",
              "      <td>48.0</td>\n",
              "      <td>157.0</td>\n",
              "      <td>Low (Little to no regular physical activity)</td>\n",
              "      <td>Unhealthy (Mostly high-sugar, high-fat, or pro...</td>\n",
              "      <td>No</td>\n",
              "      <td>No</td>\n",
              "      <td>No</td>\n",
              "      <td>I do not smoke</td>\n",
              "      <td>5.5</td>\n",
              "      <td>None (I do not drink alcohol)</td>\n",
              "      <td>I often skip meals</td>\n",
              "      <td>Sometimes</td>\n",
              "      <td>1.57</td>\n",
              "      <td>19.473407</td>\n",
              "      <td>Normal</td>\n",
              "    </tr>\n",
              "    <tr>\n",
              "      <th>1</th>\n",
              "      <td>7/12/2025 21:09:42</td>\n",
              "      <td>24</td>\n",
              "      <td>Female</td>\n",
              "      <td>45.0</td>\n",
              "      <td>165.0</td>\n",
              "      <td>Low (Little to no regular physical activity)</td>\n",
              "      <td>Moderately Healthy (Mixed diet with occasional...</td>\n",
              "      <td>No</td>\n",
              "      <td>No</td>\n",
              "      <td>No</td>\n",
              "      <td>I do not smoke</td>\n",
              "      <td>6.0</td>\n",
              "      <td>None (I do not drink alcohol)</td>\n",
              "      <td>No, meal times vary</td>\n",
              "      <td>Sometimes</td>\n",
              "      <td>1.65</td>\n",
              "      <td>16.528926</td>\n",
              "      <td>Underweight</td>\n",
              "    </tr>\n",
              "    <tr>\n",
              "      <th>2</th>\n",
              "      <td>7/12/2025 21:13:29</td>\n",
              "      <td>25</td>\n",
              "      <td>Female</td>\n",
              "      <td>64.0</td>\n",
              "      <td>163.0</td>\n",
              "      <td>Moderate – Some physical activity 1–3 days a w...</td>\n",
              "      <td>Moderately Healthy (Mixed diet with occasional...</td>\n",
              "      <td>No</td>\n",
              "      <td>No</td>\n",
              "      <td>yes</td>\n",
              "      <td>I do not smoke</td>\n",
              "      <td>5.0</td>\n",
              "      <td>None (I do not drink alcohol)</td>\n",
              "      <td>No, meal times vary</td>\n",
              "      <td>Often</td>\n",
              "      <td>1.63</td>\n",
              "      <td>24.088223</td>\n",
              "      <td>Normal</td>\n",
              "    </tr>\n",
              "    <tr>\n",
              "      <th>3</th>\n",
              "      <td>7/12/2025 21:14:58</td>\n",
              "      <td>26</td>\n",
              "      <td>Female</td>\n",
              "      <td>52.0</td>\n",
              "      <td>157.0</td>\n",
              "      <td>Moderate – Some physical activity 1–3 days a w...</td>\n",
              "      <td>Moderately Healthy (Mixed diet with occasional...</td>\n",
              "      <td>Yes</td>\n",
              "      <td>No</td>\n",
              "      <td>No</td>\n",
              "      <td>I do not smoke</td>\n",
              "      <td>5.0</td>\n",
              "      <td>None (I do not drink alcohol)</td>\n",
              "      <td>No, meal times vary</td>\n",
              "      <td>Sometimes</td>\n",
              "      <td>1.57</td>\n",
              "      <td>21.096191</td>\n",
              "      <td>Normal</td>\n",
              "    </tr>\n",
              "    <tr>\n",
              "      <th>4</th>\n",
              "      <td>7/12/2025 21:25:54</td>\n",
              "      <td>25</td>\n",
              "      <td>Female</td>\n",
              "      <td>48.0</td>\n",
              "      <td>149.0</td>\n",
              "      <td>Moderate – Some physical activity 1–3 days a w...</td>\n",
              "      <td>Healthy (Balanced diet with mix of carbs, prot...</td>\n",
              "      <td>No</td>\n",
              "      <td>No</td>\n",
              "      <td>No</td>\n",
              "      <td>I do not smoke</td>\n",
              "      <td>5.5</td>\n",
              "      <td>None (I do not drink alcohol)</td>\n",
              "      <td>Yes, mostly at the same time</td>\n",
              "      <td>Sometimes</td>\n",
              "      <td>1.49</td>\n",
              "      <td>21.620648</td>\n",
              "      <td>Normal</td>\n",
              "    </tr>\n",
              "  </tbody>\n",
              "</table>\n",
              "</div>\n",
              "    <div class=\"colab-df-buttons\">\n",
              "\n",
              "  <div class=\"colab-df-container\">\n",
              "    <button class=\"colab-df-convert\" onclick=\"convertToInteractive('df-530705ef-8356-4fcd-882a-8f0441f09d45')\"\n",
              "            title=\"Convert this dataframe to an interactive table.\"\n",
              "            style=\"display:none;\">\n",
              "\n",
              "  <svg xmlns=\"http://www.w3.org/2000/svg\" height=\"24px\" viewBox=\"0 -960 960 960\">\n",
              "    <path d=\"M120-120v-720h720v720H120Zm60-500h600v-160H180v160Zm220 220h160v-160H400v160Zm0 220h160v-160H400v160ZM180-400h160v-160H180v160Zm440 0h160v-160H620v160ZM180-180h160v-160H180v160Zm440 0h160v-160H620v160Z\"/>\n",
              "  </svg>\n",
              "    </button>\n",
              "\n",
              "  <style>\n",
              "    .colab-df-container {\n",
              "      display:flex;\n",
              "      gap: 12px;\n",
              "    }\n",
              "\n",
              "    .colab-df-convert {\n",
              "      background-color: #E8F0FE;\n",
              "      border: none;\n",
              "      border-radius: 50%;\n",
              "      cursor: pointer;\n",
              "      display: none;\n",
              "      fill: #1967D2;\n",
              "      height: 32px;\n",
              "      padding: 0 0 0 0;\n",
              "      width: 32px;\n",
              "    }\n",
              "\n",
              "    .colab-df-convert:hover {\n",
              "      background-color: #E2EBFA;\n",
              "      box-shadow: 0px 1px 2px rgba(60, 64, 67, 0.3), 0px 1px 3px 1px rgba(60, 64, 67, 0.15);\n",
              "      fill: #174EA6;\n",
              "    }\n",
              "\n",
              "    .colab-df-buttons div {\n",
              "      margin-bottom: 4px;\n",
              "    }\n",
              "\n",
              "    [theme=dark] .colab-df-convert {\n",
              "      background-color: #3B4455;\n",
              "      fill: #D2E3FC;\n",
              "    }\n",
              "\n",
              "    [theme=dark] .colab-df-convert:hover {\n",
              "      background-color: #434B5C;\n",
              "      box-shadow: 0px 1px 3px 1px rgba(0, 0, 0, 0.15);\n",
              "      filter: drop-shadow(0px 1px 2px rgba(0, 0, 0, 0.3));\n",
              "      fill: #FFFFFF;\n",
              "    }\n",
              "  </style>\n",
              "\n",
              "    <script>\n",
              "      const buttonEl =\n",
              "        document.querySelector('#df-530705ef-8356-4fcd-882a-8f0441f09d45 button.colab-df-convert');\n",
              "      buttonEl.style.display =\n",
              "        google.colab.kernel.accessAllowed ? 'block' : 'none';\n",
              "\n",
              "      async function convertToInteractive(key) {\n",
              "        const element = document.querySelector('#df-530705ef-8356-4fcd-882a-8f0441f09d45');\n",
              "        const dataTable =\n",
              "          await google.colab.kernel.invokeFunction('convertToInteractive',\n",
              "                                                    [key], {});\n",
              "        if (!dataTable) return;\n",
              "\n",
              "        const docLinkHtml = 'Like what you see? Visit the ' +\n",
              "          '<a target=\"_blank\" href=https://colab.research.google.com/notebooks/data_table.ipynb>data table notebook</a>'\n",
              "          + ' to learn more about interactive tables.';\n",
              "        element.innerHTML = '';\n",
              "        dataTable['output_type'] = 'display_data';\n",
              "        await google.colab.output.renderOutput(dataTable, element);\n",
              "        const docLink = document.createElement('div');\n",
              "        docLink.innerHTML = docLinkHtml;\n",
              "        element.appendChild(docLink);\n",
              "      }\n",
              "    </script>\n",
              "  </div>\n",
              "\n",
              "\n",
              "    <div id=\"df-e47b4a16-6bdb-4641-9e5c-ca1ccfb39200\">\n",
              "      <button class=\"colab-df-quickchart\" onclick=\"quickchart('df-e47b4a16-6bdb-4641-9e5c-ca1ccfb39200')\"\n",
              "                title=\"Suggest charts\"\n",
              "                style=\"display:none;\">\n",
              "\n",
              "<svg xmlns=\"http://www.w3.org/2000/svg\" height=\"24px\"viewBox=\"0 0 24 24\"\n",
              "     width=\"24px\">\n",
              "    <g>\n",
              "        <path d=\"M19 3H5c-1.1 0-2 .9-2 2v14c0 1.1.9 2 2 2h14c1.1 0 2-.9 2-2V5c0-1.1-.9-2-2-2zM9 17H7v-7h2v7zm4 0h-2V7h2v10zm4 0h-2v-4h2v4z\"/>\n",
              "    </g>\n",
              "</svg>\n",
              "      </button>\n",
              "\n",
              "<style>\n",
              "  .colab-df-quickchart {\n",
              "      --bg-color: #E8F0FE;\n",
              "      --fill-color: #1967D2;\n",
              "      --hover-bg-color: #E2EBFA;\n",
              "      --hover-fill-color: #174EA6;\n",
              "      --disabled-fill-color: #AAA;\n",
              "      --disabled-bg-color: #DDD;\n",
              "  }\n",
              "\n",
              "  [theme=dark] .colab-df-quickchart {\n",
              "      --bg-color: #3B4455;\n",
              "      --fill-color: #D2E3FC;\n",
              "      --hover-bg-color: #434B5C;\n",
              "      --hover-fill-color: #FFFFFF;\n",
              "      --disabled-bg-color: #3B4455;\n",
              "      --disabled-fill-color: #666;\n",
              "  }\n",
              "\n",
              "  .colab-df-quickchart {\n",
              "    background-color: var(--bg-color);\n",
              "    border: none;\n",
              "    border-radius: 50%;\n",
              "    cursor: pointer;\n",
              "    display: none;\n",
              "    fill: var(--fill-color);\n",
              "    height: 32px;\n",
              "    padding: 0;\n",
              "    width: 32px;\n",
              "  }\n",
              "\n",
              "  .colab-df-quickchart:hover {\n",
              "    background-color: var(--hover-bg-color);\n",
              "    box-shadow: 0 1px 2px rgba(60, 64, 67, 0.3), 0 1px 3px 1px rgba(60, 64, 67, 0.15);\n",
              "    fill: var(--button-hover-fill-color);\n",
              "  }\n",
              "\n",
              "  .colab-df-quickchart-complete:disabled,\n",
              "  .colab-df-quickchart-complete:disabled:hover {\n",
              "    background-color: var(--disabled-bg-color);\n",
              "    fill: var(--disabled-fill-color);\n",
              "    box-shadow: none;\n",
              "  }\n",
              "\n",
              "  .colab-df-spinner {\n",
              "    border: 2px solid var(--fill-color);\n",
              "    border-color: transparent;\n",
              "    border-bottom-color: var(--fill-color);\n",
              "    animation:\n",
              "      spin 1s steps(1) infinite;\n",
              "  }\n",
              "\n",
              "  @keyframes spin {\n",
              "    0% {\n",
              "      border-color: transparent;\n",
              "      border-bottom-color: var(--fill-color);\n",
              "      border-left-color: var(--fill-color);\n",
              "    }\n",
              "    20% {\n",
              "      border-color: transparent;\n",
              "      border-left-color: var(--fill-color);\n",
              "      border-top-color: var(--fill-color);\n",
              "    }\n",
              "    30% {\n",
              "      border-color: transparent;\n",
              "      border-left-color: var(--fill-color);\n",
              "      border-top-color: var(--fill-color);\n",
              "      border-right-color: var(--fill-color);\n",
              "    }\n",
              "    40% {\n",
              "      border-color: transparent;\n",
              "      border-right-color: var(--fill-color);\n",
              "      border-top-color: var(--fill-color);\n",
              "    }\n",
              "    60% {\n",
              "      border-color: transparent;\n",
              "      border-right-color: var(--fill-color);\n",
              "    }\n",
              "    80% {\n",
              "      border-color: transparent;\n",
              "      border-right-color: var(--fill-color);\n",
              "      border-bottom-color: var(--fill-color);\n",
              "    }\n",
              "    90% {\n",
              "      border-color: transparent;\n",
              "      border-bottom-color: var(--fill-color);\n",
              "    }\n",
              "  }\n",
              "</style>\n",
              "\n",
              "      <script>\n",
              "        async function quickchart(key) {\n",
              "          const quickchartButtonEl =\n",
              "            document.querySelector('#' + key + ' button');\n",
              "          quickchartButtonEl.disabled = true;  // To prevent multiple clicks.\n",
              "          quickchartButtonEl.classList.add('colab-df-spinner');\n",
              "          try {\n",
              "            const charts = await google.colab.kernel.invokeFunction(\n",
              "                'suggestCharts', [key], {});\n",
              "          } catch (error) {\n",
              "            console.error('Error during call to suggestCharts:', error);\n",
              "          }\n",
              "          quickchartButtonEl.classList.remove('colab-df-spinner');\n",
              "          quickchartButtonEl.classList.add('colab-df-quickchart-complete');\n",
              "        }\n",
              "        (() => {\n",
              "          let quickchartButtonEl =\n",
              "            document.querySelector('#df-e47b4a16-6bdb-4641-9e5c-ca1ccfb39200 button');\n",
              "          quickchartButtonEl.style.display =\n",
              "            google.colab.kernel.accessAllowed ? 'block' : 'none';\n",
              "        })();\n",
              "      </script>\n",
              "    </div>\n",
              "\n",
              "    </div>\n",
              "  </div>\n"
            ],
            "application/vnd.google.colaboratory.intrinsic+json": {
              "type": "dataframe",
              "variable_name": "df",
              "summary": "{\n  \"name\": \"df\",\n  \"rows\": 195,\n  \"fields\": [\n    {\n      \"column\": \"Column 1\",\n      \"properties\": {\n        \"dtype\": \"object\",\n        \"num_unique_values\": 195,\n        \"samples\": [\n          \"8/1/2025 15:27:10\",\n          \"7/12/2025 22:40:14\",\n          \"8/1/2025 19:28:56\"\n        ],\n        \"semantic_type\": \"\",\n        \"description\": \"\"\n      }\n    },\n    {\n      \"column\": \"Age\",\n      \"properties\": {\n        \"dtype\": \"number\",\n        \"std\": 1,\n        \"min\": 22,\n        \"max\": 27,\n        \"num_unique_values\": 6,\n        \"samples\": [\n          24,\n          25,\n          27\n        ],\n        \"semantic_type\": \"\",\n        \"description\": \"\"\n      }\n    },\n    {\n      \"column\": \"Gender\",\n      \"properties\": {\n        \"dtype\": \"category\",\n        \"num_unique_values\": 3,\n        \"samples\": [\n          \"Female\",\n          \"Male\",\n          \"male\"\n        ],\n        \"semantic_type\": \"\",\n        \"description\": \"\"\n      }\n    },\n    {\n      \"column\": \"Weight(kg)\",\n      \"properties\": {\n        \"dtype\": \"number\",\n        \"std\": 10.202627225365143,\n        \"min\": 24.0,\n        \"max\": 88.0,\n        \"num_unique_values\": 43,\n        \"samples\": [\n          77.0,\n          69.95,\n          58.8\n        ],\n        \"semantic_type\": \"\",\n        \"description\": \"\"\n      }\n    },\n    {\n      \"column\": \"Height(cm)\",\n      \"properties\": {\n        \"dtype\": \"number\",\n        \"std\": 9.482576729598625,\n        \"min\": 148.0,\n        \"max\": 186.0,\n        \"num_unique_values\": 40,\n        \"samples\": [\n          152.4,\n          155.0,\n          164.0\n        ],\n        \"semantic_type\": \"\",\n        \"description\": \"\"\n      }\n    },\n    {\n      \"column\": \"Physical Activity Level\",\n      \"properties\": {\n        \"dtype\": \"category\",\n        \"num_unique_values\": 3,\n        \"samples\": [\n          \"Low (Little to no regular physical activity)\",\n          \"Moderate \\u2013 Some physical activity 1\\u20133 days a week (e.g., walking, light exercise)\",\n          \"High \\u2013 Regular physical activity 4 or more days a week (e.g., gym, sports, running)\"\n        ],\n        \"semantic_type\": \"\",\n        \"description\": \"\"\n      }\n    },\n    {\n      \"column\": \"How would you describe your typical diet?\",\n      \"properties\": {\n        \"dtype\": \"category\",\n        \"num_unique_values\": 3,\n        \"samples\": [\n          \"Unhealthy (Mostly high-sugar, high-fat, or processed foods with few fruits/vegetables)\",\n          \"Moderately Healthy (Mixed diet with occasional healthy meals and some fast food or processed items)\",\n          \"Healthy (Balanced diet with mix of carbs, proteins, vegetables, limited sugar and processed foods)\"\n        ],\n        \"semantic_type\": \"\",\n        \"description\": \"\"\n      }\n    },\n    {\n      \"column\": \"Do you have a family history of diabetes?\",\n      \"properties\": {\n        \"dtype\": \"category\",\n        \"num_unique_values\": 2,\n        \"samples\": [\n          \"Yes\",\n          \"No\"\n        ],\n        \"semantic_type\": \"\",\n        \"description\": \"\"\n      }\n    },\n    {\n      \"column\": \"Have you been diagnosed with hypertension(high blood pressure)?\",\n      \"properties\": {\n        \"dtype\": \"category\",\n        \"num_unique_values\": 3,\n        \"samples\": [\n          \"No\",\n          \"yes\"\n        ],\n        \"semantic_type\": \"\",\n        \"description\": \"\"\n      }\n    },\n    {\n      \"column\": \"Have you been diagnosed with heart disease?\",\n      \"properties\": {\n        \"dtype\": \"category\",\n        \"num_unique_values\": 3,\n        \"samples\": [\n          \"No\",\n          \"yes\"\n        ],\n        \"semantic_type\": \"\",\n        \"description\": \"\"\n      }\n    },\n    {\n      \"column\": \"Smoking Habits?\",\n      \"properties\": {\n        \"dtype\": \"category\",\n        \"num_unique_values\": 5,\n        \"samples\": [\n          \"Used to smoke but quit\",\n          \"3-6 times per week\"\n        ],\n        \"semantic_type\": \"\",\n        \"description\": \"\"\n      }\n    },\n    {\n      \"column\": \"Average hours of sleep per night\",\n      \"properties\": {\n        \"dtype\": \"number\",\n        \"std\": 1.1792606007015183,\n        \"min\": 3.0,\n        \"max\": 9.0,\n        \"num_unique_values\": 9,\n        \"samples\": [\n          4.5,\n          6.0\n        ],\n        \"semantic_type\": \"\",\n        \"description\": \"\"\n      }\n    },\n    {\n      \"column\": \"Alcohol Consumption\",\n      \"properties\": {\n        \"dtype\": \"category\",\n        \"num_unique_values\": 3,\n        \"samples\": [\n          \"None (I do not drink alcohol)\",\n          \"Occasional (e.g., social drinking, 1\\u20132 times per month)\"\n        ],\n        \"semantic_type\": \"\",\n        \"description\": \"\"\n      }\n    },\n    {\n      \"column\": \"Do you usually eat your meals at regular times each day?\",\n      \"properties\": {\n        \"dtype\": \"category\",\n        \"num_unique_values\": 3,\n        \"samples\": [\n          \"I often skip meals\",\n          \"No, meal times vary\"\n        ],\n        \"semantic_type\": \"\",\n        \"description\": \"\"\n      }\n    },\n    {\n      \"column\": \"How often do you feel stressed or emotionally overwhelmed in a typical week?\",\n      \"properties\": {\n        \"dtype\": \"category\",\n        \"num_unique_values\": 4,\n        \"samples\": [\n          \"Often\",\n          \"Rarely\"\n        ],\n        \"semantic_type\": \"\",\n        \"description\": \"\"\n      }\n    },\n    {\n      \"column\": \"Height(m)\",\n      \"properties\": {\n        \"dtype\": \"number\",\n        \"std\": 0.09482576729598625,\n        \"min\": 1.48,\n        \"max\": 1.86,\n        \"num_unique_values\": 40,\n        \"samples\": [\n          1.524,\n          1.55\n        ],\n        \"semantic_type\": \"\",\n        \"description\": \"\"\n      }\n    },\n    {\n      \"column\": \"BMI\",\n      \"properties\": {\n        \"dtype\": \"number\",\n        \"std\": 2.610845584019241,\n        \"min\": 9.613843935266782,\n        \"max\": 29.687499999999993,\n        \"num_unique_values\": 159,\n        \"samples\": [\n          21.484374999999996,\n          18.209876543209877\n        ],\n        \"semantic_type\": \"\",\n        \"description\": \"\"\n      }\n    },\n    {\n      \"column\": \"BMICategory\",\n      \"properties\": {\n        \"dtype\": \"category\",\n        \"num_unique_values\": 3,\n        \"samples\": [\n          \"Normal\",\n          \"Underweight\"\n        ],\n        \"semantic_type\": \"\",\n        \"description\": \"\"\n      }\n    }\n  ]\n}"
            }
          },
          "metadata": {},
          "execution_count": 21
        }
      ]
    },
    {
      "cell_type": "markdown",
      "source": [
        "Removing duplicated rows"
      ],
      "metadata": {
        "id": "kvHfkx6R2PQq"
      }
    },
    {
      "cell_type": "code",
      "source": [
        "before = df.shape[0]\n",
        "df = df.drop_duplicates()\n",
        "after = df.shape[0]\n",
        "print(f\"Removed {before - after} duplicate rows.\")"
      ],
      "metadata": {
        "colab": {
          "base_uri": "https://localhost:8080/"
        },
        "id": "nO1gMQw_1_8B",
        "outputId": "a44fd4df-2ecf-4aa5-b6d8-4c23ffcc1d67"
      },
      "execution_count": null,
      "outputs": [
        {
          "output_type": "stream",
          "name": "stdout",
          "text": [
            "Removed 0 duplicate rows.\n"
          ]
        }
      ]
    },
    {
      "cell_type": "markdown",
      "source": [
        "Creating Age Groups"
      ],
      "metadata": {
        "id": "37l6vgcL28td"
      }
    },
    {
      "cell_type": "code",
      "source": [
        "df[\"AgeGroup\"] = pd.cut(df[\"Age\"], bins=[20, 30, 40, 50, 60, 100], labels=[\"20s\", \"30s\", \"40s\", \"50s\", \"60+\"])"
      ],
      "metadata": {
        "id": "_x6WDEYj2U2_"
      },
      "execution_count": null,
      "outputs": []
    },
    {
      "cell_type": "markdown",
      "source": [
        "Feature Selection / Transformation"
      ],
      "metadata": {
        "id": "OsGe1nf_3fwZ"
      }
    },
    {
      "cell_type": "markdown",
      "source": [
        "Correlation Metrix"
      ],
      "metadata": {
        "id": "z5fmKhj03CAU"
      }
    },
    {
      "cell_type": "code",
      "source": [
        "numeric_df = df.select_dtypes(include=['float64', 'int64'])"
      ],
      "metadata": {
        "id": "8lpmVNre2ZIB"
      },
      "execution_count": null,
      "outputs": []
    },
    {
      "cell_type": "code",
      "source": [
        "import seaborn as sns\n",
        "import matplotlib.pyplot as plt\n",
        "\n",
        "plt.figure(figsize=(7, 4))\n",
        "sns.heatmap(numeric_df.corr(), annot=True, cmap='coolwarm', fmt=\".2f\")\n",
        "plt.title(\"Correlation Matrix of Numeric Features\")\n",
        "plt.tight_layout()\n",
        "plt.show()"
      ],
      "metadata": {
        "colab": {
          "base_uri": "https://localhost:8080/",
          "height": 407
        },
        "id": "b21zQAZU3HxH",
        "outputId": "b634b74d-42e2-4044-b286-6cfc297c1780"
      },
      "execution_count": null,
      "outputs": [
        {
          "output_type": "display_data",
          "data": {
            "text/plain": [
              "<Figure size 700x400 with 2 Axes>"
            ],
            "image/png": "[encoded data removed]"
          },
          "metadata": {}
        }
      ]
    },
    {
      "cell_type": "markdown",
      "source": [
        "Encoding and Normalization"
      ],
      "metadata": {
        "id": "gcHklVpB3Nyx"
      }
    },
    {
      "cell_type": "markdown",
      "source": [
        "Label Encoding"
      ],
      "metadata": {
        "id": "Om9BsRno3UMY"
      }
    },
    {
      "cell_type": "code",
      "source": [
        "from sklearn.preprocessing import LabelEncoder\n",
        "\n",
        "le = LabelEncoder()\n",
        "df[\"AgeGroup\"] = le.fit_transform(df[\"AgeGroup\"].astype(str))\n"
      ],
      "metadata": {
        "id": "NupY2wKr3KHc"
      },
      "execution_count": null,
      "outputs": []
    },
    {
      "cell_type": "markdown",
      "source": [
        "One-hot encode and other catergorical features"
      ],
      "metadata": {
        "id": "D2_PlZZb3lII"
      }
    },
    {
      "cell_type": "code",
      "source": [
        "\n",
        "categorical_cols = [\n",
        "    \"Gender\",\n",
        "    \"Physical Activity Level\",\n",
        "    \"How would you describe your typical diet?\",\n",
        "    \"Do you have a family history of diabetes?\",\n",
        "    \"Have you been diagnosed with hypertension(high blood pressure)?\",\n",
        "    \"Have you been diagnosed with heart disease?\",\n",
        "    \"Smoking Habits?\",\n",
        "    \"Alcohol Consumption\",\n",
        "    \"Do you usually eat your meals at regular times each day?\",\n",
        "    \"How often do you feel stressed or emotionally overwhelmed in a typical week?\",\n",
        "]\n",
        "\n",
        "df = pd.get_dummies(df, columns=categorical_cols, drop_first=True)"
      ],
      "metadata": {
        "id": "kerBsnle3YPr"
      },
      "execution_count": null,
      "outputs": []
    },
    {
      "cell_type": "code",
      "source": [
        "target = df[\"Do you have a family history of diabetes?_Yes\"]\n",
        "features = df.drop(columns=[\"Do you have a family history of diabetes?_Yes\"])\n"
      ],
      "metadata": {
        "id": "hk7avdvD3nxm"
      },
      "execution_count": null,
      "outputs": []
    },
    {
      "cell_type": "markdown",
      "source": [
        "StandardScaler Encoding - Normalize Numerical Features"
      ],
      "metadata": {
        "id": "sqypdyDp3vWY"
      }
    },
    {
      "cell_type": "code",
      "source": [
        "from sklearn.preprocessing import StandardScaler\n",
        "\n",
        "scaler = StandardScaler()\n",
        "scaled_cols = [\"Age\", \"BMI\", \"Average hours of sleep per night\", \"Weight(kg)\", \"Height(cm)\"]\n",
        "\n",
        "df[scaled_cols] = scaler.fit_transform(df[scaled_cols])"
      ],
      "metadata": {
        "id": "NvGQaBUw3rRy"
      },
      "execution_count": null,
      "outputs": []
    },
    {
      "cell_type": "markdown",
      "source": [
        "Preprocessed Dataset"
      ],
      "metadata": {
        "id": "fiQ3SmGR4YfE"
      }
    },
    {
      "cell_type": "code",
      "source": [
        "df.to_csv('preprocessed_data.csv', index=False)"
      ],
      "metadata": {
        "id": "O3LuMFdf4d_i"
      },
      "execution_count": null,
      "outputs": []
    },
    {
      "cell_type": "code",
      "source": [
        "from google.colab import files\n",
        "files.download('preprocessed_data.csv')"
      ],
      "metadata": {
        "colab": {
          "base_uri": "https://localhost:8080/",
          "height": 17
        },
        "id": "YRXpdnV-4gay",
        "outputId": "525c17d2-006a-4e4e-8afb-b3cc71d5d97d"
      },
      "execution_count": null,
      "outputs": [
        {
          "output_type": "display_data",
          "data": {
            "text/plain": [
              "<IPython.core.display.Javascript object>"
            ],
            "application/javascript": [
              "\n",
              "    async function download(id, filename, size) {\n",
              "      if (!google.colab.kernel.accessAllowed) {\n",
              "        return;\n",
              "      }\n",
              "      const div = document.createElement('div');\n",
              "      const label = document.createElement('label');\n",
              "      label.textContent = `Downloading \"${filename}\": `;\n",
              "      div.appendChild(label);\n",
              "      const progress = document.createElement('progress');\n",
              "      progress.max = size;\n",
              "      div.appendChild(progress);\n",
              "      document.body.appendChild(div);\n",
              "\n",
              "      const buffers = [];\n",
              "      let downloaded = 0;\n",
              "\n",
              "      const channel = await google.colab.kernel.comms.open(id);\n",
              "      // Send a message to notify the kernel that we're ready.\n",
              "      channel.send({})\n",
              "\n",
              "      for await (const message of channel.messages) {\n",
              "        // Send a message to notify the kernel that we're ready.\n",
              "        channel.send({})\n",
              "        if (message.buffers) {\n",
              "          for (const buffer of message.buffers) {\n",
              "            buffers.push(buffer);\n",
              "            downloaded += buffer.byteLength;\n",
              "            progress.value = downloaded;\n",
              "          }\n",
              "        }\n",
              "      }\n",
              "      const blob = new Blob(buffers, {type: 'application/binary'});\n",
              "      const a = document.createElement('a');\n",
              "      a.href = window.URL.createObjectURL(blob);\n",
              "      a.download = filename;\n",
              "      div.appendChild(a);\n",
              "      a.click();\n",
              "      div.remove();\n",
              "    }\n",
              "  "
            ]
          },
          "metadata": {}
        },
        {
          "output_type": "display_data",
          "data": {
            "text/plain": [
              "<IPython.core.display.Javascript object>"
            ],
            "application/javascript": [
              "download(\"download_27f8f33f-d300-4140-aa7c-04a2b5484b18\", \"preprocessed_data.csv\", 51651)"
            ]
          },
          "metadata": {}
        }
      ]
    },
    {
      "cell_type": "markdown",
      "source": [
        "Train and Evaluate the Model"
      ],
      "metadata": {
        "id": "5ZO3jB0Q4AHN"
      }
    },
    {
      "cell_type": "markdown",
      "source": [
        "Import Libraries"
      ],
      "metadata": {
        "id": "PB6EDLs34DJw"
      }
    },
    {
      "cell_type": "code",
      "source": [
        "import numpy as np\n",
        "from sklearn.model_selection import train_test_split\n",
        "from sklearn.preprocessing import StandardScaler\n",
        "from tensorflow.keras.models import Sequential\n",
        "from tensorflow.keras.layers import Dense\n",
        "from tensorflow.keras.optimizers import Adam\n",
        "from tensorflow.keras.losses import BinaryCrossentropy\n",
        "from tensorflow.keras.metrics import Accuracy"
      ],
      "metadata": {
        "id": "4YGjl0S-323n"
      },
      "execution_count": null,
      "outputs": []
    },
    {
      "cell_type": "markdown",
      "source": [
        "Load Data and Set Features/Target"
      ],
      "metadata": {
        "id": "8DzYYWoz4lZ8"
      }
    },
    {
      "cell_type": "code",
      "source": [
        "df = pd.read_csv(\"preprocessed_data.csv\")\n",
        "\n",
        "# Drop non-feature columns\n",
        "df = df.drop(columns=[\"Column 1\", \"BMICategory\", \"Gender_male\",\n",
        "                      \"Have you been diagnosed with hypertension(high blood pressure)?_yes\",\n",
        "                      \"Have you been diagnosed with heart disease?_yes\"])\n",
        "\n",
        "# Define target column (label)\n",
        "target = \"Do you have a family history of diabetes?_Yes\"\n",
        "\n",
        "# Features and labels\n",
        "X = df.drop(columns=[target])\n",
        "y = df[target].astype(int)\n",
        "\n",
        "# Normalize numerical features\n",
        "scaler = StandardScaler()\n",
        "X_scaled = scaler.fit_transform(X)"
      ],
      "metadata": {
        "id": "p8Orl6cz4lD1"
      },
      "execution_count": null,
      "outputs": []
    },
    {
      "cell_type": "code",
      "source": [
        "df['Diabetes_Risk'] = (\n",
        "    # Rule 1: Diet Unhealthy AND Activity Low\n",
        "    (df['How would you describe your typical diet?_Unhealthy (Mostly high-sugar, high-fat, or processed foods with few fruits/vegetables)'] == 1) &\n",
        "    (df['Physical Activity Level_Low (Little to no regular physical activity)'] == 1) |\n",
        "\n",
        "    # Rule 2: Poor Sleep (<5 hours) AND High Stress\n",
        "    (df['AgeGroup'] < 5.0) &\n",
        "    (df['How often do you feel stressed or emotionally overwhelmed in a typical week?_Often'] == 1) |\n",
        "\n",
        "    # Rule 3: Smoking 3–6 times per week\n",
        "    (df['Smoking Habits?_3-6 times per week'] == 1) |\n",
        "\n",
        "    # Rule 4: Irregular meals AND Unhealthy diet\n",
        "    (df['Do you usually eat your meals at regular times each day?_No, meal times vary'] == 1) &\n",
        "    (df['How would you describe your typical diet?_Unhealthy (Mostly high-sugar, high-fat, or processed foods with few fruits/vegetables)'] == 1) |\n",
        "\n",
        "    # Rule 5: Family history of diabetes\n",
        "    (df['Do you have a family history of diabetes?_Yes'] == 1) |\n",
        "\n",
        "    # Rule 6: Heart disease or Hypertension\n",
        "    (df['Have you been diagnosed with heart disease?_Yes'] == 1) |\n",
        "    (df['Have you been diagnosed with hypertension(high blood pressure)?_Yes'] == 1) |\n",
        "\n",
        "    # Rule 8: Alcohol Occasional AND Smoking Occasional\n",
        "    (df['Alcohol Consumption_Occasional (e.g., social drinking, 1–2 times per month)'] == 1) &\n",
        "    (df['Smoking Habits?_Occasionally (Less than once a week)'] == 1)\n",
        ").astype(int)\n"
      ],
      "metadata": {
        "id": "L0O9aqce6Xyu"
      },
      "execution_count": null,
      "outputs": []
    },
    {
      "cell_type": "code",
      "source": [
        "print(df['Diabetes_Risk'].value_counts())"
      ],
      "metadata": {
        "colab": {
          "base_uri": "https://localhost:8080/"
        },
        "id": "DBB3yji76cDt",
        "outputId": "942319c6-ceb5-497a-8297-5a81542cbbf8"
      },
      "execution_count": null,
      "outputs": [
        {
          "output_type": "stream",
          "name": "stdout",
          "text": [
            "Diabetes_Risk\n",
            "1    144\n",
            "0     51\n",
            "Name: count, dtype: int64\n"
          ]
        }
      ]
    },
    {
      "cell_type": "markdown",
      "source": [
        "******** Resampling SMOTE (Synthetic Minority Oversampling Technique) *******"
      ],
      "metadata": {
        "id": "qA_G8EBmGBwv"
      }
    },
    {
      "cell_type": "markdown",
      "source": [
        "******** Split the dataset and Apply SMOTE only on training data"
      ],
      "metadata": {
        "id": "2eSZgAxcGOQk"
      }
    },
    {
      "cell_type": "code",
      "source": [
        "from imblearn.over_sampling import SMOTE\n",
        "from sklearn.model_selection import train_test_split\n",
        "\n",
        "# Split your dataset to avoid data leakage\n",
        "X_train, X_test, y_train, y_test = train_test_split(\n",
        "    X, y, test_size=0.2, random_state=42, stratify=y\n",
        ")\n",
        "\n",
        "# Apply SMOTE\n",
        "smote = SMOTE(random_state=42)\n",
        "X_train_res, y_train_res = smote.fit_resample(X_train, y_train)\n",
        "\n",
        "print(\"Before SMOTE:\", y_train.value_counts())\n",
        "print(\"After SMOTE:\", y_train_res.value_counts())\n"
      ],
      "metadata": {
        "colab": {
          "base_uri": "https://localhost:8080/"
        },
        "id": "Ve4hjBndF0ov",
        "outputId": "e1aa0888-034f-41b8-8961-c1ff2921fb1d"
      },
      "execution_count": null,
      "outputs": [
        {
          "output_type": "stream",
          "name": "stdout",
          "text": [
            "Before SMOTE: Do you have a family history of diabetes?_Yes\n",
            "0    85\n",
            "1    71\n",
            "Name: count, dtype: int64\n",
            "After SMOTE: Do you have a family history of diabetes?_Yes\n",
            "0    85\n",
            "1    85\n",
            "Name: count, dtype: int64\n"
          ]
        }
      ]
    },
    {
      "cell_type": "code",
      "source": [
        "df_shuffled = df.sample(frac=1, random_state=42).reset_index(drop=True)"
      ],
      "metadata": {
        "id": "fhP15CcJ6hVK"
      },
      "execution_count": null,
      "outputs": []
    },
    {
      "cell_type": "code",
      "source": [
        "# Set target\n",
        "target = 'Diabetes_Risk'\n",
        "\n",
        "# Set features (drop the label column itself)\n",
        "X = df.drop(columns=[target])\n",
        "\n",
        "# Keep only numeric/binary columns\n",
        "X = X.select_dtypes(include=['int64', 'float64', 'bool'])\n",
        "\n",
        "# Convert all bools to int\n",
        "X = X.astype(int)\n",
        "\n",
        "# Target\n",
        "y = df[target]"
      ],
      "metadata": {
        "id": "Mzb1UbvG6kD9"
      },
      "execution_count": null,
      "outputs": []
    },
    {
      "cell_type": "markdown",
      "source": [
        "Split the data"
      ],
      "metadata": {
        "id": "puu0PyJ05pvL"
      }
    },
    {
      "cell_type": "code",
      "source": [
        "#X_train, X_test, y_train, y_test = train_test_split(X_scaled, y, test_size=0.2, random_state=42)"
      ],
      "metadata": {
        "id": "ygGEvnr94IyQ"
      },
      "execution_count": null,
      "outputs": []
    },
    {
      "cell_type": "markdown",
      "source": [
        "******** Hyperparameter tuning ********"
      ],
      "metadata": {
        "id": "Af8U_kcgHIpV"
      }
    },
    {
      "cell_type": "markdown",
      "source": [
        "******** Grid Search with Keras"
      ],
      "metadata": {
        "id": "mjDsFEOMHPO0"
      }
    },
    {
      "cell_type": "code",
      "source": [
        "#pip install --upgrade scikit-learn"
      ],
      "metadata": {
        "colab": {
          "base_uri": "https://localhost:8080/"
        },
        "id": "vsB9GBaxHYEF",
        "outputId": "704bec37-ce31-48bf-df2e-72c867b0e1b6"
      },
      "execution_count": null,
      "outputs": [
        {
          "output_type": "stream",
          "name": "stdout",
          "text": [
            "Requirement already satisfied: scikit-learn in /usr/local/lib/python3.12/dist-packages (1.7.1)\n",
            "Requirement already satisfied: numpy>=1.22.0 in /usr/local/lib/python3.12/dist-packages (from scikit-learn) (2.0.2)\n",
            "Requirement already satisfied: scipy>=1.8.0 in /usr/local/lib/python3.12/dist-packages (from scikit-learn) (1.16.1)\n",
            "Requirement already satisfied: joblib>=1.2.0 in /usr/local/lib/python3.12/dist-packages (from scikit-learn) (1.5.1)\n",
            "Requirement already satisfied: threadpoolctl>=3.1.0 in /usr/local/lib/python3.12/dist-packages (from scikit-learn) (3.6.0)\n"
          ]
        }
      ]
    },
    {
      "cell_type": "code",
      "source": [
        "#!pip install scikeras\n",
        "#import scikeras"
      ],
      "metadata": {
        "colab": {
          "base_uri": "https://localhost:8080/"
        },
        "collapsed": true,
        "id": "Pco9GfwTH5Dh",
        "outputId": "d45588a0-b531-4ff5-e2cb-c551e410dc70"
      },
      "execution_count": null,
      "outputs": [
        {
          "output_type": "stream",
          "name": "stdout",
          "text": [
            "Collecting scikeras\n",
            "  Downloading scikeras-0.13.0-py3-none-any.whl.metadata (3.1 kB)\n",
            "Requirement already satisfied: keras>=3.2.0 in /usr/local/lib/python3.12/dist-packages (from scikeras) (3.10.0)\n",
            "Requirement already satisfied: scikit-learn>=1.4.2 in /usr/local/lib/python3.12/dist-packages (from scikeras) (1.7.1)\n",
            "Requirement already satisfied: absl-py in /usr/local/lib/python3.12/dist-packages (from keras>=3.2.0->scikeras) (1.4.0)\n",
            "Requirement already satisfied: numpy in /usr/local/lib/python3.12/dist-packages (from keras>=3.2.0->scikeras) (2.0.2)\n",
            "Requirement already satisfied: rich in /usr/local/lib/python3.12/dist-packages (from keras>=3.2.0->scikeras) (13.9.4)\n",
            "Requirement already satisfied: namex in /usr/local/lib/python3.12/dist-packages (from keras>=3.2.0->scikeras) (0.1.0)\n",
            "Requirement already satisfied: h5py in /usr/local/lib/python3.12/dist-packages (from keras>=3.2.0->scikeras) (3.14.0)\n",
            "Requirement already satisfied: optree in /usr/local/lib/python3.12/dist-packages (from keras>=3.2.0->scikeras) (0.17.0)\n",
            "Requirement already satisfied: ml-dtypes in /usr/local/lib/python3.12/dist-packages (from keras>=3.2.0->scikeras) (0.5.3)\n",
            "Requirement already satisfied: packaging in /usr/local/lib/python3.12/dist-packages (from keras>=3.2.0->scikeras) (25.0)\n",
            "Requirement already satisfied: scipy>=1.8.0 in /usr/local/lib/python3.12/dist-packages (from scikit-learn>=1.4.2->scikeras) (1.16.1)\n",
            "Requirement already satisfied: joblib>=1.2.0 in /usr/local/lib/python3.12/dist-packages (from scikit-learn>=1.4.2->scikeras) (1.5.1)\n",
            "Requirement already satisfied: threadpoolctl>=3.1.0 in /usr/local/lib/python3.12/dist-packages (from scikit-learn>=1.4.2->scikeras) (3.6.0)\n",
            "Requirement already satisfied: typing-extensions>=4.6.0 in /usr/local/lib/python3.12/dist-packages (from optree->keras>=3.2.0->scikeras) (4.15.0)\n",
            "Requirement already satisfied: markdown-it-py>=2.2.0 in /usr/local/lib/python3.12/dist-packages (from rich->keras>=3.2.0->scikeras) (4.0.0)\n",
            "Requirement already satisfied: pygments<3.0.0,>=2.13.0 in /usr/local/lib/python3.12/dist-packages (from rich->keras>=3.2.0->scikeras) (2.19.2)\n",
            "Requirement already satisfied: mdurl~=0.1 in /usr/local/lib/python3.12/dist-packages (from markdown-it-py>=2.2.0->rich->keras>=3.2.0->scikeras) (0.1.2)\n",
            "Downloading scikeras-0.13.0-py3-none-any.whl (26 kB)\n",
            "Installing collected packages: scikeras\n",
            "Successfully installed scikeras-0.13.0\n"
          ]
        }
      ]
    },
    {
      "cell_type": "code",
      "source": [
        "from tensorflow.keras.models import Sequential\n",
        "from tensorflow.keras.layers import Dense\n",
        "from tensorflow.keras.optimizers import SGD, Adam, RMSprop\n",
        "from scikeras.wrappers import KerasClassifier\n",
        "from sklearn.model_selection import GridSearchCV\n",
        "import numpy as np\n",
        "\n",
        "# Example data\n",
        "X = np.random.rand(200, 20)  # 200 samples, 20 features\n",
        "y = np.random.randint(0, 2, 200)  # Binary classification\n",
        "\n",
        "# Model creation function\n",
        "def create_model(optimizer='adam', learning_rate=0.001, num_layers=1, neurons=32, activation='relu', loss='binary_crossentropy'):\n",
        "    model = Sequential()\n",
        "    model.add(Dense(neurons, input_dim=X.shape[1], activation=activation))\n",
        "\n",
        "    for _ in range(num_layers - 1):\n",
        "        model.add(Dense(neurons, activation=activation))\n",
        "\n",
        "    model.add(Dense(1, activation='sigmoid' if loss == 'binary_crossentropy' else 'softmax'))\n",
        "\n",
        "    # Select optimizer dynamically\n",
        "    if optimizer == 'adam':\n",
        "        opt = Adam(learning_rate=learning_rate)\n",
        "    elif optimizer == 'sgd':\n",
        "        opt = SGD(learning_rate=learning_rate)\n",
        "    elif optimizer == 'rmsprop':\n",
        "        opt = RMSprop(learning_rate=learning_rate)\n",
        "\n",
        "    model.compile(optimizer=optimizer, loss=loss, metrics=['accuracy'])\n",
        "    return model\n",
        "\n",
        "# Wrap with scikeras\n",
        "model = KerasClassifier(model=create_model, verbose=0)\n",
        "\n",
        "# Parameter grid\n",
        "param_grid = {\n",
        "    'epochs': [30, 40, 60, 100],\n",
        "    'batch_size': [8, 16, 32],\n",
        "    'model__optimizer': ['SGD', 'Adam', 'RMSprop'],\n",
        "    'model__learning_rate': [0.001, 0.01, 0.1],\n",
        "    'model__num_layers': [1, 2, 3],\n",
        "    'model__neurons': [16, 32, 64],\n",
        "    'model__activation': ['relu', 'sigmoid'],\n",
        "    'model__loss': ['binary_crossentropy']\n",
        "}\n",
        "\n",
        "# Grid search\n",
        "grid = GridSearchCV(estimator=model, param_grid=param_grid, n_jobs=-1, cv=3)\n",
        "grid_result = grid.fit(X, y)\n",
        "\n",
        "# Results\n",
        "print(\"Best Score: {:.4f} using {}\".format(grid_result.best_score_, grid_result.best_params_))\n"
      ],
      "metadata": {
        "colab": {
          "base_uri": "https://localhost:8080/"
        },
        "id": "XCPA3YqDILhP",
        "outputId": "c764f27c-3789-4bdb-b677-138edbc1bf0a"
      },
      "execution_count": null,
      "outputs": [
        {
          "output_type": "stream",
          "name": "stderr",
          "text": [
            "/usr/local/lib/python3.12/dist-packages/keras/src/layers/core/dense.py:93: UserWarning: Do not pass an `input_shape`/`input_dim` argument to a layer. When using Sequential models, prefer using an `Input(shape)` object as the first layer in the model instead.\n",
            "  super().__init__(activity_regularizer=activity_regularizer, **kwargs)\n"
          ]
        },
        {
          "output_type": "stream",
          "name": "stdout",
          "text": [
            "Best Score: 0.5698 using {'batch_size': 16, 'epochs': 40, 'model__activation': 'relu', 'model__learning_rate': 0.01, 'model__loss': 'binary_crossentropy', 'model__neurons': 16, 'model__num_layers': 1, 'model__optimizer': 'SGD'}\n"
          ]
        }
      ]
    },
    {
      "cell_type": "markdown",
      "source": [
        "Build the Neural Network Architecture"
      ],
      "metadata": {
        "id": "dpeBVg8n5xNp"
      }
    },
    {
      "cell_type": "code",
      "source": [
        "from tensorflow.keras.models import Sequential\n",
        "from tensorflow.keras.layers import Dense\n",
        "from tensorflow.keras.optimizers import SGD\n",
        "\n",
        "# Define model\n",
        "model = Sequential([\n",
        "    Dense(16, input_shape=(X_train.shape[1],), activation='relu'),  # 1 hidden layer with 16 neurons\n",
        "    Dense(1, activation='sigmoid')  # Output layer for binary classification\n",
        "])\n",
        "\n",
        "# Compile\n",
        "model.compile(\n",
        "    optimizer=SGD(learning_rate=0.01),\n",
        "    loss='binary_crossentropy',\n",
        "    metrics=['accuracy']\n",
        ")\n",
        "\n",
        "# Train\n",
        "history = model.fit(\n",
        "    X_train, y_train,\n",
        "    epochs=40,\n",
        "    batch_size=16,\n",
        "    validation_data=(X_test, y_test),\n",
        "    verbose=1\n",
        ")\n"
      ],
      "metadata": {
        "colab": {
          "base_uri": "https://localhost:8080/"
        },
        "id": "98-ejAFo3KIc",
        "outputId": "49f7f219-c925-42cc-9bf4-95fa327c58ac"
      },
      "execution_count": null,
      "outputs": [
        {
          "output_type": "stream",
          "name": "stdout",
          "text": [
            "Epoch 1/40\n"
          ]
        },
        {
          "output_type": "stream",
          "name": "stderr",
          "text": [
            "/usr/local/lib/python3.12/dist-packages/keras/src/layers/core/dense.py:93: UserWarning: Do not pass an `input_shape`/`input_dim` argument to a layer. When using Sequential models, prefer using an `Input(shape)` object as the first layer in the model instead.\n",
            "  super().__init__(activity_regularizer=activity_regularizer, **kwargs)\n"
          ]
        },
        {
          "output_type": "stream",
          "name": "stdout",
          "text": [
            "\u001b[1m10/10\u001b[0m \u001b[32m━━━━━━━━━━━━━━━━━━━━\u001b[0m\u001b[37m\u001b[0m \u001b[1m1s\u001b[0m 34ms/step - accuracy: 0.4547 - loss: 0.7933 - val_accuracy: 0.4872 - val_loss: 0.7218\n",
            "Epoch 2/40\n",
            "\u001b[1m10/10\u001b[0m \u001b[32m━━━━━━━━━━━━━━━━━━━━\u001b[0m\u001b[37m\u001b[0m \u001b[1m0s\u001b[0m 14ms/step - accuracy: 0.4588 - loss: 0.7821 - val_accuracy: 0.4872 - val_loss: 0.7153\n",
            "Epoch 3/40\n",
            "\u001b[1m10/10\u001b[0m \u001b[32m━━━━━━━━━━━━━━━━━━━━\u001b[0m\u001b[37m\u001b[0m \u001b[1m0s\u001b[0m 10ms/step - accuracy: 0.4413 - loss: 0.7581 - val_accuracy: 0.5128 - val_loss: 0.7105\n",
            "Epoch 4/40\n",
            "\u001b[1m10/10\u001b[0m \u001b[32m━━━━━━━━━━━━━━━━━━━━\u001b[0m\u001b[37m\u001b[0m \u001b[1m0s\u001b[0m 14ms/step - accuracy: 0.4575 - loss: 0.7627 - val_accuracy: 0.4872 - val_loss: 0.7072\n",
            "Epoch 5/40\n",
            "\u001b[1m10/10\u001b[0m \u001b[32m━━━━━━━━━━━━━━━━━━━━\u001b[0m\u001b[37m\u001b[0m \u001b[1m0s\u001b[0m 10ms/step - accuracy: 0.4812 - loss: 0.7468 - val_accuracy: 0.4872 - val_loss: 0.7041\n",
            "Epoch 6/40\n",
            "\u001b[1m10/10\u001b[0m \u001b[32m━━━━━━━━━━━━━━━━━━━━\u001b[0m\u001b[37m\u001b[0m \u001b[1m0s\u001b[0m 9ms/step - accuracy: 0.4664 - loss: 0.7350 - val_accuracy: 0.4872 - val_loss: 0.7015\n",
            "Epoch 7/40\n",
            "\u001b[1m10/10\u001b[0m \u001b[32m━━━━━━━━━━━━━━━━━━━━\u001b[0m\u001b[37m\u001b[0m \u001b[1m0s\u001b[0m 13ms/step - accuracy: 0.4259 - loss: 0.7568 - val_accuracy: 0.4872 - val_loss: 0.6996\n",
            "Epoch 8/40\n",
            "\u001b[1m10/10\u001b[0m \u001b[32m━━━━━━━━━━━━━━━━━━━━\u001b[0m\u001b[37m\u001b[0m \u001b[1m0s\u001b[0m 9ms/step - accuracy: 0.4598 - loss: 0.7182 - val_accuracy: 0.4615 - val_loss: 0.6983\n",
            "Epoch 9/40\n",
            "\u001b[1m10/10\u001b[0m \u001b[32m━━━━━━━━━━━━━━━━━━━━\u001b[0m\u001b[37m\u001b[0m \u001b[1m0s\u001b[0m 13ms/step - accuracy: 0.4849 - loss: 0.7096 - val_accuracy: 0.4872 - val_loss: 0.6975\n",
            "Epoch 10/40\n",
            "\u001b[1m10/10\u001b[0m \u001b[32m━━━━━━━━━━━━━━━━━━━━\u001b[0m\u001b[37m\u001b[0m \u001b[1m0s\u001b[0m 15ms/step - accuracy: 0.4625 - loss: 0.7353 - val_accuracy: 0.5641 - val_loss: 0.6966\n",
            "Epoch 11/40\n",
            "\u001b[1m10/10\u001b[0m \u001b[32m━━━━━━━━━━━━━━━━━━━━\u001b[0m\u001b[37m\u001b[0m \u001b[1m0s\u001b[0m 13ms/step - accuracy: 0.4732 - loss: 0.7296 - val_accuracy: 0.5641 - val_loss: 0.6959\n",
            "Epoch 12/40\n",
            "\u001b[1m10/10\u001b[0m \u001b[32m━━━━━━━━━━━━━━━━━━━━\u001b[0m\u001b[37m\u001b[0m \u001b[1m0s\u001b[0m 13ms/step - accuracy: 0.5103 - loss: 0.7100 - val_accuracy: 0.5385 - val_loss: 0.6953\n",
            "Epoch 13/40\n",
            "\u001b[1m10/10\u001b[0m \u001b[32m━━━━━━━━━━━━━━━━━━━━\u001b[0m\u001b[37m\u001b[0m \u001b[1m0s\u001b[0m 20ms/step - accuracy: 0.4665 - loss: 0.7033 - val_accuracy: 0.5385 - val_loss: 0.6949\n",
            "Epoch 14/40\n",
            "\u001b[1m10/10\u001b[0m \u001b[32m━━━━━━━━━━━━━━━━━━━━\u001b[0m\u001b[37m\u001b[0m \u001b[1m0s\u001b[0m 16ms/step - accuracy: 0.4331 - loss: 0.7260 - val_accuracy: 0.5641 - val_loss: 0.6947\n",
            "Epoch 15/40\n",
            "\u001b[1m10/10\u001b[0m \u001b[32m━━━━━━━━━━━━━━━━━━━━\u001b[0m\u001b[37m\u001b[0m \u001b[1m0s\u001b[0m 12ms/step - accuracy: 0.5077 - loss: 0.6993 - val_accuracy: 0.5641 - val_loss: 0.6945\n",
            "Epoch 16/40\n",
            "\u001b[1m10/10\u001b[0m \u001b[32m━━━━━━━━━━━━━━━━━━━━\u001b[0m\u001b[37m\u001b[0m \u001b[1m0s\u001b[0m 17ms/step - accuracy: 0.5575 - loss: 0.6909 - val_accuracy: 0.5385 - val_loss: 0.6942\n",
            "Epoch 17/40\n",
            "\u001b[1m10/10\u001b[0m \u001b[32m━━━━━━━━━━━━━━━━━━━━\u001b[0m\u001b[37m\u001b[0m \u001b[1m0s\u001b[0m 18ms/step - accuracy: 0.5156 - loss: 0.6948 - val_accuracy: 0.5385 - val_loss: 0.6940\n",
            "Epoch 18/40\n",
            "\u001b[1m10/10\u001b[0m \u001b[32m━━━━━━━━━━━━━━━━━━━━\u001b[0m\u001b[37m\u001b[0m \u001b[1m0s\u001b[0m 15ms/step - accuracy: 0.5014 - loss: 0.7168 - val_accuracy: 0.5385 - val_loss: 0.6939\n",
            "Epoch 19/40\n",
            "\u001b[1m10/10\u001b[0m \u001b[32m━━━━━━━━━━━━━━━━━━━━\u001b[0m\u001b[37m\u001b[0m \u001b[1m0s\u001b[0m 12ms/step - accuracy: 0.5260 - loss: 0.7014 - val_accuracy: 0.5385 - val_loss: 0.6938\n",
            "Epoch 20/40\n",
            "\u001b[1m10/10\u001b[0m \u001b[32m━━━━━━━━━━━━━━━━━━━━\u001b[0m\u001b[37m\u001b[0m \u001b[1m0s\u001b[0m 9ms/step - accuracy: 0.5773 - loss: 0.6839 - val_accuracy: 0.5385 - val_loss: 0.6939\n",
            "Epoch 21/40\n",
            "\u001b[1m10/10\u001b[0m \u001b[32m━━━━━━━━━━━━━━━━━━━━\u001b[0m\u001b[37m\u001b[0m \u001b[1m0s\u001b[0m 9ms/step - accuracy: 0.5798 - loss: 0.6819 - val_accuracy: 0.5385 - val_loss: 0.6942\n",
            "Epoch 22/40\n",
            "\u001b[1m10/10\u001b[0m \u001b[32m━━━━━━━━━━━━━━━━━━━━\u001b[0m\u001b[37m\u001b[0m \u001b[1m0s\u001b[0m 9ms/step - accuracy: 0.5483 - loss: 0.6740 - val_accuracy: 0.5385 - val_loss: 0.6944\n",
            "Epoch 23/40\n",
            "\u001b[1m10/10\u001b[0m \u001b[32m━━━━━━━━━━━━━━━━━━━━\u001b[0m\u001b[37m\u001b[0m \u001b[1m0s\u001b[0m 9ms/step - accuracy: 0.5497 - loss: 0.6861 - val_accuracy: 0.5385 - val_loss: 0.6948\n",
            "Epoch 24/40\n",
            "\u001b[1m10/10\u001b[0m \u001b[32m━━━━━━━━━━━━━━━━━━━━\u001b[0m\u001b[37m\u001b[0m \u001b[1m0s\u001b[0m 10ms/step - accuracy: 0.5721 - loss: 0.6850 - val_accuracy: 0.5385 - val_loss: 0.6952\n",
            "Epoch 25/40\n",
            "\u001b[1m10/10\u001b[0m \u001b[32m━━━━━━━━━━━━━━━━━━━━\u001b[0m\u001b[37m\u001b[0m \u001b[1m0s\u001b[0m 11ms/step - accuracy: 0.5425 - loss: 0.6935 - val_accuracy: 0.5385 - val_loss: 0.6956\n",
            "Epoch 26/40\n",
            "\u001b[1m10/10\u001b[0m \u001b[32m━━━━━━━━━━━━━━━━━━━━\u001b[0m\u001b[37m\u001b[0m \u001b[1m0s\u001b[0m 10ms/step - accuracy: 0.5499 - loss: 0.6840 - val_accuracy: 0.5385 - val_loss: 0.6960\n",
            "Epoch 27/40\n",
            "\u001b[1m10/10\u001b[0m \u001b[32m━━━━━━━━━━━━━━━━━━━━\u001b[0m\u001b[37m\u001b[0m \u001b[1m0s\u001b[0m 9ms/step - accuracy: 0.5861 - loss: 0.6813 - val_accuracy: 0.5385 - val_loss: 0.6964\n",
            "Epoch 28/40\n",
            "\u001b[1m10/10\u001b[0m \u001b[32m━━━━━━━━━━━━━━━━━━━━\u001b[0m\u001b[37m\u001b[0m \u001b[1m0s\u001b[0m 9ms/step - accuracy: 0.5916 - loss: 0.6755 - val_accuracy: 0.5385 - val_loss: 0.6969\n",
            "Epoch 29/40\n",
            "\u001b[1m10/10\u001b[0m \u001b[32m━━━━━━━━━━━━━━━━━━━━\u001b[0m\u001b[37m\u001b[0m \u001b[1m0s\u001b[0m 9ms/step - accuracy: 0.5909 - loss: 0.6662 - val_accuracy: 0.5385 - val_loss: 0.6975\n",
            "Epoch 30/40\n",
            "\u001b[1m10/10\u001b[0m \u001b[32m━━━━━━━━━━━━━━━━━━━━\u001b[0m\u001b[37m\u001b[0m \u001b[1m0s\u001b[0m 9ms/step - accuracy: 0.6009 - loss: 0.6685 - val_accuracy: 0.5385 - val_loss: 0.6980\n",
            "Epoch 31/40\n",
            "\u001b[1m10/10\u001b[0m \u001b[32m━━━━━━━━━━━━━━━━━━━━\u001b[0m\u001b[37m\u001b[0m \u001b[1m0s\u001b[0m 10ms/step - accuracy: 0.6121 - loss: 0.6623 - val_accuracy: 0.5128 - val_loss: 0.6984\n",
            "Epoch 32/40\n",
            "\u001b[1m10/10\u001b[0m \u001b[32m━━━━━━━━━━━━━━━━━━━━\u001b[0m\u001b[37m\u001b[0m \u001b[1m0s\u001b[0m 9ms/step - accuracy: 0.5914 - loss: 0.6661 - val_accuracy: 0.5128 - val_loss: 0.6987\n",
            "Epoch 33/40\n",
            "\u001b[1m10/10\u001b[0m \u001b[32m━━━━━━━━━━━━━━━━━━━━\u001b[0m\u001b[37m\u001b[0m \u001b[1m0s\u001b[0m 11ms/step - accuracy: 0.6164 - loss: 0.6509 - val_accuracy: 0.5128 - val_loss: 0.6989\n",
            "Epoch 34/40\n",
            "\u001b[1m10/10\u001b[0m \u001b[32m━━━━━━━━━━━━━━━━━━━━\u001b[0m\u001b[37m\u001b[0m \u001b[1m0s\u001b[0m 9ms/step - accuracy: 0.6094 - loss: 0.6674 - val_accuracy: 0.5128 - val_loss: 0.6992\n",
            "Epoch 35/40\n",
            "\u001b[1m10/10\u001b[0m \u001b[32m━━━━━━━━━━━━━━━━━━━━\u001b[0m\u001b[37m\u001b[0m \u001b[1m0s\u001b[0m 9ms/step - accuracy: 0.6118 - loss: 0.6617 - val_accuracy: 0.5128 - val_loss: 0.6996\n",
            "Epoch 36/40\n",
            "\u001b[1m10/10\u001b[0m \u001b[32m━━━━━━━━━━━━━━━━━━━━\u001b[0m\u001b[37m\u001b[0m \u001b[1m0s\u001b[0m 9ms/step - accuracy: 0.6236 - loss: 0.6570 - val_accuracy: 0.5385 - val_loss: 0.7000\n",
            "Epoch 37/40\n",
            "\u001b[1m10/10\u001b[0m \u001b[32m━━━━━━━━━━━━━━━━━━━━\u001b[0m\u001b[37m\u001b[0m \u001b[1m0s\u001b[0m 9ms/step - accuracy: 0.5931 - loss: 0.6713 - val_accuracy: 0.5385 - val_loss: 0.7003\n",
            "Epoch 38/40\n",
            "\u001b[1m10/10\u001b[0m \u001b[32m━━━━━━━━━━━━━━━━━━━━\u001b[0m\u001b[37m\u001b[0m \u001b[1m0s\u001b[0m 9ms/step - accuracy: 0.6107 - loss: 0.6662 - val_accuracy: 0.5385 - val_loss: 0.7008\n",
            "Epoch 39/40\n",
            "\u001b[1m10/10\u001b[0m \u001b[32m━━━━━━━━━━━━━━━━━━━━\u001b[0m\u001b[37m\u001b[0m \u001b[1m0s\u001b[0m 10ms/step - accuracy: 0.5936 - loss: 0.6710 - val_accuracy: 0.5385 - val_loss: 0.7012\n",
            "Epoch 40/40\n",
            "\u001b[1m10/10\u001b[0m \u001b[32m━━━━━━━━━━━━━━━━━━━━\u001b[0m\u001b[37m\u001b[0m \u001b[1m0s\u001b[0m 9ms/step - accuracy: 0.5890 - loss: 0.6526 - val_accuracy: 0.5385 - val_loss: 0.7016\n"
          ]
        }
      ]
    },
    {
      "cell_type": "markdown",
      "source": [
        "Compile the Model"
      ],
      "metadata": {
        "id": "SdSHs3Wi5_bo"
      }
    },
    {
      "cell_type": "markdown",
      "source": [
        "Summary of the Model"
      ],
      "metadata": {
        "id": "7JyQ_eMg71f0"
      }
    },
    {
      "cell_type": "code",
      "source": [
        "model.summary()"
      ],
      "metadata": {
        "colab": {
          "base_uri": "https://localhost:8080/",
          "height": 209
        },
        "id": "344hOn-q7zzg",
        "outputId": "9e835431-efe6-41b5-c666-2af08ff40290"
      },
      "execution_count": null,
      "outputs": [
        {
          "output_type": "display_data",
          "data": {
            "text/plain": [
              "\u001b[1mModel: \"sequential_1\"\u001b[0m\n"
            ],
            "text/html": [
              "<pre style=\"white-space:pre;overflow-x:auto;line-height:normal;font-family:Menlo,'DejaVu Sans Mono',consolas,'Courier New',monospace\"><span style=\"font-weight: bold\">Model: \"sequential_1\"</span>\n",
              "</pre>\n"
            ]
          },
          "metadata": {}
        },
        {
          "output_type": "display_data",
          "data": {
            "text/plain": [
              "┏━━━━━━━━━━━━━━━━━━━━━━━━━━━━━━━━━┳━━━━━━━━━━━━━━━━━━━━━━━━┳━━━━━━━━━━━━━━━┓\n",
              "┃\u001b[1m \u001b[0m\u001b[1mLayer (type)                   \u001b[0m\u001b[1m \u001b[0m┃\u001b[1m \u001b[0m\u001b[1mOutput Shape          \u001b[0m\u001b[1m \u001b[0m┃\u001b[1m \u001b[0m\u001b[1m      Param #\u001b[0m\u001b[1m \u001b[0m┃\n",
              "┡━━━━━━━━━━━━━━━━━━━━━━━━━━━━━━━━━╇━━━━━━━━━━━━━━━━━━━━━━━━╇━━━━━━━━━━━━━━━┩\n",
              "│ dense_2 (\u001b[38;5;33mDense\u001b[0m)                 │ (\u001b[38;5;45mNone\u001b[0m, \u001b[38;5;34m16\u001b[0m)             │           \u001b[38;5;34m416\u001b[0m │\n",
              "├─────────────────────────────────┼────────────────────────┼───────────────┤\n",
              "│ dense_3 (\u001b[38;5;33mDense\u001b[0m)                 │ (\u001b[38;5;45mNone\u001b[0m, \u001b[38;5;34m1\u001b[0m)              │            \u001b[38;5;34m17\u001b[0m │\n",
              "└─────────────────────────────────┴────────────────────────┴───────────────┘\n"
            ],
            "text/html": [
              "<pre style=\"white-space:pre;overflow-x:auto;line-height:normal;font-family:Menlo,'DejaVu Sans Mono',consolas,'Courier New',monospace\">┏━━━━━━━━━━━━━━━━━━━━━━━━━━━━━━━━━┳━━━━━━━━━━━━━━━━━━━━━━━━┳━━━━━━━━━━━━━━━┓\n",
              "┃<span style=\"font-weight: bold\"> Layer (type)                    </span>┃<span style=\"font-weight: bold\"> Output Shape           </span>┃<span style=\"font-weight: bold\">       Param # </span>┃\n",
              "┡━━━━━━━━━━━━━━━━━━━━━━━━━━━━━━━━━╇━━━━━━━━━━━━━━━━━━━━━━━━╇━━━━━━━━━━━━━━━┩\n",
              "│ dense_2 (<span style=\"color: #0087ff; text-decoration-color: #0087ff\">Dense</span>)                 │ (<span style=\"color: #00d7ff; text-decoration-color: #00d7ff\">None</span>, <span style=\"color: #00af00; text-decoration-color: #00af00\">16</span>)             │           <span style=\"color: #00af00; text-decoration-color: #00af00\">416</span> │\n",
              "├─────────────────────────────────┼────────────────────────┼───────────────┤\n",
              "│ dense_3 (<span style=\"color: #0087ff; text-decoration-color: #0087ff\">Dense</span>)                 │ (<span style=\"color: #00d7ff; text-decoration-color: #00d7ff\">None</span>, <span style=\"color: #00af00; text-decoration-color: #00af00\">1</span>)              │            <span style=\"color: #00af00; text-decoration-color: #00af00\">17</span> │\n",
              "└─────────────────────────────────┴────────────────────────┴───────────────┘\n",
              "</pre>\n"
            ]
          },
          "metadata": {}
        },
        {
          "output_type": "display_data",
          "data": {
            "text/plain": [
              "\u001b[1m Total params: \u001b[0m\u001b[38;5;34m435\u001b[0m (1.70 KB)\n"
            ],
            "text/html": [
              "<pre style=\"white-space:pre;overflow-x:auto;line-height:normal;font-family:Menlo,'DejaVu Sans Mono',consolas,'Courier New',monospace\"><span style=\"font-weight: bold\"> Total params: </span><span style=\"color: #00af00; text-decoration-color: #00af00\">435</span> (1.70 KB)\n",
              "</pre>\n"
            ]
          },
          "metadata": {}
        },
        {
          "output_type": "display_data",
          "data": {
            "text/plain": [
              "\u001b[1m Trainable params: \u001b[0m\u001b[38;5;34m433\u001b[0m (1.69 KB)\n"
            ],
            "text/html": [
              "<pre style=\"white-space:pre;overflow-x:auto;line-height:normal;font-family:Menlo,'DejaVu Sans Mono',consolas,'Courier New',monospace\"><span style=\"font-weight: bold\"> Trainable params: </span><span style=\"color: #00af00; text-decoration-color: #00af00\">433</span> (1.69 KB)\n",
              "</pre>\n"
            ]
          },
          "metadata": {}
        },
        {
          "output_type": "display_data",
          "data": {
            "text/plain": [
              "\u001b[1m Non-trainable params: \u001b[0m\u001b[38;5;34m0\u001b[0m (0.00 B)\n"
            ],
            "text/html": [
              "<pre style=\"white-space:pre;overflow-x:auto;line-height:normal;font-family:Menlo,'DejaVu Sans Mono',consolas,'Courier New',monospace\"><span style=\"font-weight: bold\"> Non-trainable params: </span><span style=\"color: #00af00; text-decoration-color: #00af00\">0</span> (0.00 B)\n",
              "</pre>\n"
            ]
          },
          "metadata": {}
        },
        {
          "output_type": "display_data",
          "data": {
            "text/plain": [
              "\u001b[1m Optimizer params: \u001b[0m\u001b[38;5;34m2\u001b[0m (12.00 B)\n"
            ],
            "text/html": [
              "<pre style=\"white-space:pre;overflow-x:auto;line-height:normal;font-family:Menlo,'DejaVu Sans Mono',consolas,'Courier New',monospace\"><span style=\"font-weight: bold\"> Optimizer params: </span><span style=\"color: #00af00; text-decoration-color: #00af00\">2</span> (12.00 B)\n",
              "</pre>\n"
            ]
          },
          "metadata": {}
        }
      ]
    },
    {
      "cell_type": "markdown",
      "source": [
        "Train Model"
      ],
      "metadata": {
        "id": "G_w2ilg26wEB"
      }
    },
    {
      "cell_type": "markdown",
      "source": [
        "Accuracy And Loss Curves"
      ],
      "metadata": {
        "id": "G-N3mKN66866"
      }
    },
    {
      "cell_type": "code",
      "source": [
        "import matplotlib.pyplot as plt\n",
        "\n",
        "# Accuracy plot\n",
        "plt.figure(figsize=(10, 4))\n",
        "plt.subplot(1, 2, 1)\n",
        "plt.plot(history.history['accuracy'], label='Train Acc')\n",
        "plt.plot(history.history['val_accuracy'], label='Val Acc')\n",
        "plt.title('Accuracy Over Epochs')\n",
        "plt.xlabel('Epoch')\n",
        "plt.ylabel('Accuracy')\n",
        "plt.legend()\n",
        "\n",
        "# Loss plot\n",
        "plt.subplot(1, 2, 2)\n",
        "plt.plot(history.history['loss'], label='Train Loss')\n",
        "plt.plot(history.history['val_loss'], label='Val Loss')\n",
        "plt.title('Loss Over Epochs')\n",
        "plt.xlabel('Epoch')\n",
        "plt.ylabel('Loss')\n",
        "plt.legend()\n",
        "\n",
        "plt.tight_layout()\n",
        "plt.show()"
      ],
      "metadata": {
        "colab": {
          "base_uri": "https://localhost:8080/",
          "height": 407
        },
        "id": "Wp1lCsT160tO",
        "outputId": "a68bf5b3-3bf5-48f1-c081-252543501742"
      },
      "execution_count": null,
      "outputs": [
        {
          "output_type": "display_data",
          "data": {
            "text/plain": [
              "<Figure size 1000x400 with 2 Axes>"
            ],
            "image/png": "[encoded data removed]"
          },
          "metadata": {}
        }
      ]
    },
    {
      "cell_type": "markdown",
      "source": [
        "Confusion Metrix"
      ],
      "metadata": {
        "id": "W95JHKWD7D6L"
      }
    },
    {
      "cell_type": "code",
      "source": [
        "from sklearn.metrics import accuracy_score, confusion_matrix, classification_report\n",
        "import matplotlib.pyplot as plt\n",
        "import seaborn as sns\n",
        "\n",
        "# Predictions on test set (probabilities)\n",
        "y_pred_probs = model.predict(X_test)\n",
        "\n",
        "# Convert probabilities to class labels (0 or 1)\n",
        "y_pred = (y_pred_probs > 0.5).astype(int)\n",
        "\n",
        "# Accuracy\n",
        "test_accuracy = accuracy_score(y_test, y_pred)\n",
        "print(\"Test Accuracy:\", test_accuracy)\n",
        "\n",
        "# Confusion Matrix\n",
        "cm = confusion_matrix(y_test, y_pred)\n",
        "sns.heatmap(cm, annot=True, fmt='d', cmap='Blues', xticklabels=[\"No Diabetes\", \"Diabetes\"], yticklabels=[\"No Diabetes\", \"Diabetes\"])\n",
        "plt.xlabel(\"Predicted\")\n",
        "plt.ylabel(\"Actual\")\n",
        "plt.title(\"Confusion Matrix\")\n",
        "plt.show()\n"
      ],
      "metadata": {
        "colab": {
          "base_uri": "https://localhost:8080/",
          "height": 508
        },
        "id": "HAn5kZMR7AhI",
        "outputId": "ee3f83d7-f60e-4581-833f-c88abf1015e8"
      },
      "execution_count": null,
      "outputs": [
        {
          "output_type": "stream",
          "name": "stdout",
          "text": [
            "\u001b[1m2/2\u001b[0m \u001b[32m━━━━━━━━━━━━━━━━━━━━\u001b[0m\u001b[37m\u001b[0m \u001b[1m0s\u001b[0m 47ms/step\n",
            "Test Accuracy: 0.5384615384615384\n"
          ]
        },
        {
          "output_type": "display_data",
          "data": {
            "text/plain": [
              "<Figure size 640x480 with 2 Axes>"
            ],
            "image/png": "[encoded data removed]"
          },
          "metadata": {}
        }
      ]
    },
    {
      "cell_type": "markdown",
      "source": [
        "Classification Report"
      ],
      "metadata": {
        "id": "4cVjlOWx7ZKL"
      }
    },
    {
      "cell_type": "code",
      "source": [
        "print(classification_report(y_test, y_pred))"
      ],
      "metadata": {
        "colab": {
          "base_uri": "https://localhost:8080/"
        },
        "id": "DyeHg-YA7Kvz",
        "outputId": "6903c618-48f0-4662-f1b7-bda36fa07042"
      },
      "execution_count": null,
      "outputs": [
        {
          "output_type": "stream",
          "name": "stdout",
          "text": [
            "              precision    recall  f1-score   support\n",
            "\n",
            "           0       0.55      0.76      0.64        21\n",
            "           1       0.50      0.28      0.36        18\n",
            "\n",
            "    accuracy                           0.54        39\n",
            "   macro avg       0.53      0.52      0.50        39\n",
            "weighted avg       0.53      0.54      0.51        39\n",
            "\n"
          ]
        }
      ]
    },
    {
      "cell_type": "markdown",
      "source": [
        "ROC and AUC score"
      ],
      "metadata": {
        "id": "ZMjb-nuL7jS2"
      }
    },
    {
      "cell_type": "code",
      "source": [
        "from sklearn.metrics import roc_curve, auc\n",
        "\n",
        "fpr, tpr, thresholds = roc_curve(y_test, y_pred_probs)\n",
        "roc_auc = auc(fpr, tpr)\n",
        "\n",
        "plt.figure()\n",
        "plt.plot(fpr, tpr, color='darkorange', lw=2, label='AUC = %0.2f' % roc_auc)\n",
        "plt.plot([0, 1], [0, 1], color='navy', lw=2, linestyle='--')\n",
        "plt.title('Receiver Operating Characteristic (ROC)')\n",
        "plt.xlabel('False Positive Rate')\n",
        "plt.ylabel('True Positive Rate')\n",
        "plt.legend(loc='lower right')\n",
        "plt.show()\n",
        "\n",
        "print(\"AUC Score:\", roc_auc)"
      ],
      "metadata": {
        "colab": {
          "base_uri": "https://localhost:8080/",
          "height": 490
        },
        "id": "_gTYd29U7d6H",
        "outputId": "a174cf0a-b250-4df5-b42f-9a516ee65ed0"
      },
      "execution_count": null,
      "outputs": [
        {
          "output_type": "display_data",
          "data": {
            "text/plain": [
              "<Figure size 640x480 with 1 Axes>"
            ],
            "image/png": "[encoded data removed]"
          },
          "metadata": {}
        },
        {
          "output_type": "stream",
          "name": "stdout",
          "text": [
            "AUC Score: 0.46560846560846564\n"
          ]
        }
      ]
    },
    {
      "cell_type": "code",
      "source": [],
      "metadata": {
        "id": "JFj_X9Sl7pH8"
      },
      "execution_count": null,
      "outputs": []
    }
  ]
}